{
 "cells": [
  {
   "cell_type": "code",
   "execution_count": 1,
   "metadata": {},
   "outputs": [],
   "source": [
    "#import files\n",
    "import json\n",
    "import zstandard as zstd\n",
    "import tldextract\n",
    "import numpy as np\n",
    "import pandas as pd\n",
    "import scipy.sparse\n",
    "import shutil\n",
    "import pickle\n",
    "import time\n",
    "from scipy.sparse import csr_matrix,coo_matrix\n",
    "from pandas.api.types import CategoricalDtype\n",
    "import random\n",
    "from scipy.sparse.linalg import spsolve\n",
    "import implicit\n",
    "from sklearn import metrics\n",
    "from sklearn.preprocessing import MinMaxScaler\n",
    "import os\n",
    "from sklearn.metrics import ndcg_score\n",
    "os.environ['MKL_NUM_THREADS'] = '1' #To avoid multithreading.\n",
    "os.environ['OPENBLAS_NUM_THREADS'] = '1'"
   ]
  },
  {
   "cell_type": "code",
   "execution_count": 2,
   "metadata": {},
   "outputs": [],
   "source": [
    "#function to save large files\n",
    "#change to protocol 0 for text output\n",
    "def save_obj(obj, file_path_name):\n",
    "    with open(file_path_name + '.pkl', 'wb') as f:\n",
    "        pickle.dump(obj, f, pickle.HIGHEST_PROTOCOL)\n",
    "\n",
    "def load_obj(file_path_name):\n",
    "    with open(file_path_name + '.pkl', 'rb') as f:\n",
    "        return pickle.load(f)"
   ]
  },
  {
   "cell_type": "markdown",
   "metadata": {},
   "source": [
    "## Required Domain list"
   ]
  },
  {
   "cell_type": "code",
   "execution_count": 3,
   "metadata": {},
   "outputs": [],
   "source": [
    "news_domain_df = pd.read_csv(\"/research/cbuntain/projects/recsys.trajectories/datafiles/fb_domain_ideology.csv\", sep=\",\")\n",
    "# shows top 10 rows\n",
    "#print(news_domain_df.head(5))\n",
    "news_domain_list = news_domain_df['domain'].tolist()"
   ]
  },
  {
   "cell_type": "markdown",
   "metadata": {},
   "source": [
    "## Decompress Twitter files"
   ]
  },
  {
   "cell_type": "code",
   "execution_count": 4,
   "metadata": {},
   "outputs": [],
   "source": [
    "# Here twitter 2020-04 files are decompressed in 3 lots. Each lot has 240 .gz files. They are stored in .../datafiles/2020-04_twitter/\n",
    "#command example:\n",
    "# Lot1\n",
    "# cp statuses.log.2020-04-0[1-9]* /research/cbuntain/projects/recsys.trajectories/datafiles/202004_twitter/Lot1/\n",
    "# cp statuses.log.2020-04-10-* /research/cbuntain/projects/recsys.trajectories/datafiles/202004_twitter/Lot1/\n",
    "\n",
    "\n",
    "# Lot2\n",
    "# cp statuses.log.2020-04-1[1-9]* /research/cbuntain/projects/recsys.trajectories/datafiles/202004_twitter/Lot2/\n",
    "# cp statuses.log.2020-04-20-* /research/cbuntain/projects/recsys.trajectories/datafiles/202004_twitter/Lot2/\n",
    "\n",
    "\n",
    "# Lot3\n",
    "# cp statuses.log.2020-04-2[1-9]* /research/cbuntain/projects/recsys.trajectories/datafiles/202004_twitter/Lot3/\n",
    "# cp statuses.log.2020-04-30-* /research/cbuntain/projects/recsys.trajectories/datafiles/202004_twitter/Lot3/\n",
    "# Lot1: 2020-04-01 to 2020-04-10\n",
    "# Lot2: 2020-04-11 to 2020-04-20\n",
    "# Lot3: 2020-04-21 to 2020-04-30\n",
    "\n",
    "# This function uses glob to select multiple .gz files together to get decompressed.\n",
    "\n",
    "def decompress_multiple_gz_to_folder(input_file_path, output_file):\n",
    "    print('Decompressing gz files')\n",
    "    with open(output_file, 'wb') as f_out:\n",
    "        for fname in glob(input_file_path):\n",
    "            start_time = time.perf_counter()\n",
    "            with gzip.open(fname, 'rb') as f_in:\n",
    "                f_out.writelines(f_in)\n",
    "    print('complete')\n",
    "    print('time: ' , time.perf_counter()-start_time)       "
   ]
  },
  {
   "cell_type": "code",
   "execution_count": 9,
   "metadata": {},
   "outputs": [],
   "source": [
    "file_path = \"/research/cbuntain/projects/recsys.trajectories/datafiles/Extracted_files/\""
   ]
  },
  {
   "cell_type": "code",
   "execution_count": 15,
   "metadata": {},
   "outputs": [
    {
     "name": "stdout",
     "output_type": "stream",
     "text": [
      "Extracting files\n",
      "complete\n",
      "time:  7.4822979755699635\n"
     ]
    }
   ],
   "source": [
    "#lot1- 2020-04-01* to 2020-04-10*\n",
    "\n",
    "decompress_multiple_gz_to_folder(\"/research/cbuntain/projects/recsys.trajectories/datafiles/202004_twitter/Lot1/*gz\",\n",
    "                                \"/research/cbuntain/projects/recsys.trajectories/datafiles/Extracted_files/decompressed_twitter_lot1.txt\")\n"
   ]
  },
  {
   "cell_type": "code",
   "execution_count": 20,
   "metadata": {},
   "outputs": [
    {
     "name": "stdout",
     "output_type": "stream",
     "text": [
      "Extracting files\n",
      "complete\n",
      "time:  8.601083085872233\n"
     ]
    }
   ],
   "source": [
    "#lot2- 2020-04-11* to 2020-04-20*\n",
    "\n",
    "decompress_multiple_gz_to_folder(\"/research/cbuntain/projects/recsys.trajectories/datafiles/202004_twitter/Lot2/*gz\",\n",
    "                                \"/research/cbuntain/projects/recsys.trajectories/datafiles/Extracted_files/decompressed_twitter_lot2.txt\")\n"
   ]
  },
  {
   "cell_type": "code",
   "execution_count": 5,
   "metadata": {},
   "outputs": [
    {
     "name": "stdout",
     "output_type": "stream",
     "text": [
      "Decompressing gz files\n",
      "complete\n",
      "time:  6.551221293862909\n"
     ]
    }
   ],
   "source": [
    "#lot3- 2020-04-21* to 2020-04-30*\n",
    "\n",
    "decompress_multiple_gz_to_folder(\"/research/cbuntain/projects/recsys.trajectories/datafiles/202004_twitter/Lot3/*gz\",\n",
    "                                \"/research/cbuntain/projects/recsys.trajectories/datafiles/Extracted_files/decompressed_twitter_lot3.txt\")\n"
   ]
  },
  {
   "cell_type": "code",
   "execution_count": 6,
   "metadata": {},
   "outputs": [
    {
     "name": "stdout",
     "output_type": "stream",
     "text": [
      "{\"in_reply_to_status_id_str\":null,\"in_reply_to_status_id\":null,\"created_at\":\"Mon Apr 20 23:59:56 +0000 2020\",\"in_reply_to_user_id_str\":null,\"source\":\"<a href=\\\"https://mobile.twitter.com\\\" rel=\\\"nofollow\\\">Twitter Web App<\\/a>\",\"retweet_count\":0,\"retweeted\":false,\"geo\":null,\"filter_level\":\"low\",\"in_reply_to_screen_name\":null,\"is_quote_status\":false,\"id_str\":\"1252386551104827394\",\"in_reply_to_user_id\":null,\"favorite_count\":0,\"id\":1252386551104827394,\"text\":\"COMO É QUE EU POSSO VOMITAR BATATA SE EU COMI REPOLHO\",\"place\":null,\"lang\":\"pt\",\"quote_count\":0,\"favorited\":false,\"coordinates\":null,\"truncated\":false,\"timestamp_ms\":\"1587427196657\",\"reply_count\":0,\"entities\":{\"urls\":[],\"hashtags\":[],\"user_mentions\":[],\"symbols\":[]},\"contributors\":null,\"user\":{\"utc_offset\":null,\"friends_count\":155,\"profile_image_url_https\":\"https://pbs.twimg.com/profile_images/1250493281684934665/dK3RoEBo_normal.jpg\",\"listed_count\":5,\"profile_background_image_url\":\"http://abs.twimg.com/images/themes/theme1/bg.png\",\"default_profile_image\":false,\"favourites_count\":823,\"description\":\"dos amores antigos, o maior.\",\"created_at\":\"Wed Jul 04 20:36:03 +0000 2012\",\"is_translator\":false,\"profile_background_image_url_https\":\"https://abs.twimg.com/images/themes/theme1/bg.png\",\"protected\":false,\"screen_name\":\"livelrds\",\"id_str\":\"626769967\",\"profile_link_color\":\"000000\",\"translator_type\":\"regular\",\"id\":626769967,\"geo_enabled\":false,\"profile_background_color\":\"FAFAFA\",\"lang\":null,\"profile_sidebar_border_color\":\"FFFFFF\",\"profile_text_color\":\"333333\",\"verified\":false,\"profile_image_url\":\"http://pbs.twimg.com/profile_images/1250493281684934665/dK3RoEBo_normal.jpg\",\"time_zone\":null,\"url\":null,\"contributors_enabled\":false,\"profile_background_tile\":true,\"profile_banner_url\":\"https://pbs.twimg.com/profile_banners/626769967/1547987562\",\"statuses_count\":98176,\"follow_request_sent\":null,\"followers_count\":959,\"profile_use_background_image\":false,\"default_profile\":false,\"following\":null,\"name\":\"a.\",\"location\":null,\"profile_sidebar_fill_color\":\"DDEEF6\",\"notifications\":null}}\n",
      "\n"
     ]
    }
   ],
   "source": [
    "#Testing decompress file\n",
    "f = open('/research/cbuntain/projects/recsys.trajectories/datafiles/Extracted_files/decompressed_twitter_lot3.txt', 'r')\n",
    "for i in range(1):\n",
    "    print(f.readline())"
   ]
  },
  {
   "cell_type": "markdown",
   "metadata": {},
   "source": [
    "## Build relations file"
   ]
  },
  {
   "cell_type": "code",
   "execution_count": 7,
   "metadata": {},
   "outputs": [],
   "source": [
    "#this function helps in extracting user with their respective shared domains\n",
    "\n",
    "def build_relations_file(read_file, write_file):\n",
    "    with open(write_file, 'w') as f:\n",
    "        with open(read_file, 'rb') as fh:\n",
    "            print('trying to read file')\n",
    "            #iterates each line\n",
    "            print('looping')\n",
    "            start_time = time.perf_counter()\n",
    "            num_unshortened_urls = 0\n",
    "            for line in fh:\n",
    "                try:\n",
    "                    object = json.loads(line)\n",
    "                    urls_in_tweet = object['entities']['urls']\n",
    "                    #remove indices\n",
    "                    for e in urls_in_tweet:\n",
    "                        e.pop('indices', None)\n",
    "                    \n",
    "                    if len(object['entities'][\"urls\"])>0:\n",
    "                        for key, value in urls_in_tweet[0].items():\n",
    "                            domains = tldextract.extract(value).registered_domain.lower()\n",
    "                            if domains in news_domain_list:\n",
    "                                num_unshortened_urls += 1\n",
    "                                f.write( domains + \" \" + object['user']['screen_name'] + '\\n')\n",
    "                except Exception as e:\n",
    "                        print('read/loop error: ')\n",
    "                        print(e)\n",
    "    print('complete')\n",
    "    print('time: ' , time.perf_counter()-start_time)\n",
    "    print('unshortened ', num_unshortened_urls, ' urls')"
   ]
  },
  {
   "cell_type": "code",
   "execution_count": 17,
   "metadata": {},
   "outputs": [
    {
     "name": "stdout",
     "output_type": "stream",
     "text": [
      "trying to read file\n",
      "looping\n",
      "complete\n",
      "time:  7212.16423040349\n",
      "unshortened  6690888  urls\n"
     ]
    }
   ],
   "source": [
    "#lot1- 2020-04-01* to 2020-04-10*\n",
    "\n",
    "build_relations_file(file_path+\"decompressed_twitter_lot1.txt\",file_path+\"relations_twitter_lot1.txt\")\n"
   ]
  },
  {
   "cell_type": "code",
   "execution_count": 22,
   "metadata": {},
   "outputs": [
    {
     "name": "stdout",
     "output_type": "stream",
     "text": [
      "trying to read file\n",
      "looping\n",
      "complete\n",
      "time:  5639.5730485878885\n",
      "unshortened  6580122  urls\n"
     ]
    }
   ],
   "source": [
    "#lot2- 2020-04-11* to 2020-04-20*\n",
    "\n",
    "build_relations_file(file_path+\"decompressed_twitter_lot2.txt\",file_path+\"relations_twitter_lot2.txt\")\n"
   ]
  },
  {
   "cell_type": "code",
   "execution_count": 10,
   "metadata": {},
   "outputs": [
    {
     "name": "stdout",
     "output_type": "stream",
     "text": [
      "trying to read file\n",
      "looping\n",
      "complete\n",
      "time:  4809.659521274269\n",
      "unshortened  6709794  urls\n"
     ]
    }
   ],
   "source": [
    "#lot3- 2020-04-21* to 2020-04-30*\n",
    "\n",
    "build_relations_file(file_path+\"decompressed_twitter_lot3.txt\",file_path+\"relations_twitter_lot3.txt\")\n"
   ]
  },
  {
   "cell_type": "code",
   "execution_count": 11,
   "metadata": {},
   "outputs": [
    {
     "name": "stdout",
     "output_type": "stream",
     "text": [
      "twitter.com NbintAk\n",
      "\n",
      "twitter.com NbintAk\n",
      "\n",
      "twitter.com CarGoLa18\n",
      "\n",
      "twitter.com CarGoLa18\n",
      "\n",
      "twitter.com aurorareal\n",
      "\n"
     ]
    }
   ],
   "source": [
    "#Testing relations file\n",
    "f = open('/research/cbuntain/projects/recsys.trajectories/datafiles/Extracted_files/relations_twitter_lot3.txt', 'r')\n",
    "for i in range(5):\n",
    "    print(f.readline())"
   ]
  },
  {
   "cell_type": "markdown",
   "metadata": {},
   "source": [
    "## Join all relations file"
   ]
  },
  {
   "cell_type": "code",
   "execution_count": 5,
   "metadata": {},
   "outputs": [],
   "source": [
    "file_path = \"/research/cbuntain/projects/recsys.trajectories/datafiles/Extracted_files/\""
   ]
  },
  {
   "cell_type": "code",
   "execution_count": 12,
   "metadata": {},
   "outputs": [
    {
     "name": "stdout",
     "output_type": "stream",
     "text": [
      "file line count: \n"
     ]
    },
    {
     "data": {
      "text/plain": [
       "6690888"
      ]
     },
     "execution_count": 12,
     "metadata": {},
     "output_type": "execute_result"
    }
   ],
   "source": [
    "#Length of all relations file\n",
    "file_path = \"/research/cbuntain/projects/recsys.trajectories/datafiles/Extracted_files/\"\n",
    "def file_line_count(read_file):\n",
    "    with open(read_file, 'r') as f:\n",
    "        i = 0\n",
    "        for i, l in enumerate(f):\n",
    "            pass\n",
    "        return i+1;\n",
    "print(\"file line count: \")\n",
    "\n",
    "file_line_count(file_path + \"relations_twitter_lot1.txt\")"
   ]
  },
  {
   "cell_type": "code",
   "execution_count": 13,
   "metadata": {},
   "outputs": [
    {
     "data": {
      "text/plain": [
       "6580122"
      ]
     },
     "execution_count": 13,
     "metadata": {},
     "output_type": "execute_result"
    }
   ],
   "source": [
    "file_line_count(file_path + \"relations_twitter_lot2.txt\")"
   ]
  },
  {
   "cell_type": "code",
   "execution_count": 14,
   "metadata": {},
   "outputs": [
    {
     "data": {
      "text/plain": [
       "6709794"
      ]
     },
     "execution_count": 14,
     "metadata": {},
     "output_type": "execute_result"
    }
   ],
   "source": [
    "file_line_count(file_path + \"relations_twitter_lot3.txt\")"
   ]
  },
  {
   "cell_type": "code",
   "execution_count": 15,
   "metadata": {},
   "outputs": [],
   "source": [
    "#Join all the files\n",
    "\n",
    "filenames = [file_path + 'relations_twitter_lot1.txt', \n",
    "             file_path + 'relations_twitter_lot2.txt',\n",
    "             file_path + 'relations_twitter_lot3.txt']\n",
    "with open(file_path + \"relations_twitter_clubbed.txt\", 'w') as outfile:\n",
    "    for fname in filenames:\n",
    "        with open(fname) as infile:\n",
    "            for line in infile:\n",
    "                outfile.write(line)"
   ]
  },
  {
   "cell_type": "code",
   "execution_count": 16,
   "metadata": {},
   "outputs": [
    {
     "data": {
      "text/plain": [
       "19980804"
      ]
     },
     "execution_count": 16,
     "metadata": {},
     "output_type": "execute_result"
    }
   ],
   "source": [
    "file_line_count(file_path + \"relations_twitter_clubbed.txt\")"
   ]
  },
  {
   "cell_type": "markdown",
   "metadata": {},
   "source": [
    "## Building User-Domain Matrix"
   ]
  },
  {
   "cell_type": "code",
   "execution_count": 6,
   "metadata": {},
   "outputs": [],
   "source": [
    "#Make twitter data dataframe from clubbed relations file\n",
    "colnames=['Domain','Username']\n",
    "twitter_df = pd.read_csv(file_path + 'relations_twitter_clubbed.txt', sep=\" \",names = colnames)"
   ]
  },
  {
   "cell_type": "code",
   "execution_count": 7,
   "metadata": {},
   "outputs": [
    {
     "name": "stdout",
     "output_type": "stream",
     "text": [
      "19980804\n",
      "        Domain         Username\n",
      "0    msnbc.com     sagetwitting\n",
      "1    msnbc.com     sagetwitting\n",
      "2  twitter.com    mylittlefaith\n",
      "3  twitter.com    mylittlefaith\n",
      "4  twitter.com  ThakurPrasadSa8\n"
     ]
    }
   ],
   "source": [
    "print(len(twitter_df))\n",
    "print(twitter_df.head(5))"
   ]
  },
  {
   "cell_type": "markdown",
   "metadata": {},
   "source": [
    "### Some basic check on reddit dataframe"
   ]
  },
  {
   "cell_type": "code",
   "execution_count": 8,
   "metadata": {},
   "outputs": [
    {
     "data": {
      "text/html": [
       "<div>\n",
       "<style scoped>\n",
       "    .dataframe tbody tr th:only-of-type {\n",
       "        vertical-align: middle;\n",
       "    }\n",
       "\n",
       "    .dataframe tbody tr th {\n",
       "        vertical-align: top;\n",
       "    }\n",
       "\n",
       "    .dataframe thead th {\n",
       "        text-align: right;\n",
       "    }\n",
       "</style>\n",
       "<table border=\"1\" class=\"dataframe\">\n",
       "  <thead>\n",
       "    <tr style=\"text-align: right;\">\n",
       "      <th></th>\n",
       "      <th>Domain</th>\n",
       "      <th>Username</th>\n",
       "      <th>domain_check</th>\n",
       "    </tr>\n",
       "  </thead>\n",
       "  <tbody>\n",
       "    <tr>\n",
       "      <th>0</th>\n",
       "      <td>msnbc.com</td>\n",
       "      <td>sagetwitting</td>\n",
       "      <td>True</td>\n",
       "    </tr>\n",
       "    <tr>\n",
       "      <th>1</th>\n",
       "      <td>msnbc.com</td>\n",
       "      <td>sagetwitting</td>\n",
       "      <td>True</td>\n",
       "    </tr>\n",
       "    <tr>\n",
       "      <th>2</th>\n",
       "      <td>twitter.com</td>\n",
       "      <td>mylittlefaith</td>\n",
       "      <td>True</td>\n",
       "    </tr>\n",
       "    <tr>\n",
       "      <th>3</th>\n",
       "      <td>twitter.com</td>\n",
       "      <td>mylittlefaith</td>\n",
       "      <td>True</td>\n",
       "    </tr>\n",
       "    <tr>\n",
       "      <th>4</th>\n",
       "      <td>twitter.com</td>\n",
       "      <td>ThakurPrasadSa8</td>\n",
       "      <td>True</td>\n",
       "    </tr>\n",
       "  </tbody>\n",
       "</table>\n",
       "</div>"
      ],
      "text/plain": [
       "        Domain         Username  domain_check\n",
       "0    msnbc.com     sagetwitting          True\n",
       "1    msnbc.com     sagetwitting          True\n",
       "2  twitter.com    mylittlefaith          True\n",
       "3  twitter.com    mylittlefaith          True\n",
       "4  twitter.com  ThakurPrasadSa8          True"
      ]
     },
     "execution_count": 8,
     "metadata": {},
     "output_type": "execute_result"
    }
   ],
   "source": [
    "twitter_df[\"domain_check\"] = twitter_df['Domain'].isin(news_domain_list)\n",
    "twitter_df.head(5)"
   ]
  },
  {
   "cell_type": "code",
   "execution_count": 18,
   "metadata": {},
   "outputs": [
    {
     "data": {
      "text/html": [
       "<div>\n",
       "<style scoped>\n",
       "    .dataframe tbody tr th:only-of-type {\n",
       "        vertical-align: middle;\n",
       "    }\n",
       "\n",
       "    .dataframe tbody tr th {\n",
       "        vertical-align: top;\n",
       "    }\n",
       "\n",
       "    .dataframe thead th {\n",
       "        text-align: right;\n",
       "    }\n",
       "</style>\n",
       "<table border=\"1\" class=\"dataframe\">\n",
       "  <thead>\n",
       "    <tr style=\"text-align: right;\">\n",
       "      <th></th>\n",
       "      <th>Domain</th>\n",
       "      <th>Username</th>\n",
       "      <th>domain_check</th>\n",
       "    </tr>\n",
       "  </thead>\n",
       "  <tbody>\n",
       "    <tr>\n",
       "      <th>19980784</th>\n",
       "      <td>twitter.com</td>\n",
       "      <td>abey_yaar_</td>\n",
       "      <td>True</td>\n",
       "    </tr>\n",
       "    <tr>\n",
       "      <th>19980785</th>\n",
       "      <td>twitter.com</td>\n",
       "      <td>abey_yaar_</td>\n",
       "      <td>True</td>\n",
       "    </tr>\n",
       "    <tr>\n",
       "      <th>19980786</th>\n",
       "      <td>twitter.com</td>\n",
       "      <td>MarioBone</td>\n",
       "      <td>True</td>\n",
       "    </tr>\n",
       "    <tr>\n",
       "      <th>19980787</th>\n",
       "      <td>twitter.com</td>\n",
       "      <td>MarioBone</td>\n",
       "      <td>True</td>\n",
       "    </tr>\n",
       "    <tr>\n",
       "      <th>19980788</th>\n",
       "      <td>twitter.com</td>\n",
       "      <td>aio_hfc</td>\n",
       "      <td>True</td>\n",
       "    </tr>\n",
       "    <tr>\n",
       "      <th>19980789</th>\n",
       "      <td>twitter.com</td>\n",
       "      <td>aio_hfc</td>\n",
       "      <td>True</td>\n",
       "    </tr>\n",
       "    <tr>\n",
       "      <th>19980790</th>\n",
       "      <td>twitter.com</td>\n",
       "      <td>leigh_fall</td>\n",
       "      <td>True</td>\n",
       "    </tr>\n",
       "    <tr>\n",
       "      <th>19980791</th>\n",
       "      <td>twitter.com</td>\n",
       "      <td>leigh_fall</td>\n",
       "      <td>True</td>\n",
       "    </tr>\n",
       "    <tr>\n",
       "      <th>19980792</th>\n",
       "      <td>twitter.com</td>\n",
       "      <td>mariian_suarez</td>\n",
       "      <td>True</td>\n",
       "    </tr>\n",
       "    <tr>\n",
       "      <th>19980793</th>\n",
       "      <td>twitter.com</td>\n",
       "      <td>mariian_suarez</td>\n",
       "      <td>True</td>\n",
       "    </tr>\n",
       "    <tr>\n",
       "      <th>19980794</th>\n",
       "      <td>twitter.com</td>\n",
       "      <td>Sayaka_and_Yui</td>\n",
       "      <td>True</td>\n",
       "    </tr>\n",
       "    <tr>\n",
       "      <th>19980795</th>\n",
       "      <td>twitter.com</td>\n",
       "      <td>Sayaka_and_Yui</td>\n",
       "      <td>True</td>\n",
       "    </tr>\n",
       "    <tr>\n",
       "      <th>19980796</th>\n",
       "      <td>twitter.com</td>\n",
       "      <td>Haji4USA</td>\n",
       "      <td>True</td>\n",
       "    </tr>\n",
       "    <tr>\n",
       "      <th>19980797</th>\n",
       "      <td>twitter.com</td>\n",
       "      <td>Haji4USA</td>\n",
       "      <td>True</td>\n",
       "    </tr>\n",
       "    <tr>\n",
       "      <th>19980798</th>\n",
       "      <td>twitter.com</td>\n",
       "      <td>EAHelp</td>\n",
       "      <td>True</td>\n",
       "    </tr>\n",
       "    <tr>\n",
       "      <th>19980799</th>\n",
       "      <td>twitter.com</td>\n",
       "      <td>EAHelp</td>\n",
       "      <td>True</td>\n",
       "    </tr>\n",
       "    <tr>\n",
       "      <th>19980800</th>\n",
       "      <td>twitter.com</td>\n",
       "      <td>oraaa1987</td>\n",
       "      <td>True</td>\n",
       "    </tr>\n",
       "    <tr>\n",
       "      <th>19980801</th>\n",
       "      <td>twitter.com</td>\n",
       "      <td>oraaa1987</td>\n",
       "      <td>True</td>\n",
       "    </tr>\n",
       "    <tr>\n",
       "      <th>19980802</th>\n",
       "      <td>twitter.com</td>\n",
       "      <td>GodofFighters</td>\n",
       "      <td>True</td>\n",
       "    </tr>\n",
       "    <tr>\n",
       "      <th>19980803</th>\n",
       "      <td>twitter.com</td>\n",
       "      <td>GodofFighters</td>\n",
       "      <td>True</td>\n",
       "    </tr>\n",
       "  </tbody>\n",
       "</table>\n",
       "</div>"
      ],
      "text/plain": [
       "               Domain        Username  domain_check\n",
       "19980784  twitter.com      abey_yaar_          True\n",
       "19980785  twitter.com      abey_yaar_          True\n",
       "19980786  twitter.com       MarioBone          True\n",
       "19980787  twitter.com       MarioBone          True\n",
       "19980788  twitter.com         aio_hfc          True\n",
       "19980789  twitter.com         aio_hfc          True\n",
       "19980790  twitter.com      leigh_fall          True\n",
       "19980791  twitter.com      leigh_fall          True\n",
       "19980792  twitter.com  mariian_suarez          True\n",
       "19980793  twitter.com  mariian_suarez          True\n",
       "19980794  twitter.com  Sayaka_and_Yui          True\n",
       "19980795  twitter.com  Sayaka_and_Yui          True\n",
       "19980796  twitter.com        Haji4USA          True\n",
       "19980797  twitter.com        Haji4USA          True\n",
       "19980798  twitter.com          EAHelp          True\n",
       "19980799  twitter.com          EAHelp          True\n",
       "19980800  twitter.com       oraaa1987          True\n",
       "19980801  twitter.com       oraaa1987          True\n",
       "19980802  twitter.com   GodofFighters          True\n",
       "19980803  twitter.com   GodofFighters          True"
      ]
     },
     "execution_count": 18,
     "metadata": {},
     "output_type": "execute_result"
    }
   ],
   "source": [
    "twitter_df.tail(20)"
   ]
  },
  {
   "cell_type": "code",
   "execution_count": 9,
   "metadata": {},
   "outputs": [
    {
     "data": {
      "text/plain": [
       "True    19980804\n",
       "Name: domain_check, dtype: int64"
      ]
     },
     "execution_count": 9,
     "metadata": {},
     "output_type": "execute_result"
    }
   ],
   "source": [
    "#This proves only required domains are used\n",
    "twitter_df.domain_check.value_counts()"
   ]
  },
  {
   "cell_type": "code",
   "execution_count": 10,
   "metadata": {},
   "outputs": [
    {
     "name": "stdout",
     "output_type": "stream",
     "text": [
      "19980804\n"
     ]
    }
   ],
   "source": [
    "#twitter_df = twitter_df.drop_duplicates()\n",
    "twitter_df.drop(columns=['domain_check'])\n",
    "print(len(twitter_df))"
   ]
  },
  {
   "cell_type": "code",
   "execution_count": 11,
   "metadata": {},
   "outputs": [
    {
     "name": "stdout",
     "output_type": "stream",
     "text": [
      "Domain count: 1793\n",
      "Users count: 6158059\n"
     ]
    }
   ],
   "source": [
    "print('Domain count:',len(twitter_df['Domain'].unique().tolist()))\n",
    "print('Users count:',len(twitter_df['Username'].unique().tolist()))"
   ]
  },
  {
   "cell_type": "code",
   "execution_count": 12,
   "metadata": {},
   "outputs": [],
   "source": [
    "#save and load twitter dataframe original\n",
    "save_obj(twitter_df,\"/research/cbuntain/projects/recsys.trajectories/datafiles/Twitter dataframes/twitter_df\")\n",
    "\n"
   ]
  },
  {
   "cell_type": "code",
   "execution_count": 8,
   "metadata": {},
   "outputs": [],
   "source": [
    "twitter_df = load_obj(\"/research/cbuntain/projects/recsys.trajectories/datafiles/Twitter dataframes/twitter_df\")"
   ]
  },
  {
   "cell_type": "code",
   "execution_count": 9,
   "metadata": {},
   "outputs": [
    {
     "data": {
      "text/plain": [
       "19980804"
      ]
     },
     "execution_count": 9,
     "metadata": {},
     "output_type": "execute_result"
    }
   ],
   "source": [
    "len(twitter_df)"
   ]
  },
  {
   "cell_type": "code",
   "execution_count": 11,
   "metadata": {},
   "outputs": [
    {
     "name": "stdout",
     "output_type": "stream",
     "text": [
      "          Username       Domain  Value\n",
      "0  0000000000007jb  twitter.com      2\n",
      "1  000000000001029  twitter.com      4\n",
      "2   000000000deniz  twitter.com      2\n",
      "3      00000000yen  twitter.com      2\n",
      "4      00000007Bts  twitter.com      4\n"
     ]
    }
   ],
   "source": [
    "#counts no of domains shared by each user\n",
    "twitter_count_df = twitter_df.groupby([\"Username\", \"Domain\"]).size().reset_index(name=\"Value\")\n",
    "print(twitter_count_df.head(5))"
   ]
  },
  {
   "cell_type": "code",
   "execution_count": 19,
   "metadata": {},
   "outputs": [
    {
     "data": {
      "text/html": [
       "<div>\n",
       "<style scoped>\n",
       "    .dataframe tbody tr th:only-of-type {\n",
       "        vertical-align: middle;\n",
       "    }\n",
       "\n",
       "    .dataframe tbody tr th {\n",
       "        vertical-align: top;\n",
       "    }\n",
       "\n",
       "    .dataframe thead th {\n",
       "        text-align: right;\n",
       "    }\n",
       "</style>\n",
       "<table border=\"1\" class=\"dataframe\">\n",
       "  <thead>\n",
       "    <tr style=\"text-align: right;\">\n",
       "      <th></th>\n",
       "      <th>Username</th>\n",
       "      <th>Domain</th>\n",
       "      <th>Value</th>\n",
       "    </tr>\n",
       "  </thead>\n",
       "  <tbody>\n",
       "    <tr>\n",
       "      <th>6506697</th>\n",
       "      <td>zzzzzzz68637331</td>\n",
       "      <td>twitter.com</td>\n",
       "      <td>6</td>\n",
       "    </tr>\n",
       "    <tr>\n",
       "      <th>6506698</th>\n",
       "      <td>zzzzzzz87663347</td>\n",
       "      <td>twitter.com</td>\n",
       "      <td>2</td>\n",
       "    </tr>\n",
       "    <tr>\n",
       "      <th>6506699</th>\n",
       "      <td>zzzzzzzjjs</td>\n",
       "      <td>twitter.com</td>\n",
       "      <td>2</td>\n",
       "    </tr>\n",
       "    <tr>\n",
       "      <th>6506700</th>\n",
       "      <td>zzzzzzzsannille</td>\n",
       "      <td>twitter.com</td>\n",
       "      <td>2</td>\n",
       "    </tr>\n",
       "    <tr>\n",
       "      <th>6506701</th>\n",
       "      <td>zzzzzzzssa</td>\n",
       "      <td>twitter.com</td>\n",
       "      <td>2</td>\n",
       "    </tr>\n",
       "    <tr>\n",
       "      <th>6506702</th>\n",
       "      <td>zzzzzzzsssszz</td>\n",
       "      <td>twitter.com</td>\n",
       "      <td>2</td>\n",
       "    </tr>\n",
       "    <tr>\n",
       "      <th>6506703</th>\n",
       "      <td>zzzzzzzzja</td>\n",
       "      <td>spotify.com</td>\n",
       "      <td>2</td>\n",
       "    </tr>\n",
       "    <tr>\n",
       "      <th>6506704</th>\n",
       "      <td>zzzzzzzztov</td>\n",
       "      <td>twitter.com</td>\n",
       "      <td>2</td>\n",
       "    </tr>\n",
       "    <tr>\n",
       "      <th>6506705</th>\n",
       "      <td>zzzzzzzzzezz</td>\n",
       "      <td>twitter.com</td>\n",
       "      <td>2</td>\n",
       "    </tr>\n",
       "    <tr>\n",
       "      <th>6506706</th>\n",
       "      <td>zzzzzzzzzz78</td>\n",
       "      <td>twitter.com</td>\n",
       "      <td>4</td>\n",
       "    </tr>\n",
       "  </tbody>\n",
       "</table>\n",
       "</div>"
      ],
      "text/plain": [
       "                Username       Domain  Value\n",
       "6506697  zzzzzzz68637331  twitter.com      6\n",
       "6506698  zzzzzzz87663347  twitter.com      2\n",
       "6506699       zzzzzzzjjs  twitter.com      2\n",
       "6506700  zzzzzzzsannille  twitter.com      2\n",
       "6506701       zzzzzzzssa  twitter.com      2\n",
       "6506702    zzzzzzzsssszz  twitter.com      2\n",
       "6506703       zzzzzzzzja  spotify.com      2\n",
       "6506704      zzzzzzzztov  twitter.com      2\n",
       "6506705     zzzzzzzzzezz  twitter.com      2\n",
       "6506706     zzzzzzzzzz78  twitter.com      4"
      ]
     },
     "execution_count": 19,
     "metadata": {},
     "output_type": "execute_result"
    }
   ],
   "source": [
    "twitter_count_df.tail(10)"
   ]
  },
  {
   "cell_type": "code",
   "execution_count": null,
   "metadata": {},
   "outputs": [],
   "source": [
    "#check memory of dataframe\n",
    "\n",
    "print(twitter_count_df.memory_usage(deep=True)) \n",
    "\n",
    "BYTES_TO_MB_DIV = 0.000001\n",
    "def print_memory_usage_of_data_frame(df):\n",
    "    mem = round(df.memory_usage().sum() * BYTES_TO_MB_DIV, 3) \n",
    "    print(\"Memory usage is \" + str(mem) + \" MB\")\n",
    "    \n",
    "print_memory_usage_of_data_frame(twitter_count_df)"
   ]
  },
  {
   "cell_type": "code",
   "execution_count": 7,
   "metadata": {},
   "outputs": [
    {
     "name": "stdout",
     "output_type": "stream",
     "text": [
      "Domain count: 1793\n",
      "Users count: 6158058\n"
     ]
    }
   ],
   "source": [
    "print('Domain count:',len(twitter_count_df['Domain'].unique().tolist()))\n",
    "print('Users count:',len(twitter_count_df['Username'].unique().tolist()))"
   ]
  },
  {
   "cell_type": "code",
   "execution_count": null,
   "metadata": {},
   "outputs": [],
   "source": [
    "#save and load twitter count dataframe\n",
    "save_obj(twitter_count_df,\"/research/cbuntain/projects/recsys.trajectories/datafiles/Twitter dataframes/twitter_count_df\")\n"
   ]
  },
  {
   "cell_type": "code",
   "execution_count": 10,
   "metadata": {},
   "outputs": [],
   "source": [
    "twitter_count_df = load_obj(\"/research/cbuntain/projects/recsys.trajectories/datafiles/Twitter dataframes/twitter_count_df\")\n",
    "         "
   ]
  },
  {
   "cell_type": "code",
   "execution_count": 11,
   "metadata": {},
   "outputs": [
    {
     "data": {
      "text/plain": [
       "6506707"
      ]
     },
     "execution_count": 11,
     "metadata": {},
     "output_type": "execute_result"
    }
   ],
   "source": [
    "len(twitter_count_df)"
   ]
  },
  {
   "cell_type": "markdown",
   "metadata": {},
   "source": [
    "## Create sparse matrix and dataframe"
   ]
  },
  {
   "cell_type": "code",
   "execution_count": 12,
   "metadata": {},
   "outputs": [],
   "source": [
    "def create_sparse_matrix_dataframe(df):\n",
    "    Username_c = CategoricalDtype(sorted(df.Username.unique()), ordered=True)\n",
    "    Domain_c = CategoricalDtype(sorted(df.Domain.unique()), ordered=True)\n",
    "    row = df.Username.astype(Username_c).cat.codes\n",
    "    col = df.Domain.astype(Domain_c).cat.codes\n",
    "    sparse_matrix = csr_matrix((df[\"Value\"], (row, col)), \\\n",
    "                           shape=(Username_c.categories.size, Domain_c.categories.size))\n",
    "    sdf = pd.DataFrame.sparse.from_spmatrix(sparse_matrix,index=Username_c.categories,\n",
    "                         columns=Domain_c.categories,)\n",
    "    return sparse_matrix, sdf"
   ]
  },
  {
   "cell_type": "code",
   "execution_count": 13,
   "metadata": {},
   "outputs": [],
   "source": [
    "#sdf-->sparse dataframe\n",
    "sparse_matrix , sdf = create_sparse_matrix_dataframe(twitter_count_df)"
   ]
  },
  {
   "cell_type": "code",
   "execution_count": 14,
   "metadata": {},
   "outputs": [
    {
     "data": {
      "text/plain": [
       "<6158058x1793 sparse matrix of type '<class 'numpy.longlong'>'\n",
       "\twith 6506707 stored elements in Compressed Sparse Row format>"
      ]
     },
     "execution_count": 14,
     "metadata": {},
     "output_type": "execute_result"
    }
   ],
   "source": [
    "sparse_matrix"
   ]
  },
  {
   "cell_type": "code",
   "execution_count": 15,
   "metadata": {},
   "outputs": [
    {
     "data": {
      "text/html": [
       "<div>\n",
       "<style scoped>\n",
       "    .dataframe tbody tr th:only-of-type {\n",
       "        vertical-align: middle;\n",
       "    }\n",
       "\n",
       "    .dataframe tbody tr th {\n",
       "        vertical-align: top;\n",
       "    }\n",
       "\n",
       "    .dataframe thead th {\n",
       "        text-align: right;\n",
       "    }\n",
       "</style>\n",
       "<table border=\"1\" class=\"dataframe\">\n",
       "  <thead>\n",
       "    <tr style=\"text-align: right;\">\n",
       "      <th></th>\n",
       "      <th>100percentfedup.com</th>\n",
       "      <th>1011now.com</th>\n",
       "      <th>10best.com</th>\n",
       "      <th>10news.com</th>\n",
       "      <th>10tv.com</th>\n",
       "      <th>11alive.com</th>\n",
       "      <th>12news.com</th>\n",
       "      <th>12newsnow.com</th>\n",
       "      <th>12up.com</th>\n",
       "      <th>13abc.com</th>\n",
       "      <th>...</th>\n",
       "      <th>yottagames.com</th>\n",
       "      <th>youngliving.com</th>\n",
       "      <th>yourcentralvalley.com</th>\n",
       "      <th>yourdailybible.com</th>\n",
       "      <th>youredm.com</th>\n",
       "      <th>yousign.org</th>\n",
       "      <th>youtube.com</th>\n",
       "      <th>zerohedge.com</th>\n",
       "      <th>zimbio.com</th>\n",
       "      <th>zinnedproject.org</th>\n",
       "    </tr>\n",
       "  </thead>\n",
       "  <tbody>\n",
       "    <tr>\n",
       "      <th>0000000000007jb</th>\n",
       "      <td>0</td>\n",
       "      <td>0</td>\n",
       "      <td>0</td>\n",
       "      <td>0</td>\n",
       "      <td>0</td>\n",
       "      <td>0</td>\n",
       "      <td>0</td>\n",
       "      <td>0</td>\n",
       "      <td>0</td>\n",
       "      <td>0</td>\n",
       "      <td>...</td>\n",
       "      <td>0</td>\n",
       "      <td>0</td>\n",
       "      <td>0</td>\n",
       "      <td>0</td>\n",
       "      <td>0</td>\n",
       "      <td>0</td>\n",
       "      <td>0</td>\n",
       "      <td>0</td>\n",
       "      <td>0</td>\n",
       "      <td>0</td>\n",
       "    </tr>\n",
       "    <tr>\n",
       "      <th>000000000001029</th>\n",
       "      <td>0</td>\n",
       "      <td>0</td>\n",
       "      <td>0</td>\n",
       "      <td>0</td>\n",
       "      <td>0</td>\n",
       "      <td>0</td>\n",
       "      <td>0</td>\n",
       "      <td>0</td>\n",
       "      <td>0</td>\n",
       "      <td>0</td>\n",
       "      <td>...</td>\n",
       "      <td>0</td>\n",
       "      <td>0</td>\n",
       "      <td>0</td>\n",
       "      <td>0</td>\n",
       "      <td>0</td>\n",
       "      <td>0</td>\n",
       "      <td>0</td>\n",
       "      <td>0</td>\n",
       "      <td>0</td>\n",
       "      <td>0</td>\n",
       "    </tr>\n",
       "    <tr>\n",
       "      <th>000000000deniz</th>\n",
       "      <td>0</td>\n",
       "      <td>0</td>\n",
       "      <td>0</td>\n",
       "      <td>0</td>\n",
       "      <td>0</td>\n",
       "      <td>0</td>\n",
       "      <td>0</td>\n",
       "      <td>0</td>\n",
       "      <td>0</td>\n",
       "      <td>0</td>\n",
       "      <td>...</td>\n",
       "      <td>0</td>\n",
       "      <td>0</td>\n",
       "      <td>0</td>\n",
       "      <td>0</td>\n",
       "      <td>0</td>\n",
       "      <td>0</td>\n",
       "      <td>0</td>\n",
       "      <td>0</td>\n",
       "      <td>0</td>\n",
       "      <td>0</td>\n",
       "    </tr>\n",
       "    <tr>\n",
       "      <th>00000000yen</th>\n",
       "      <td>0</td>\n",
       "      <td>0</td>\n",
       "      <td>0</td>\n",
       "      <td>0</td>\n",
       "      <td>0</td>\n",
       "      <td>0</td>\n",
       "      <td>0</td>\n",
       "      <td>0</td>\n",
       "      <td>0</td>\n",
       "      <td>0</td>\n",
       "      <td>...</td>\n",
       "      <td>0</td>\n",
       "      <td>0</td>\n",
       "      <td>0</td>\n",
       "      <td>0</td>\n",
       "      <td>0</td>\n",
       "      <td>0</td>\n",
       "      <td>0</td>\n",
       "      <td>0</td>\n",
       "      <td>0</td>\n",
       "      <td>0</td>\n",
       "    </tr>\n",
       "    <tr>\n",
       "      <th>00000007Bts</th>\n",
       "      <td>0</td>\n",
       "      <td>0</td>\n",
       "      <td>0</td>\n",
       "      <td>0</td>\n",
       "      <td>0</td>\n",
       "      <td>0</td>\n",
       "      <td>0</td>\n",
       "      <td>0</td>\n",
       "      <td>0</td>\n",
       "      <td>0</td>\n",
       "      <td>...</td>\n",
       "      <td>0</td>\n",
       "      <td>0</td>\n",
       "      <td>0</td>\n",
       "      <td>0</td>\n",
       "      <td>0</td>\n",
       "      <td>0</td>\n",
       "      <td>0</td>\n",
       "      <td>0</td>\n",
       "      <td>0</td>\n",
       "      <td>0</td>\n",
       "    </tr>\n",
       "    <tr>\n",
       "      <th>...</th>\n",
       "      <td>...</td>\n",
       "      <td>...</td>\n",
       "      <td>...</td>\n",
       "      <td>...</td>\n",
       "      <td>...</td>\n",
       "      <td>...</td>\n",
       "      <td>...</td>\n",
       "      <td>...</td>\n",
       "      <td>...</td>\n",
       "      <td>...</td>\n",
       "      <td>...</td>\n",
       "      <td>...</td>\n",
       "      <td>...</td>\n",
       "      <td>...</td>\n",
       "      <td>...</td>\n",
       "      <td>...</td>\n",
       "      <td>...</td>\n",
       "      <td>...</td>\n",
       "      <td>...</td>\n",
       "      <td>...</td>\n",
       "      <td>...</td>\n",
       "    </tr>\n",
       "    <tr>\n",
       "      <th>zzzzzzzsssszz</th>\n",
       "      <td>0</td>\n",
       "      <td>0</td>\n",
       "      <td>0</td>\n",
       "      <td>0</td>\n",
       "      <td>0</td>\n",
       "      <td>0</td>\n",
       "      <td>0</td>\n",
       "      <td>0</td>\n",
       "      <td>0</td>\n",
       "      <td>0</td>\n",
       "      <td>...</td>\n",
       "      <td>0</td>\n",
       "      <td>0</td>\n",
       "      <td>0</td>\n",
       "      <td>0</td>\n",
       "      <td>0</td>\n",
       "      <td>0</td>\n",
       "      <td>0</td>\n",
       "      <td>0</td>\n",
       "      <td>0</td>\n",
       "      <td>0</td>\n",
       "    </tr>\n",
       "    <tr>\n",
       "      <th>zzzzzzzzja</th>\n",
       "      <td>0</td>\n",
       "      <td>0</td>\n",
       "      <td>0</td>\n",
       "      <td>0</td>\n",
       "      <td>0</td>\n",
       "      <td>0</td>\n",
       "      <td>0</td>\n",
       "      <td>0</td>\n",
       "      <td>0</td>\n",
       "      <td>0</td>\n",
       "      <td>...</td>\n",
       "      <td>0</td>\n",
       "      <td>0</td>\n",
       "      <td>0</td>\n",
       "      <td>0</td>\n",
       "      <td>0</td>\n",
       "      <td>0</td>\n",
       "      <td>0</td>\n",
       "      <td>0</td>\n",
       "      <td>0</td>\n",
       "      <td>0</td>\n",
       "    </tr>\n",
       "    <tr>\n",
       "      <th>zzzzzzzztov</th>\n",
       "      <td>0</td>\n",
       "      <td>0</td>\n",
       "      <td>0</td>\n",
       "      <td>0</td>\n",
       "      <td>0</td>\n",
       "      <td>0</td>\n",
       "      <td>0</td>\n",
       "      <td>0</td>\n",
       "      <td>0</td>\n",
       "      <td>0</td>\n",
       "      <td>...</td>\n",
       "      <td>0</td>\n",
       "      <td>0</td>\n",
       "      <td>0</td>\n",
       "      <td>0</td>\n",
       "      <td>0</td>\n",
       "      <td>0</td>\n",
       "      <td>0</td>\n",
       "      <td>0</td>\n",
       "      <td>0</td>\n",
       "      <td>0</td>\n",
       "    </tr>\n",
       "    <tr>\n",
       "      <th>zzzzzzzzzezz</th>\n",
       "      <td>0</td>\n",
       "      <td>0</td>\n",
       "      <td>0</td>\n",
       "      <td>0</td>\n",
       "      <td>0</td>\n",
       "      <td>0</td>\n",
       "      <td>0</td>\n",
       "      <td>0</td>\n",
       "      <td>0</td>\n",
       "      <td>0</td>\n",
       "      <td>...</td>\n",
       "      <td>0</td>\n",
       "      <td>0</td>\n",
       "      <td>0</td>\n",
       "      <td>0</td>\n",
       "      <td>0</td>\n",
       "      <td>0</td>\n",
       "      <td>0</td>\n",
       "      <td>0</td>\n",
       "      <td>0</td>\n",
       "      <td>0</td>\n",
       "    </tr>\n",
       "    <tr>\n",
       "      <th>zzzzzzzzzz78</th>\n",
       "      <td>0</td>\n",
       "      <td>0</td>\n",
       "      <td>0</td>\n",
       "      <td>0</td>\n",
       "      <td>0</td>\n",
       "      <td>0</td>\n",
       "      <td>0</td>\n",
       "      <td>0</td>\n",
       "      <td>0</td>\n",
       "      <td>0</td>\n",
       "      <td>...</td>\n",
       "      <td>0</td>\n",
       "      <td>0</td>\n",
       "      <td>0</td>\n",
       "      <td>0</td>\n",
       "      <td>0</td>\n",
       "      <td>0</td>\n",
       "      <td>0</td>\n",
       "      <td>0</td>\n",
       "      <td>0</td>\n",
       "      <td>0</td>\n",
       "    </tr>\n",
       "  </tbody>\n",
       "</table>\n",
       "<p>6158058 rows × 1793 columns</p>\n",
       "</div>"
      ],
      "text/plain": [
       "                 100percentfedup.com  1011now.com  10best.com  10news.com  \\\n",
       "0000000000007jb                    0            0           0           0   \n",
       "000000000001029                    0            0           0           0   \n",
       "000000000deniz                     0            0           0           0   \n",
       "00000000yen                        0            0           0           0   \n",
       "00000007Bts                        0            0           0           0   \n",
       "...                              ...          ...         ...         ...   \n",
       "zzzzzzzsssszz                      0            0           0           0   \n",
       "zzzzzzzzja                         0            0           0           0   \n",
       "zzzzzzzztov                        0            0           0           0   \n",
       "zzzzzzzzzezz                       0            0           0           0   \n",
       "zzzzzzzzzz78                       0            0           0           0   \n",
       "\n",
       "                 10tv.com  11alive.com  12news.com  12newsnow.com  12up.com  \\\n",
       "0000000000007jb         0            0           0              0         0   \n",
       "000000000001029         0            0           0              0         0   \n",
       "000000000deniz          0            0           0              0         0   \n",
       "00000000yen             0            0           0              0         0   \n",
       "00000007Bts             0            0           0              0         0   \n",
       "...                   ...          ...         ...            ...       ...   \n",
       "zzzzzzzsssszz           0            0           0              0         0   \n",
       "zzzzzzzzja              0            0           0              0         0   \n",
       "zzzzzzzztov             0            0           0              0         0   \n",
       "zzzzzzzzzezz            0            0           0              0         0   \n",
       "zzzzzzzzzz78            0            0           0              0         0   \n",
       "\n",
       "                 13abc.com  ...  yottagames.com  youngliving.com  \\\n",
       "0000000000007jb          0  ...               0                0   \n",
       "000000000001029          0  ...               0                0   \n",
       "000000000deniz           0  ...               0                0   \n",
       "00000000yen              0  ...               0                0   \n",
       "00000007Bts              0  ...               0                0   \n",
       "...                    ...  ...             ...              ...   \n",
       "zzzzzzzsssszz            0  ...               0                0   \n",
       "zzzzzzzzja               0  ...               0                0   \n",
       "zzzzzzzztov              0  ...               0                0   \n",
       "zzzzzzzzzezz             0  ...               0                0   \n",
       "zzzzzzzzzz78             0  ...               0                0   \n",
       "\n",
       "                 yourcentralvalley.com  yourdailybible.com  youredm.com  \\\n",
       "0000000000007jb                      0                   0            0   \n",
       "000000000001029                      0                   0            0   \n",
       "000000000deniz                       0                   0            0   \n",
       "00000000yen                          0                   0            0   \n",
       "00000007Bts                          0                   0            0   \n",
       "...                                ...                 ...          ...   \n",
       "zzzzzzzsssszz                        0                   0            0   \n",
       "zzzzzzzzja                           0                   0            0   \n",
       "zzzzzzzztov                          0                   0            0   \n",
       "zzzzzzzzzezz                         0                   0            0   \n",
       "zzzzzzzzzz78                         0                   0            0   \n",
       "\n",
       "                 yousign.org  youtube.com  zerohedge.com  zimbio.com  \\\n",
       "0000000000007jb            0            0              0           0   \n",
       "000000000001029            0            0              0           0   \n",
       "000000000deniz             0            0              0           0   \n",
       "00000000yen                0            0              0           0   \n",
       "00000007Bts                0            0              0           0   \n",
       "...                      ...          ...            ...         ...   \n",
       "zzzzzzzsssszz              0            0              0           0   \n",
       "zzzzzzzzja                 0            0              0           0   \n",
       "zzzzzzzztov                0            0              0           0   \n",
       "zzzzzzzzzezz               0            0              0           0   \n",
       "zzzzzzzzzz78               0            0              0           0   \n",
       "\n",
       "                 zinnedproject.org  \n",
       "0000000000007jb                  0  \n",
       "000000000001029                  0  \n",
       "000000000deniz                   0  \n",
       "00000000yen                      0  \n",
       "00000007Bts                      0  \n",
       "...                            ...  \n",
       "zzzzzzzsssszz                    0  \n",
       "zzzzzzzzja                       0  \n",
       "zzzzzzzztov                      0  \n",
       "zzzzzzzzzezz                     0  \n",
       "zzzzzzzzzz78                     0  \n",
       "\n",
       "[6158058 rows x 1793 columns]"
      ]
     },
     "execution_count": 15,
     "metadata": {},
     "output_type": "execute_result"
    }
   ],
   "source": [
    "sdf"
   ]
  },
  {
   "cell_type": "code",
   "execution_count": 16,
   "metadata": {},
   "outputs": [],
   "source": [
    "#drop twitter columns from the data \n",
    "list_of_cols_to_drop = ['twitter.com']\n",
    "sdf_drop = sdf.drop(list_of_cols_to_drop, axis=1)\n",
    "#sdf_drop is sparse dataframe with no twitter.com"
   ]
  },
  {
   "cell_type": "code",
   "execution_count": 17,
   "metadata": {},
   "outputs": [
    {
     "data": {
      "text/plain": [
       "(6158058, 1792)"
      ]
     },
     "execution_count": 17,
     "metadata": {},
     "output_type": "execute_result"
    }
   ],
   "source": [
    "sdf_drop.shape"
   ]
  },
  {
   "cell_type": "code",
   "execution_count": 11,
   "metadata": {},
   "outputs": [
    {
     "name": "stdout",
     "output_type": "stream",
     "text": [
      "Sparsity of Matrix :99.9410698989065\n"
     ]
    }
   ],
   "source": [
    "#calculate sparsity function\n",
    "\n",
    "def sparcity_value(df):\n",
    "    matrix_size = df.shape[0]*df.shape[1] # Number of possible interactions in the matrix\n",
    "    num_domains = len(df.nonzero()[0]) # Number of domains interacted with\n",
    "    sparsity = 100*(1 - (num_domains/matrix_size))\n",
    "    print(\"Sparsity of Matrix :\" + str(sparsity))\n",
    "    \n",
    "sparcity_value(sparse_matrix) "
   ]
  },
  {
   "cell_type": "markdown",
   "metadata": {},
   "source": [
    "## Filtering the sparse dataframe with no of links shared by each user"
   ]
  },
  {
   "cell_type": "code",
   "execution_count": 18,
   "metadata": {},
   "outputs": [
    {
     "data": {
      "text/plain": [
       "Username\n",
       "0000000000007jb    2\n",
       "000000000001029    4\n",
       "000000000deniz     2\n",
       "00000000yen        2\n",
       "00000007Bts        4\n",
       "                  ..\n",
       "zzzzzzzsssszz      2\n",
       "zzzzzzzzja         2\n",
       "zzzzzzzztov        2\n",
       "zzzzzzzzzezz       2\n",
       "zzzzzzzzzz78       4\n",
       "Name: Value, Length: 6158058, dtype: int64"
      ]
     },
     "execution_count": 18,
     "metadata": {},
     "output_type": "execute_result"
    }
   ],
   "source": [
    "#count total link shared by each user\n",
    "shared_links_count  = twitter_count_df.groupby('Username')['Value'].agg(\"sum\")\n",
    "shared_links_count"
   ]
  },
  {
   "cell_type": "code",
   "execution_count": 23,
   "metadata": {},
   "outputs": [],
   "source": [
    "#filter the sdf(sparse dataframe) by no of links shared \n",
    "#sdf_k : k represents no of links shared more than k\n",
    "\n",
    "sdf_1 = sdf.loc[shared_links_count[shared_links_count > 1].index,:] #only to check decrease no of users\n",
    "sdf_5 = sdf.loc[shared_links_count[shared_links_count > 5].index,:]\n",
    "sdf_10 = sdf.loc[shared_links_count[shared_links_count > 10].index,:]\n",
    "sdf_15 = sdf.loc[shared_links_count[shared_links_count > 15].index,:]\n",
    "sdf_20 = sdf.loc[shared_links_count[shared_links_count > 20].index,:]\n",
    "sdf_25 = sdf.loc[shared_links_count[shared_links_count > 25].index,:]"
   ]
  },
  {
   "cell_type": "code",
   "execution_count": 19,
   "metadata": {},
   "outputs": [],
   "source": [
    "# sdf_drop_1 = sdf_drop.loc[shared_links_count[shared_links_count > 1].index,:] #only to check decrease no of users\n",
    "# sdf_drop_5 = sdf_drop.loc[shared_links_count[shared_links_count > 5].index,:]\n",
    "# sdf_drop_10 = sdf_drop.loc[shared_links_count[shared_links_count > 10].index,:]\n",
    "# sdf_drop_15 = sdf_drop.loc[shared_links_count[shared_links_count > 15].index,:]\n",
    "sdf_drop_20 = sdf_drop.loc[shared_links_count[shared_links_count > 20].index,:]\n",
    "sdf_drop_25 = sdf_drop.loc[shared_links_count[shared_links_count > 25].index,:]"
   ]
  },
  {
   "cell_type": "code",
   "execution_count": null,
   "metadata": {},
   "outputs": [],
   "source": [
    "print(\"Shape of more than 1 link shared User-Domain dataframe : \",sdf_1.shape)\n",
    "print(\"Shape of more than 5 links shared User-Domain dataframe : \",sdf_5.shape)\n",
    "print(\"Shape of more than 10 links shared User-Domain dataframe : \",sdf_10.shape)\n",
    "print(\"Shape of more than 15 links shared User-Domain dataframe : \",sdf_15.shape)\n",
    "print(\"Shape of more than 20 links shared User-Domain dataframe : \",sdf_20.shape)\n",
    "print(\"Shape of more than 25 links shared User-Domain dataframe : \",sdf_25.shape)"
   ]
  },
  {
   "cell_type": "code",
   "execution_count": 15,
   "metadata": {},
   "outputs": [
    {
     "name": "stdout",
     "output_type": "stream",
     "text": [
      "Shape of more than 1 link shared User-Domain dataframe :  (6158058, 1792)\n",
      "Shape of more than 5 links shared User-Domain dataframe :  (698242, 1792)\n",
      "Shape of more than 10 links shared User-Domain dataframe :  (160641, 1792)\n",
      "Shape of more than 15 links shared User-Domain dataframe :  (83469, 1792)\n",
      "Shape of more than 20 links shared User-Domain dataframe :  (39100, 1792)\n",
      "Shape of more than 25 links shared User-Domain dataframe :  (26017, 1792)\n"
     ]
    }
   ],
   "source": [
    "print(\"Shape of more than 1 link shared User-Domain dataframe : \",sdf_drop_1.shape)\n",
    "print(\"Shape of more than 5 links shared User-Domain dataframe : \",sdf_drop_5.shape)\n",
    "print(\"Shape of more than 10 links shared User-Domain dataframe : \",sdf_drop_10.shape)\n",
    "print(\"Shape of more than 15 links shared User-Domain dataframe : \",sdf_drop_15.shape)\n",
    "print(\"Shape of more than 20 links shared User-Domain dataframe : \",sdf_drop_20.shape)\n",
    "print(\"Shape of more than 25 links shared User-Domain dataframe : \",sdf_drop_25.shape)"
   ]
  },
  {
   "cell_type": "markdown",
   "metadata": {},
   "source": [
    "### Convert different sdf(sparse dataframes) into sparse matrices sp"
   ]
  },
  {
   "cell_type": "code",
   "execution_count": 16,
   "metadata": {},
   "outputs": [],
   "source": [
    "# Sparse matrix creation for filtered sparse dataframe\n",
    "\n",
    "sp5 = scipy.sparse.csr_matrix(sdf_drop_5.values)\n",
    "sp10 = scipy.sparse.csr_matrix(sdf_drop_10.values)\n",
    "sp15 = scipy.sparse.csr_matrix(sdf_drop_15.values)\n",
    "sp20 = scipy.sparse.csr_matrix(sdf_drop_20.values)\n",
    "sp25 = scipy.sparse.csr_matrix(sdf_drop_25.values)"
   ]
  },
  {
   "cell_type": "code",
   "execution_count": null,
   "metadata": {},
   "outputs": [],
   "source": [
    "file= \"/research/cbuntain/projects/recsys.trajectories/datafiles/Twitter dataframes/\"\n",
    "\n",
    "#the saved sparse matrices are the ones which donot have twitter.com as a domain\n",
    "\n",
    "#save sparse matrix\n",
    "scipy.sparse.save_npz(file+\"sp5.npz\", sp5, compressed=False)\n",
    "scipy.sparse.save_npz(file+\"sp10.npz\", sp10, compressed=False)\n",
    "scipy.sparse.save_npz(file+\"sp15.npz\", sp15, compressed=False)\n",
    "scipy.sparse.save_npz(file+\"sp20.npz\", sp20, compressed=False)\n",
    "scipy.sparse.save_npz(file+\"sp25.npz\", sp25, compressed=False)\n"
   ]
  },
  {
   "cell_type": "code",
   "execution_count": 5,
   "metadata": {},
   "outputs": [],
   "source": [
    "#loads sparse matrix\n",
    "# sp5 = scipy.sparse.load_npz(file+\"sp5.npz\")\n",
    "# sp10 = scipy.sparse.load_npz(file+\"sp10.npz\")\n",
    "# sp15 = scipy.sparse.load_npz(file+\"sp15.npz\")\n",
    "sp20 = scipy.sparse.load_npz(file+\"sp20.npz\")\n",
    "sp25 = scipy.sparse.load_npz(file+\"sp25.npz\")"
   ]
  },
  {
   "cell_type": "code",
   "execution_count": 19,
   "metadata": {},
   "outputs": [
    {
     "name": "stdout",
     "output_type": "stream",
     "text": [
      "sparcity values\n",
      "Sparcity for sp5\n",
      "Sparsity of Matrix :99.97954389061078\n",
      "Sparcity for sp10\n",
      "Sparsity of Matrix :99.96215427012496\n",
      "Sparcity for sp15\n",
      "Sparsity of Matrix :99.9517624592877\n",
      "Sparcity for sp20\n",
      "Sparsity of Matrix :99.9384333896602\n",
      "Sparcity for sp25\n",
      "Sparsity of Matrix :99.93097318923341\n"
     ]
    }
   ],
   "source": [
    "#check sparcity\n",
    "\n",
    "print(\"sparcity values\")\n",
    "\n",
    "print(\"Sparcity for sp5\")\n",
    "sparcity_value(sp5)\n",
    "print(\"Sparcity for sp10\")\n",
    "sparcity_value(sp10)\n",
    "print(\"Sparcity for sp15\")\n",
    "sparcity_value(sp15)\n",
    "print(\"Sparcity for sp20\")\n",
    "sparcity_value(sp20)\n",
    "print(\"Sparcity for sp25\")\n",
    "sparcity_value(sp25)"
   ]
  },
  {
   "cell_type": "markdown",
   "metadata": {},
   "source": [
    "## Code to implement recommendation system"
   ]
  },
  {
   "cell_type": "markdown",
   "metadata": {},
   "source": [
    "### Split data into train/test"
   ]
  },
  {
   "cell_type": "code",
   "execution_count": null,
   "metadata": {},
   "outputs": [],
   "source": [
    "'''\n",
    "    This function will take in the original user-item matrix and \"mask\" a percentage of the original ratings where a\n",
    "    user-item interaction has taken place for use as a test set. The test set will contain all of the original ratings, \n",
    "    while the training set replaces the specified percentage of them with a zero in the original ratings matrix. \n",
    "    \n",
    "    parameters: \n",
    "    \n",
    "    ratings - the original ratings matrix from which you want to generate a train/test set. Test is just a complete\n",
    "    copy of the original set. This is in the form of a sparse csr_matrix. \n",
    "    \n",
    "    pct_test - The percentage of user-item interactions where an interaction took place that you want to mask in the \n",
    "    training set for later comparison to the test set, which contains all of the original ratings. \n",
    "    \n",
    "    returns:\n",
    "    \n",
    "    training_set - The altered version of the original data with a certain percentage of the user-item pairs \n",
    "    that originally had interaction set back to zero.\n",
    "    \n",
    "    test_set - A copy of the original ratings matrix, unaltered, so it can be used to see how the rank order \n",
    "    compares with the actual interactions.\n",
    "    \n",
    "    user_inds - From the randomly selected user-item indices, which user rows were altered in the training data.\n",
    "    This will be necessary later when evaluating the performance via AUC.\n",
    "    '''"
   ]
  },
  {
   "cell_type": "code",
   "execution_count": 6,
   "metadata": {},
   "outputs": [],
   "source": [
    "def make_train(ratings, pct_test):\n",
    "   \n",
    "    test_set = ratings.copy() # Make a copy of the original set to be the test set. \n",
    "    test_set[test_set != 0] = 1 # Store the test set as a binary preference matrix\n",
    "    training_set = ratings.copy() # Make a copy of the original data we can alter as our training set. \n",
    "    nonzero_inds = training_set.nonzero() # Find the indices in the ratings data where an interaction exists\n",
    "    nonzero_pairs = list(zip(nonzero_inds[0], nonzero_inds[1])) # Zip these pairs together of user,item index into list\n",
    "    random.seed(0) # Set the random seed to zero for reproducibility\n",
    "    num_samples = int(np.ceil(pct_test*len(nonzero_pairs))) # Round the number of samples needed to the nearest integer\n",
    "    samples = random.sample(nonzero_pairs, num_samples) # Sample a random number of user-item pairs without replacement\n",
    "    user_inds = [index[0] for index in samples] # Get the user row indices\n",
    "    item_inds = [index[1] for index in samples] # Get the item column indices\n",
    "    training_set[user_inds, item_inds] = 0 # Assign all of the randomly chosen user-item pairs to zero\n",
    "    training_set.eliminate_zeros() # Get rid of zeros in sparse array storage after update to save space\n",
    "    return training_set, test_set, list(set(user_inds)) # Output the unique list of user ro"
   ]
  },
  {
   "cell_type": "code",
   "execution_count": 7,
   "metadata": {},
   "outputs": [],
   "source": [
    "#split train/test data for different sp sparse matrix\n",
    "#masking percentage = 20%\n",
    "\n",
    "# train_sp5, test_sp5, item_users_altered_sp5 = make_train(sp5, pct_test = 0.2)\n",
    "# train_sp10, test_sp10, item_users_altered_sp10 = make_train(sp10, pct_test = 0.2)\n",
    "# train_sp15, test_sp15, item_users_altered_sp15 = make_train(sp15, pct_test = 0.2)\n",
    "train_sp20, test_sp20, item_users_altered_sp20 = make_train(sp20, pct_test = 0.2)\n",
    "train_sp25, test_sp25, item_users_altered_sp25 = make_train(sp25, pct_test = 0.2)"
   ]
  },
  {
   "cell_type": "markdown",
   "metadata": {},
   "source": [
    "### Fit ALS model"
   ]
  },
  {
   "cell_type": "code",
   "execution_count": 8,
   "metadata": {},
   "outputs": [],
   "source": [
    "#this function runs als model \n",
    "\n",
    "def train_model(train_dataset):\n",
    "    alpha=15\n",
    "    domain_user_data = (train_dataset*alpha).astype('double')\n",
    "    model = implicit.als.AlternatingLeastSquares(factors=20, regularization = 0.1, iterations = 50)\n",
    "    model.fit(domain_user_data.T)\n",
    "    user_vecs = model.user_factors\n",
    "    item_vecs = model.item_factors\n",
    "    return domain_user_data,model,user_vecs,item_vecs"
   ]
  },
  {
   "cell_type": "code",
   "execution_count": 131,
   "metadata": {},
   "outputs": [
    {
     "data": {
      "application/vnd.jupyter.widget-view+json": {
       "model_id": "a35c6d1912f44b73b034542b478a7ca4",
       "version_major": 2,
       "version_minor": 0
      },
      "text/plain": [
       "HBox(children=(FloatProgress(value=0.0, max=50.0), HTML(value='')))"
      ]
     },
     "metadata": {},
     "output_type": "display_data"
    },
    {
     "name": "stdout",
     "output_type": "stream",
     "text": [
      "\n"
     ]
    },
    {
     "data": {
      "application/vnd.jupyter.widget-view+json": {
       "model_id": "5e552f7a22e140a797a5aba7642543b3",
       "version_major": 2,
       "version_minor": 0
      },
      "text/plain": [
       "HBox(children=(FloatProgress(value=0.0, max=50.0), HTML(value='')))"
      ]
     },
     "metadata": {},
     "output_type": "display_data"
    },
    {
     "name": "stdout",
     "output_type": "stream",
     "text": [
      "\n"
     ]
    }
   ],
   "source": [
    "# domain_user_data_sp5, model_sp5, user_vecs_sp5, item_vecs_sp5  = train_model(train_sp5)\n",
    "# domain_user_data_sp10, model_sp10, user_vecs_sp10, item_vecs_sp10  = train_model(train_sp10)\n",
    "# domain_user_data_sp15, model_sp15, user_vecs_sp15, item_vecs_sp15  = train_model(train_sp15)\n",
    "domain_user_data_sp20, model_sp20, user_vecs_sp20, item_vecs_sp20  = train_model(train_sp20)\n",
    "domain_user_data_sp25, model_sp25, user_vecs_sp25, item_vecs_sp25  = train_model(train_sp25)"
   ]
  },
  {
   "cell_type": "markdown",
   "metadata": {},
   "source": [
    "## Evaluation Metrics"
   ]
  },
  {
   "cell_type": "code",
   "execution_count": 24,
   "metadata": {},
   "outputs": [],
   "source": [
    "def auc_score(predictions, test):\n",
    "   \n",
    "    fpr, tpr, thresholds = metrics.roc_curve(test, predictions)\n",
    "    return metrics.auc(fpr, tpr)"
   ]
  },
  {
   "cell_type": "code",
   "execution_count": 25,
   "metadata": {},
   "outputs": [],
   "source": [
    "def calc_auc_ndcg(training_set, altered_users, predictions, test_set):\n",
    "    \n",
    "    start_time = time.perf_counter()\n",
    "    \n",
    "    # create empty lists to store AUC/NDCG for each user that had an item removed from the training set and popularity auc/ndcg\n",
    "    store_auc,popularity_auc,store_ndcg1,store_ndcg2,store_ndcg3,store_ndcg5,store_ndcg10,popularity_ndcg = ([] for i in range(8))\n",
    "    \n",
    "    pop_items = np.array(test_set.sum(axis = 0)).reshape(-1) # Get sum of item iteractions to find most popular\n",
    "    item_vecs = predictions[1]\n",
    "    for user in altered_users: # Iterate through each user that had an item altered\n",
    "        training_row = training_set[user,:].toarray().reshape(-1) # Get the training set row\n",
    "        zero_inds = np.where(training_row == 0) # Find where the interaction had not yet occurred\n",
    "        \n",
    "        # Get the predicted values based on our user/item vectors\n",
    "        user_vec = predictions[0][user,:]\n",
    "        pred = user_vec.dot(item_vecs).toarray()[0,zero_inds].reshape(-1)\n",
    "        \n",
    "        # Get only the items that were originally zero\n",
    "        # Select all ratings from the MF prediction for this user that originally had no iteraction\n",
    "        actual = test_set[user,:].toarray()[0,zero_inds].reshape(-1) \n",
    "        \n",
    "        # Select the binarized yes/no interaction pairs from the original full data\n",
    "        # that align with the same pairs in training \n",
    "        pop = pop_items[zero_inds] # Get the item popularity for our chosen items\n",
    "        \n",
    "        #auc calculation\n",
    "        store_auc.append(auc_score(pred, actual)) # Calculate AUC for the given user and domain\n",
    "        popularity_auc.append(auc_score(pop, actual)) # Calculate AUC using most popular and score\n",
    "        \n",
    "        #ndcg calculation\n",
    "        store_ndcg1.append(ndcg_score([actual],[pred],k = 1)) # Calculate NDCG@1 for the given user and domain\n",
    "        store_ndcg2.append(ndcg_score([actual],[pred],k = 2)) # Calculate NDCG@2 for the given user and domain\n",
    "        store_ndcg3.append(ndcg_score([actual],[pred],k = 3)) # Calculate NDCG@3 for the given user and domain\n",
    "        store_ndcg5.append(ndcg_score([actual],[pred],k = 5)) # Calculate NDCG@4 for the given user and domain\n",
    "        store_ndcg10.append(ndcg_score([actual],[pred],k = 10)) # Calculate NDCG@10 for the given user and domain\n",
    "        popularity_ndcg.append(ndcg_score([actual],[pop],k = 10)) # Calculate NDCG@10 using most popular domains\n",
    "        \n",
    "    # End users iteration\n",
    "   \n",
    "    print('time: ' , time.perf_counter()-start_time)\n",
    "    \n",
    "    return float('%.3f'%np.mean(store_auc)),float('%.3f'%np.mean(popularity_auc)),float('%.3f'%np.mean(store_ndcg1)),float('%.3f'%np.mean(store_ndcg2)),float('%.3f'%np.mean(store_ndcg3)),float('%.3f'%np.mean(store_ndcg5)),float('%.3f'%np.mean(store_ndcg10)),float('%.3f'%np.mean(popularity_ndcg))\n",
    "   \n",
    " # Return the mean AUC/NDCG rounded to three decimal places for both test and popularity benchmark"
   ]
  },
  {
   "cell_type": "code",
   "execution_count": 126,
   "metadata": {},
   "outputs": [
    {
     "name": "stdout",
     "output_type": "stream",
     "text": [
      "AUC/NDCG for sp5 model\n",
      "time:  336.9886874780059\n",
      "(0.634, 0.955, 0.03, 0.038, 0.045, 0.055, 0.069, 0.26)\n",
      "AUC/NDCG for sp10 model\n",
      "time:  130.47325287014246\n",
      "(0.684, 0.949, 0.04, 0.05, 0.06, 0.075, 0.095, 0.208)\n",
      "AUC/NDCG for sp15 model\n",
      "time:  81.35417976975441\n",
      "(0.696, 0.947, 0.049, 0.056, 0.068, 0.081, 0.101, 0.192)\n",
      "AUC/NDCG for sp20 model\n",
      "time:  45.4772689267993\n",
      "(0.711, 0.947, 0.059, 0.065, 0.075, 0.09, 0.112, 0.192)\n",
      "AUC/NDCG for sp25 model\n",
      "time:  32.511831037700176\n",
      "(0.718, 0.947, 0.058, 0.066, 0.074, 0.088, 0.111, 0.181)\n"
     ]
    }
   ],
   "source": [
    "print(\"AUC/NDCG for sp5 model\")\n",
    "scores_sp5=calc_auc_ndcg(train_sp5, \n",
    "              item_users_altered_sp5, \n",
    "              [scipy.sparse.csr_matrix(user_vecs_sp5), scipy.sparse.csr_matrix(item_vecs_sp5.T)], \n",
    "              test_sp5)\n",
    "print(scores_sp5)\n",
    "\n",
    "print(\"AUC/NDCG for sp10 model\")\n",
    "scores_sp10=calc_auc_ndcg(train_sp10, \n",
    "              item_users_altered_sp10, \n",
    "              [scipy.sparse.csr_matrix(user_vecs_sp10), scipy.sparse.csr_matrix(item_vecs_sp10.T)], \n",
    "              test_sp10)\n",
    "print(scores_sp10)\n",
    "\n",
    "print(\"AUC/NDCG for sp15 model\")\n",
    "scores_sp15=calc_auc_ndcg(train_sp15, \n",
    "              item_users_altered_sp15, \n",
    "              [scipy.sparse.csr_matrix(user_vecs_sp15), scipy.sparse.csr_matrix(item_vecs_sp15.T)], \n",
    "              test_sp15)\n",
    "print(scores_sp15)\n",
    "\n",
    "print(\"AUC/NDCG for sp20 model\")\n",
    "scores_sp20=calc_auc_ndcg(train_sp20, \n",
    "              item_users_altered_sp20, \n",
    "              [scipy.sparse.csr_matrix(user_vecs_sp20), scipy.sparse.csr_matrix(item_vecs_sp20.T)], \n",
    "              test_sp20)\n",
    "print(scores_sp20)\n",
    "\n",
    "print(\"AUC/NDCG for sp25 model\")\n",
    "scores_sp25=calc_auc_ndcg(train_sp25, \n",
    "              item_users_altered_sp25, \n",
    "              [scipy.sparse.csr_matrix(user_vecs_sp25), scipy.sparse.csr_matrix(item_vecs_sp25.T)], \n",
    "              test_sp25)\n",
    "print(scores_sp25)"
   ]
  },
  {
   "cell_type": "markdown",
   "metadata": {},
   "source": [
    "## Metrices Dataframe"
   ]
  },
  {
   "cell_type": "code",
   "execution_count": 127,
   "metadata": {},
   "outputs": [],
   "source": [
    "scores_list = [scores_sp5,\n",
    "              scores_sp10,\n",
    "              scores_sp15,\n",
    "              scores_sp20,\n",
    "              scores_sp25]\n",
    "cols = ['AUC_Prediction','AUC_Popular','NDCG@1','NDCG@2','NDCG@3','NDCG@5','NDCG@10','NDCG@10 Popular Baseline']\n",
    "metrices_df = pd.DataFrame(scores_list, columns=cols)\n",
    "metrices_df['SP Model']=['SP5','SP10','SP15','SP20','SP25']\n",
    "metrices_df['SP Shape']=[sdf_5.shape,sdf_10.shape,sdf_15.shape,sdf_20.shape,sdf_25.shape]\n"
   ]
  },
  {
   "cell_type": "code",
   "execution_count": 128,
   "metadata": {
    "scrolled": true
   },
   "outputs": [
    {
     "data": {
      "text/html": [
       "<div>\n",
       "<style scoped>\n",
       "    .dataframe tbody tr th:only-of-type {\n",
       "        vertical-align: middle;\n",
       "    }\n",
       "\n",
       "    .dataframe tbody tr th {\n",
       "        vertical-align: top;\n",
       "    }\n",
       "\n",
       "    .dataframe thead th {\n",
       "        text-align: right;\n",
       "    }\n",
       "</style>\n",
       "<table border=\"1\" class=\"dataframe\">\n",
       "  <thead>\n",
       "    <tr style=\"text-align: right;\">\n",
       "      <th></th>\n",
       "      <th>AUC_Prediction</th>\n",
       "      <th>AUC_Popular</th>\n",
       "      <th>NDCG@1</th>\n",
       "      <th>NDCG@2</th>\n",
       "      <th>NDCG@3</th>\n",
       "      <th>NDCG@5</th>\n",
       "      <th>NDCG@10</th>\n",
       "      <th>NDCG@10 Popular Baseline</th>\n",
       "      <th>SP Model</th>\n",
       "      <th>SP Shape</th>\n",
       "    </tr>\n",
       "  </thead>\n",
       "  <tbody>\n",
       "    <tr>\n",
       "      <th>0</th>\n",
       "      <td>0.634</td>\n",
       "      <td>0.955</td>\n",
       "      <td>0.030</td>\n",
       "      <td>0.038</td>\n",
       "      <td>0.045</td>\n",
       "      <td>0.055</td>\n",
       "      <td>0.069</td>\n",
       "      <td>0.260</td>\n",
       "      <td>SP5</td>\n",
       "      <td>(698242, 1793)</td>\n",
       "    </tr>\n",
       "    <tr>\n",
       "      <th>1</th>\n",
       "      <td>0.684</td>\n",
       "      <td>0.949</td>\n",
       "      <td>0.040</td>\n",
       "      <td>0.050</td>\n",
       "      <td>0.060</td>\n",
       "      <td>0.075</td>\n",
       "      <td>0.095</td>\n",
       "      <td>0.208</td>\n",
       "      <td>SP10</td>\n",
       "      <td>(160641, 1793)</td>\n",
       "    </tr>\n",
       "    <tr>\n",
       "      <th>2</th>\n",
       "      <td>0.696</td>\n",
       "      <td>0.947</td>\n",
       "      <td>0.049</td>\n",
       "      <td>0.056</td>\n",
       "      <td>0.068</td>\n",
       "      <td>0.081</td>\n",
       "      <td>0.101</td>\n",
       "      <td>0.192</td>\n",
       "      <td>SP15</td>\n",
       "      <td>(83469, 1793)</td>\n",
       "    </tr>\n",
       "    <tr>\n",
       "      <th>3</th>\n",
       "      <td>0.711</td>\n",
       "      <td>0.947</td>\n",
       "      <td>0.059</td>\n",
       "      <td>0.065</td>\n",
       "      <td>0.075</td>\n",
       "      <td>0.090</td>\n",
       "      <td>0.112</td>\n",
       "      <td>0.192</td>\n",
       "      <td>SP20</td>\n",
       "      <td>(39100, 1793)</td>\n",
       "    </tr>\n",
       "    <tr>\n",
       "      <th>4</th>\n",
       "      <td>0.718</td>\n",
       "      <td>0.947</td>\n",
       "      <td>0.058</td>\n",
       "      <td>0.066</td>\n",
       "      <td>0.074</td>\n",
       "      <td>0.088</td>\n",
       "      <td>0.111</td>\n",
       "      <td>0.181</td>\n",
       "      <td>SP25</td>\n",
       "      <td>(26017, 1793)</td>\n",
       "    </tr>\n",
       "  </tbody>\n",
       "</table>\n",
       "</div>"
      ],
      "text/plain": [
       "   AUC_Prediction  AUC_Popular  NDCG@1  NDCG@2  NDCG@3  NDCG@5  NDCG@10  \\\n",
       "0           0.634        0.955   0.030   0.038   0.045   0.055    0.069   \n",
       "1           0.684        0.949   0.040   0.050   0.060   0.075    0.095   \n",
       "2           0.696        0.947   0.049   0.056   0.068   0.081    0.101   \n",
       "3           0.711        0.947   0.059   0.065   0.075   0.090    0.112   \n",
       "4           0.718        0.947   0.058   0.066   0.074   0.088    0.111   \n",
       "\n",
       "   NDCG@10 Popular Baseline SP Model        SP Shape  \n",
       "0                     0.260      SP5  (698242, 1793)  \n",
       "1                     0.208     SP10  (160641, 1793)  \n",
       "2                     0.192     SP15   (83469, 1793)  \n",
       "3                     0.192     SP20   (39100, 1793)  \n",
       "4                     0.181     SP25   (26017, 1793)  "
      ]
     },
     "execution_count": 128,
     "metadata": {},
     "output_type": "execute_result"
    }
   ],
   "source": [
    "metrices_df"
   ]
  },
  {
   "cell_type": "code",
   "execution_count": 106,
   "metadata": {},
   "outputs": [
    {
     "data": {
      "image/png": "[encoded data removed]",
      "text/plain": [
       "<Figure size 432x288 with 1 Axes>"
      ]
     },
     "metadata": {
      "needs_background": "light"
     },
     "output_type": "display_data"
    }
   ],
   "source": [
    "import matplotlib.pyplot as plt\n",
    "\n",
    "# gca stands for 'get current axis'\n",
    "ax = plt.gca()\n",
    "ax.set_title(\"NDCG Plot\")\n",
    "metrices_df.plot(kind='line',x='SP Model',y=['NDCG@1','NDCG@2','NDCG@3','NDCG@5','NDCG@10'],ax=ax)\n",
    "plt.show()"
   ]
  },
  {
   "cell_type": "code",
   "execution_count": 109,
   "metadata": {},
   "outputs": [
    {
     "data": {
      "image/png": "[encoded data removed]",
      "text/plain": [
       "<Figure size 432x288 with 1 Axes>"
      ]
     },
     "metadata": {
      "needs_background": "light"
     },
     "output_type": "display_data"
    }
   ],
   "source": [
    "ax = plt.gca()\n",
    "ax.set_title(\"AUC Plot\")\n",
    "metrices_df.plot(kind='line',x='SP Model',y=['AUC_Prediction'],ax=ax)\n",
    "plt.show()"
   ]
  },
  {
   "cell_type": "markdown",
   "metadata": {},
   "source": [
    "## Recommendations"
   ]
  },
  {
   "cell_type": "code",
   "execution_count": 10,
   "metadata": {},
   "outputs": [],
   "source": [
    "item_lookup = twitter_count_df[['Domain']].drop_duplicates() # Only get unique item/description pairs\n",
    "item_lookup['Domain'] = item_lookup.Domain.astype(str)"
   ]
  },
  {
   "cell_type": "code",
   "execution_count": 11,
   "metadata": {},
   "outputs": [
    {
     "ename": "NameError",
     "evalue": "name 'sdf_drop_20' is not defined",
     "output_type": "error",
     "traceback": [
      "\u001b[0;31m---------------------------------------------------------------------------\u001b[0m",
      "\u001b[0;31mNameError\u001b[0m                                 Traceback (most recent call last)",
      "\u001b[0;32m<ipython-input-11-114ee928ed4f>\u001b[0m in \u001b[0;36m<module>\u001b[0;34m\u001b[0m\n\u001b[1;32m      1\u001b[0m \u001b[0;31m#using sp model 20\u001b[0m\u001b[0;34m\u001b[0m\u001b[0;34m\u001b[0m\u001b[0;34m\u001b[0m\u001b[0m\n\u001b[1;32m      2\u001b[0m \u001b[0;34m\u001b[0m\u001b[0m\n\u001b[0;32m----> 3\u001b[0;31m \u001b[0musername_arr\u001b[0m \u001b[0;34m=\u001b[0m \u001b[0mnp\u001b[0m\u001b[0;34m.\u001b[0m\u001b[0marray\u001b[0m\u001b[0;34m(\u001b[0m\u001b[0mlist\u001b[0m\u001b[0;34m(\u001b[0m\u001b[0mnp\u001b[0m\u001b[0;34m.\u001b[0m\u001b[0msort\u001b[0m\u001b[0;34m(\u001b[0m\u001b[0msdf_drop_20\u001b[0m\u001b[0;34m.\u001b[0m\u001b[0mindex\u001b[0m\u001b[0;34m.\u001b[0m\u001b[0munique\u001b[0m\u001b[0;34m(\u001b[0m\u001b[0;34m)\u001b[0m\u001b[0;34m)\u001b[0m\u001b[0;34m)\u001b[0m\u001b[0;34m)\u001b[0m\u001b[0;34m\u001b[0m\u001b[0;34m\u001b[0m\u001b[0m\n\u001b[0m\u001b[1;32m      4\u001b[0m \u001b[0mdomain_arr\u001b[0m \u001b[0;34m=\u001b[0m \u001b[0mnp\u001b[0m\u001b[0;34m.\u001b[0m\u001b[0marray\u001b[0m\u001b[0;34m(\u001b[0m\u001b[0mlist\u001b[0m\u001b[0;34m(\u001b[0m\u001b[0mnp\u001b[0m\u001b[0;34m.\u001b[0m\u001b[0msort\u001b[0m\u001b[0;34m(\u001b[0m\u001b[0msdf_drop_20\u001b[0m\u001b[0;34m.\u001b[0m\u001b[0mcolumns\u001b[0m\u001b[0;34m.\u001b[0m\u001b[0munique\u001b[0m\u001b[0;34m(\u001b[0m\u001b[0;34m)\u001b[0m\u001b[0;34m)\u001b[0m\u001b[0;34m)\u001b[0m\u001b[0;34m)\u001b[0m\u001b[0;34m\u001b[0m\u001b[0;34m\u001b[0m\u001b[0m\n",
      "\u001b[0;31mNameError\u001b[0m: name 'sdf_drop_20' is not defined"
     ]
    }
   ],
   "source": [
    "#using sp model 20\n",
    "\n",
    "username_arr = np.array(list(np.sort(sdf_drop_20.index.unique())))\n",
    "domain_arr = np.array(list(np.sort(sdf_drop_20.columns.unique())))"
   ]
  },
  {
   "cell_type": "code",
   "execution_count": 29,
   "metadata": {},
   "outputs": [
    {
     "data": {
      "text/plain": [
       "array(['001Bbot', '0060U', '007AliSohrab', ..., 'zypisfy', 'zyujinn',\n",
       "       'zywiecPolska'], dtype='<U15')"
      ]
     },
     "execution_count": 29,
     "metadata": {},
     "output_type": "execute_result"
    }
   ],
   "source": [
    "username_arr"
   ]
  },
  {
   "cell_type": "code",
   "execution_count": 30,
   "metadata": {},
   "outputs": [
    {
     "data": {
      "text/plain": [
       "array(['100percentfedup.com', '1011now.com', '10best.com', ...,\n",
       "       'zerohedge.com', 'zimbio.com', 'zinnedproject.org'], dtype='<U30')"
      ]
     },
     "execution_count": 30,
     "metadata": {},
     "output_type": "execute_result"
    }
   ],
   "source": [
    "domain_arr"
   ]
  },
  {
   "cell_type": "code",
   "execution_count": 31,
   "metadata": {},
   "outputs": [],
   "source": [
    "def get_domains_viewed(customer_id, dataset,customers_list, domain_list,item_lookup):\n",
    "    \n",
    "    '''\n",
    "    dataset: either train or test dataset \n",
    "    '''\n",
    "    \n",
    "    cust_ind = np.where(customers_list == customer_id)[0][0] # Returns the index row of our customer id\n",
    "    \n",
    "    domain_ind = dataset[cust_ind,:].nonzero()[1]# Get column indices of viewed domains\n",
    "    print(domain_ind)\n",
    "    domain_codes = domain_list[domain_ind] # Get the index for viewed domains\n",
    "    return item_lookup.loc[item_lookup.Domain.isin(domain_codes)]"
   ]
  },
  {
   "cell_type": "code",
   "execution_count": 33,
   "metadata": {},
   "outputs": [
    {
     "name": "stdout",
     "output_type": "stream",
     "text": [
      "[ 627  670  990 1067 1121 1387 1391 1405 1509 1544 1554 1585]\n"
     ]
    },
    {
     "data": {
      "text/html": [
       "<div>\n",
       "<style scoped>\n",
       "    .dataframe tbody tr th:only-of-type {\n",
       "        vertical-align: middle;\n",
       "    }\n",
       "\n",
       "    .dataframe tbody tr th {\n",
       "        vertical-align: top;\n",
       "    }\n",
       "\n",
       "    .dataframe thead th {\n",
       "        text-align: right;\n",
       "    }\n",
       "</style>\n",
       "<table border=\"1\" class=\"dataframe\">\n",
       "  <thead>\n",
       "    <tr style=\"text-align: right;\">\n",
       "      <th></th>\n",
       "      <th>Domain</th>\n",
       "    </tr>\n",
       "  </thead>\n",
       "  <tbody>\n",
       "    <tr>\n",
       "      <th>612</th>\n",
       "      <td>theguardian.com</td>\n",
       "    </tr>\n",
       "    <tr>\n",
       "      <th>682</th>\n",
       "      <td>usatoday.com</td>\n",
       "    </tr>\n",
       "    <tr>\n",
       "      <th>718</th>\n",
       "      <td>huffpost.com</td>\n",
       "    </tr>\n",
       "    <tr>\n",
       "      <th>1031</th>\n",
       "      <td>nytimes.com</td>\n",
       "    </tr>\n",
       "    <tr>\n",
       "      <th>5964</th>\n",
       "      <td>nbcnews.com</td>\n",
       "    </tr>\n",
       "    <tr>\n",
       "      <th>7179</th>\n",
       "      <td>washingtonpost.com</td>\n",
       "    </tr>\n",
       "    <tr>\n",
       "      <th>8315</th>\n",
       "      <td>vanityfair.com</td>\n",
       "    </tr>\n",
       "    <tr>\n",
       "      <th>11719</th>\n",
       "      <td>thedailybeast.com</td>\n",
       "    </tr>\n",
       "    <tr>\n",
       "      <th>15542</th>\n",
       "      <td>truthout.org</td>\n",
       "    </tr>\n",
       "    <tr>\n",
       "      <th>32118</th>\n",
       "      <td>theconversation.com</td>\n",
       "    </tr>\n",
       "    <tr>\n",
       "      <th>32776</th>\n",
       "      <td>inquisitr.com</td>\n",
       "    </tr>\n",
       "    <tr>\n",
       "      <th>32780</th>\n",
       "      <td>pbs.org</td>\n",
       "    </tr>\n",
       "  </tbody>\n",
       "</table>\n",
       "</div>"
      ],
      "text/plain": [
       "                    Domain\n",
       "612        theguardian.com\n",
       "682           usatoday.com\n",
       "718           huffpost.com\n",
       "1031           nytimes.com\n",
       "5964           nbcnews.com\n",
       "7179    washingtonpost.com\n",
       "8315        vanityfair.com\n",
       "11719    thedailybeast.com\n",
       "15542         truthout.org\n",
       "32118  theconversation.com\n",
       "32776        inquisitr.com\n",
       "32780              pbs.org"
      ]
     },
     "execution_count": 33,
     "metadata": {},
     "output_type": "execute_result"
    }
   ],
   "source": [
    "get_domains_viewed('1Progressivism', train_sp20, username_arr, domain_arr, item_lookup)"
   ]
  },
  {
   "cell_type": "markdown",
   "metadata": {},
   "source": [
    "#### Two ways used to generate the recpmmendations"
   ]
  },
  {
   "cell_type": "markdown",
   "metadata": {},
   "source": [
    "### Method 1: Directly using the implicit library function model.recommend"
   ]
  },
  {
   "cell_type": "code",
   "execution_count": 34,
   "metadata": {},
   "outputs": [],
   "source": [
    "def generate_recommendations(user_id,model,domain_user_data,spd,num_items):\n",
    "    '''\n",
    "    model: ALS model\n",
    "    spd: sparse dataframe\n",
    "    \n",
    "    '''\n",
    "    \n",
    "    cust_ind = np.where((np.array(list(np.sort(spd.index.unique())))) == user_id)[0][0] # Returns the index row of our customer id\n",
    "    \n",
    "    #Recommendations\n",
    "    recommended = model.recommend(cust_ind, domain_user_data.T)\n",
    "    \n",
    "    domains = []\n",
    "    scores = []\n",
    "\n",
    "    # Get domains names from ids\n",
    "    for item in recommended:\n",
    "        idx, score = item\n",
    "\n",
    "        domains.append(spd.columns[idx])\n",
    "        scores.append(score)\n",
    "\n",
    "    # Create a dataframe of artist names and scores\n",
    "    recommendations = pd.DataFrame({'Domain': domains, 'score': scores})\n",
    "    return recommendations\n"
   ]
  },
  {
   "cell_type": "code",
   "execution_count": 36,
   "metadata": {},
   "outputs": [
    {
     "data": {
      "text/html": [
       "<div>\n",
       "<style scoped>\n",
       "    .dataframe tbody tr th:only-of-type {\n",
       "        vertical-align: middle;\n",
       "    }\n",
       "\n",
       "    .dataframe tbody tr th {\n",
       "        vertical-align: top;\n",
       "    }\n",
       "\n",
       "    .dataframe thead th {\n",
       "        text-align: right;\n",
       "    }\n",
       "</style>\n",
       "<table border=\"1\" class=\"dataframe\">\n",
       "  <thead>\n",
       "    <tr style=\"text-align: right;\">\n",
       "      <th></th>\n",
       "      <th>Domain</th>\n",
       "      <th>score</th>\n",
       "    </tr>\n",
       "  </thead>\n",
       "  <tbody>\n",
       "    <tr>\n",
       "      <th>0</th>\n",
       "      <td>nytimes.com</td>\n",
       "      <td>1.048380</td>\n",
       "    </tr>\n",
       "    <tr>\n",
       "      <th>1</th>\n",
       "      <td>yahoo.com</td>\n",
       "      <td>1.041746</td>\n",
       "    </tr>\n",
       "    <tr>\n",
       "      <th>2</th>\n",
       "      <td>thedailybeast.com</td>\n",
       "      <td>1.031049</td>\n",
       "    </tr>\n",
       "    <tr>\n",
       "      <th>3</th>\n",
       "      <td>theguardian.com</td>\n",
       "      <td>1.001260</td>\n",
       "    </tr>\n",
       "    <tr>\n",
       "      <th>4</th>\n",
       "      <td>apnews.com</td>\n",
       "      <td>0.948218</td>\n",
       "    </tr>\n",
       "    <tr>\n",
       "      <th>5</th>\n",
       "      <td>dailykos.com</td>\n",
       "      <td>0.934918</td>\n",
       "    </tr>\n",
       "    <tr>\n",
       "      <th>6</th>\n",
       "      <td>huffpost.com</td>\n",
       "      <td>0.925615</td>\n",
       "    </tr>\n",
       "    <tr>\n",
       "      <th>7</th>\n",
       "      <td>newyorker.com</td>\n",
       "      <td>0.895206</td>\n",
       "    </tr>\n",
       "    <tr>\n",
       "      <th>8</th>\n",
       "      <td>nbcnews.com</td>\n",
       "      <td>0.894041</td>\n",
       "    </tr>\n",
       "    <tr>\n",
       "      <th>9</th>\n",
       "      <td>vanityfair.com</td>\n",
       "      <td>0.877412</td>\n",
       "    </tr>\n",
       "  </tbody>\n",
       "</table>\n",
       "</div>"
      ],
      "text/plain": [
       "              Domain     score\n",
       "0        nytimes.com  1.048380\n",
       "1          yahoo.com  1.041746\n",
       "2  thedailybeast.com  1.031049\n",
       "3    theguardian.com  1.001260\n",
       "4         apnews.com  0.948218\n",
       "5       dailykos.com  0.934918\n",
       "6       huffpost.com  0.925615\n",
       "7      newyorker.com  0.895206\n",
       "8        nbcnews.com  0.894041\n",
       "9     vanityfair.com  0.877412"
      ]
     },
     "execution_count": 36,
     "metadata": {},
     "output_type": "execute_result"
    }
   ],
   "source": [
    "generate_recommendations(\"1Progressivism\",model_sp20,domain_user_data_sp20,sdf_drop_20,10)\n"
   ]
  },
  {
   "cell_type": "markdown",
   "metadata": {},
   "source": [
    "### Method 2: User defined way to calculate --> To get the actual score we take the dot product between the trained user vector and the transpose of the item vectors."
   ]
  },
  {
   "cell_type": "code",
   "execution_count": 37,
   "metadata": {},
   "outputs": [],
   "source": [
    "def rec_items(customer_id, mf_train, user_vecs, item_vecs, customer_list, item_list, num_items = 10):\n",
    " \n",
    "    \n",
    "    '''\n",
    "    This function will return the top recommended items to our users \n",
    "    \n",
    "    parameters:\n",
    "    \n",
    "    customer_id - Input the customer's id number that you want to get recommendations for\n",
    "    \n",
    "    mf_train - The training matrix you used for matrix factorization fitting\n",
    "    \n",
    "    user_vecs - the user vectors from your fitted matrix factorization\n",
    "    \n",
    "    item_vecs - the item vectors from your fitted matrix factorization\n",
    "    \n",
    "    customer_list - an array of the customer's ID numbers that make up the rows of your ratings matrix \n",
    "                    (in order of matrix)\n",
    "    \n",
    "    item_list - an array of the domains that make up the columns of your ratings matrix\n",
    "                    (in order of matrix)\n",
    "    \n",
    "    \n",
    "    num_items - The number of domains you want to recommend in order of best recommendations. Default is 10. \n",
    "    \n",
    "    returns:\n",
    "    \n",
    "    - The top n recommendations chosen based on the user/item vectors for items never interacted with/purchased\n",
    "    '''\n",
    "    \n",
    "    \n",
    "    \n",
    "    cust_ind = np.where(customer_list == customer_id)[0][0] # Returns the index row of our customer id\n",
    "    \n",
    "    pref_vec = mf_train[cust_ind,:].toarray() # Get the ratings from the training set ratings matrix\n",
    "    pref_vec = pref_vec.reshape(-1) + 1 # Add 1 to everything, so that domains not used yet become equal to 1\n",
    "    pref_vec[pref_vec > 1] = 0 # Make everything already used zero\n",
    "\n",
    "    \n",
    "    rec_vector = user_vecs[cust_ind,:].dot(item_vecs.T) # Get dot product of user vector and all item vectors\n",
    "    # Scale this recommendation vector between 0 and 1\n",
    "    min_max = MinMaxScaler()\n",
    "    rec_vector_scaled = min_max.fit_transform(rec_vector.reshape(-1,1))[:,0] \n",
    "    \n",
    "  \n",
    "    recommend_vector = pref_vec*rec_vector_scaled \n",
    "    \n",
    "\n",
    "    # domains already used have their recommendation multiplied by zero\n",
    "    product_idx = np.argsort(recommend_vector)[::-1][:num_items] # Sort the indices of the domains into order \n",
    "    #print(product_idx)\n",
    "    \n",
    "    # of best recommendations\n",
    "    rec_list = [] # start empty list to store items\n",
    "    similairty_scores = []\n",
    "    for index in product_idx:\n",
    "        code = item_list[index]\n",
    "        rec_list.append([code]) \n",
    "        similairty_scores.append(recommend_vector[index])\n",
    "        \n",
    "    codes = [item[0] for item in rec_list]\n",
    "    final_frame = pd.DataFrame({'Domain': codes,'Score':similairty_scores}) # Create a dataframe\n",
    "    print(\"Recommended domains for the user\")\n",
    "    return final_frame # Switch order of columns around"
   ]
  },
  {
   "cell_type": "code",
   "execution_count": 38,
   "metadata": {},
   "outputs": [
    {
     "name": "stdout",
     "output_type": "stream",
     "text": [
      "Recommended domains for the user\n"
     ]
    },
    {
     "data": {
      "text/html": [
       "<div>\n",
       "<style scoped>\n",
       "    .dataframe tbody tr th:only-of-type {\n",
       "        vertical-align: middle;\n",
       "    }\n",
       "\n",
       "    .dataframe tbody tr th {\n",
       "        vertical-align: top;\n",
       "    }\n",
       "\n",
       "    .dataframe thead th {\n",
       "        text-align: right;\n",
       "    }\n",
       "</style>\n",
       "<table border=\"1\" class=\"dataframe\">\n",
       "  <thead>\n",
       "    <tr style=\"text-align: right;\">\n",
       "      <th></th>\n",
       "      <th>Domain</th>\n",
       "      <th>Score</th>\n",
       "    </tr>\n",
       "  </thead>\n",
       "  <tbody>\n",
       "    <tr>\n",
       "      <th>0</th>\n",
       "      <td>yahoo.com</td>\n",
       "      <td>0.996141</td>\n",
       "    </tr>\n",
       "    <tr>\n",
       "      <th>1</th>\n",
       "      <td>apnews.com</td>\n",
       "      <td>0.941738</td>\n",
       "    </tr>\n",
       "    <tr>\n",
       "      <th>2</th>\n",
       "      <td>dailykos.com</td>\n",
       "      <td>0.934002</td>\n",
       "    </tr>\n",
       "    <tr>\n",
       "      <th>3</th>\n",
       "      <td>newyorker.com</td>\n",
       "      <td>0.910903</td>\n",
       "    </tr>\n",
       "    <tr>\n",
       "      <th>4</th>\n",
       "      <td>vox.com</td>\n",
       "      <td>0.898845</td>\n",
       "    </tr>\n",
       "    <tr>\n",
       "      <th>5</th>\n",
       "      <td>msnbc.com</td>\n",
       "      <td>0.867575</td>\n",
       "    </tr>\n",
       "    <tr>\n",
       "      <th>6</th>\n",
       "      <td>motherjones.com</td>\n",
       "      <td>0.861506</td>\n",
       "    </tr>\n",
       "    <tr>\n",
       "      <th>7</th>\n",
       "      <td>msn.com</td>\n",
       "      <td>0.850413</td>\n",
       "    </tr>\n",
       "    <tr>\n",
       "      <th>8</th>\n",
       "      <td>politicususa.com</td>\n",
       "      <td>0.838574</td>\n",
       "    </tr>\n",
       "    <tr>\n",
       "      <th>9</th>\n",
       "      <td>thehill.com</td>\n",
       "      <td>0.825085</td>\n",
       "    </tr>\n",
       "  </tbody>\n",
       "</table>\n",
       "</div>"
      ],
      "text/plain": [
       "             Domain     Score\n",
       "0         yahoo.com  0.996141\n",
       "1        apnews.com  0.941738\n",
       "2      dailykos.com  0.934002\n",
       "3     newyorker.com  0.910903\n",
       "4           vox.com  0.898845\n",
       "5         msnbc.com  0.867575\n",
       "6   motherjones.com  0.861506\n",
       "7           msn.com  0.850413\n",
       "8  politicususa.com  0.838574\n",
       "9       thehill.com  0.825085"
      ]
     },
     "execution_count": 38,
     "metadata": {},
     "output_type": "execute_result"
    }
   ],
   "source": [
    "rec_items(\"1Progressivism\", train_sp20, user_vecs_sp20, item_vecs_sp20, username_arr, domain_arr,\n",
    "                       num_items = 10)"
   ]
  },
  {
   "cell_type": "markdown",
   "metadata": {},
   "source": [
    "### Trying some other implicit libarary functions"
   ]
  },
  {
   "cell_type": "markdown",
   "metadata": {},
   "source": [
    "### model.similar_items()"
   ]
  },
  {
   "cell_type": "code",
   "execution_count": 51,
   "metadata": {},
   "outputs": [
    {
     "data": {
      "text/plain": [
       "(array([519]),)"
      ]
     },
     "execution_count": 51,
     "metadata": {},
     "output_type": "execute_result"
    }
   ],
   "source": [
    "#get the index of domain\n",
    "np.where(domain_arr == \"foxnews.com\")"
   ]
  },
  {
   "cell_type": "code",
   "execution_count": 55,
   "metadata": {},
   "outputs": [
    {
     "name": "stdout",
     "output_type": "stream",
     "text": [
      "foxnews.com 1.0000001\n",
      "fox13memphis.com 0.6824376\n",
      "wcax.com 0.66804504\n",
      "nbcbayarea.com 0.6031035\n",
      "heritage.org 0.5695114\n",
      "nowtheendbegins.com 0.55519575\n",
      "fox61.com 0.54916537\n",
      "kfor.com 0.5316525\n",
      "artsy.net 0.50988466\n",
      "wsoctv.com 0.5067214\n"
     ]
    }
   ],
   "source": [
    "similar = model_sp20.similar_items(519, 10)\n",
    "\n",
    "# Print the names of our most similar domains\n",
    "for item in similar:\n",
    "    idx, score = item\n",
    "    print(sdf_drop_20.columns[idx],score)\n",
    "    "
   ]
  },
  {
   "cell_type": "markdown",
   "metadata": {},
   "source": [
    "### model.similar_users()"
   ]
  },
  {
   "cell_type": "code",
   "execution_count": 56,
   "metadata": {},
   "outputs": [
    {
     "data": {
      "text/plain": [
       "(array([201]),)"
      ]
     },
     "execution_count": 56,
     "metadata": {},
     "output_type": "execute_result"
    }
   ],
   "source": [
    "#get the index of user\n",
    "np.where(username_arr == \"1Progressivism\")"
   ]
  },
  {
   "cell_type": "code",
   "execution_count": 58,
   "metadata": {},
   "outputs": [
    {
     "name": "stdout",
     "output_type": "stream",
     "text": [
      "1Progressivism 0.9999999\n",
      "Rteefact 0.82365507\n",
      "MaraAlmudena2 0.8223703\n",
      "bettyp711 0.76631665\n",
      "llomenzo 0.75601846\n",
      "MikeReeseM 0.754416\n",
      "orangeorchards 0.75046104\n",
      "dianexav1 0.7478097\n",
      "buffaloon 0.7469688\n",
      "Djama18291981 0.7452957\n"
     ]
    }
   ],
   "source": [
    "similar_user = model_sp20.similar_users(201, 10)\n",
    "\n",
    "# Print the names of our most similar domains\n",
    "for item in similar_user:\n",
    "    idx, score = item\n",
    "    print(sdf_drop_20.index[idx],score)"
   ]
  },
  {
   "cell_type": "markdown",
   "metadata": {},
   "source": [
    "### model.recommend_all()"
   ]
  },
  {
   "cell_type": "code",
   "execution_count": 34,
   "metadata": {},
   "outputs": [
    {
     "data": {
      "application/vnd.jupyter.widget-view+json": {
       "model_id": "83116895e00449dc87babf420ac70c03",
       "version_major": 2,
       "version_minor": 0
      },
      "text/plain": [
       "HBox(children=(FloatProgress(value=0.0, max=39100.0), HTML(value='')))"
      ]
     },
     "metadata": {},
     "output_type": "display_data"
    },
    {
     "name": "stdout",
     "output_type": "stream",
     "text": [
      "\n"
     ]
    }
   ],
   "source": [
    "#this function helps in getting top N recommendations for every user\n",
    "\n",
    "recommendations_complete = model_sp20.recommend_all(domain_user_data_sp20,10)\n",
    "    \n",
    "domains = []\n",
    "\n",
    "# Get domain names from ids\n",
    "for item in recommendations_complete:\n",
    "    idx = item\n",
    "    domains.append(sdf_drop_20.columns[idx])\n",
    "\n",
    "# Create a dataframe of domains names\n",
    "# print(pd.DataFrame({'Domain': domains}))\n",
    "all_users_recommendations_df = pd.DataFrame(sdf_drop_20.index,columns=['Username'])\n",
    "all_users_recommendations_df[['rec1', 'rec2', 'rec3', 'rec4', 'rec5', 'rec6', 'rec7', 'rec8', 'rec9', 'rec10']] = domains"
   ]
  },
  {
   "cell_type": "code",
   "execution_count": 35,
   "metadata": {},
   "outputs": [
    {
     "data": {
      "text/html": [
       "<div>\n",
       "<style scoped>\n",
       "    .dataframe tbody tr th:only-of-type {\n",
       "        vertical-align: middle;\n",
       "    }\n",
       "\n",
       "    .dataframe tbody tr th {\n",
       "        vertical-align: top;\n",
       "    }\n",
       "\n",
       "    .dataframe thead th {\n",
       "        text-align: right;\n",
       "    }\n",
       "</style>\n",
       "<table border=\"1\" class=\"dataframe\">\n",
       "  <thead>\n",
       "    <tr style=\"text-align: right;\">\n",
       "      <th></th>\n",
       "      <th>Username</th>\n",
       "      <th>rec1</th>\n",
       "      <th>rec2</th>\n",
       "      <th>rec3</th>\n",
       "      <th>rec4</th>\n",
       "      <th>rec5</th>\n",
       "      <th>rec6</th>\n",
       "      <th>rec7</th>\n",
       "      <th>rec8</th>\n",
       "      <th>rec9</th>\n",
       "      <th>rec10</th>\n",
       "    </tr>\n",
       "  </thead>\n",
       "  <tbody>\n",
       "    <tr>\n",
       "      <th>0</th>\n",
       "      <td>001Bbot</td>\n",
       "      <td>12up.com</td>\n",
       "      <td>13abc.com</td>\n",
       "      <td>10tv.com</td>\n",
       "      <td>12newsnow.com</td>\n",
       "      <td>11alive.com</td>\n",
       "      <td>10news.com</td>\n",
       "      <td>1011now.com</td>\n",
       "      <td>100percentfedup.com</td>\n",
       "      <td>10best.com</td>\n",
       "      <td>12news.com</td>\n",
       "    </tr>\n",
       "    <tr>\n",
       "      <th>1</th>\n",
       "      <td>0060U</td>\n",
       "      <td>12up.com</td>\n",
       "      <td>13abc.com</td>\n",
       "      <td>10tv.com</td>\n",
       "      <td>12newsnow.com</td>\n",
       "      <td>11alive.com</td>\n",
       "      <td>10news.com</td>\n",
       "      <td>1011now.com</td>\n",
       "      <td>100percentfedup.com</td>\n",
       "      <td>10best.com</td>\n",
       "      <td>12news.com</td>\n",
       "    </tr>\n",
       "    <tr>\n",
       "      <th>2</th>\n",
       "      <td>007AliSohrab</td>\n",
       "      <td>12up.com</td>\n",
       "      <td>13abc.com</td>\n",
       "      <td>10tv.com</td>\n",
       "      <td>12newsnow.com</td>\n",
       "      <td>11alive.com</td>\n",
       "      <td>10news.com</td>\n",
       "      <td>1011now.com</td>\n",
       "      <td>100percentfedup.com</td>\n",
       "      <td>10best.com</td>\n",
       "      <td>12news.com</td>\n",
       "    </tr>\n",
       "    <tr>\n",
       "      <th>3</th>\n",
       "      <td>007Dufour007</td>\n",
       "      <td>instagram.com</td>\n",
       "      <td>lnk.to</td>\n",
       "      <td>iheart.com</td>\n",
       "      <td>bbc.co.uk</td>\n",
       "      <td>latimes.com</td>\n",
       "      <td>msnbc.com</td>\n",
       "      <td>independent.co.uk</td>\n",
       "      <td>wordpress.com</td>\n",
       "      <td>metro.co.uk</td>\n",
       "      <td>nypost.com</td>\n",
       "    </tr>\n",
       "    <tr>\n",
       "      <th>4</th>\n",
       "      <td>007Eureka</td>\n",
       "      <td>12up.com</td>\n",
       "      <td>13abc.com</td>\n",
       "      <td>10tv.com</td>\n",
       "      <td>12newsnow.com</td>\n",
       "      <td>11alive.com</td>\n",
       "      <td>10news.com</td>\n",
       "      <td>1011now.com</td>\n",
       "      <td>100percentfedup.com</td>\n",
       "      <td>10best.com</td>\n",
       "      <td>12news.com</td>\n",
       "    </tr>\n",
       "    <tr>\n",
       "      <th>...</th>\n",
       "      <td>...</td>\n",
       "      <td>...</td>\n",
       "      <td>...</td>\n",
       "      <td>...</td>\n",
       "      <td>...</td>\n",
       "      <td>...</td>\n",
       "      <td>...</td>\n",
       "      <td>...</td>\n",
       "      <td>...</td>\n",
       "      <td>...</td>\n",
       "      <td>...</td>\n",
       "    </tr>\n",
       "    <tr>\n",
       "      <th>39095</th>\n",
       "      <td>zxq9_notits</td>\n",
       "      <td>breitbart.com</td>\n",
       "      <td>washingtonpost.com</td>\n",
       "      <td>wordpress.com</td>\n",
       "      <td>spotify.com</td>\n",
       "      <td>yahoo.com</td>\n",
       "      <td>nytimes.com</td>\n",
       "      <td>apple.com</td>\n",
       "      <td>instagram.com</td>\n",
       "      <td>google.com</td>\n",
       "      <td>tumblr.com</td>\n",
       "    </tr>\n",
       "    <tr>\n",
       "      <th>39096</th>\n",
       "      <td>zygmuntmichnie1</td>\n",
       "      <td>bloomberg.com</td>\n",
       "      <td>youtube.com</td>\n",
       "      <td>cnbc.com</td>\n",
       "      <td>ft.com</td>\n",
       "      <td>wordpress.com</td>\n",
       "      <td>abc.net.au</td>\n",
       "      <td>timesofisrael.com</td>\n",
       "      <td>dailystar.co.uk</td>\n",
       "      <td>theguardian.com</td>\n",
       "      <td>smh.com.au</td>\n",
       "    </tr>\n",
       "    <tr>\n",
       "      <th>39097</th>\n",
       "      <td>zypisfy</td>\n",
       "      <td>12up.com</td>\n",
       "      <td>13abc.com</td>\n",
       "      <td>10tv.com</td>\n",
       "      <td>12newsnow.com</td>\n",
       "      <td>11alive.com</td>\n",
       "      <td>10news.com</td>\n",
       "      <td>1011now.com</td>\n",
       "      <td>100percentfedup.com</td>\n",
       "      <td>10best.com</td>\n",
       "      <td>12news.com</td>\n",
       "    </tr>\n",
       "    <tr>\n",
       "      <th>39098</th>\n",
       "      <td>zyujinn</td>\n",
       "      <td>apple.com</td>\n",
       "      <td>instagram.com</td>\n",
       "      <td>facebook.com</td>\n",
       "      <td>latimes.com</td>\n",
       "      <td>lnk.to</td>\n",
       "      <td>youtube.com</td>\n",
       "      <td>reuters.com</td>\n",
       "      <td>cbsnews.com</td>\n",
       "      <td>oann.com</td>\n",
       "      <td>newsweek.com</td>\n",
       "    </tr>\n",
       "    <tr>\n",
       "      <th>39099</th>\n",
       "      <td>zywiecPolska</td>\n",
       "      <td>businessinsider.com</td>\n",
       "      <td>wsj.com</td>\n",
       "      <td>theatlantic.com</td>\n",
       "      <td>politico.com</td>\n",
       "      <td>bloomberg.com</td>\n",
       "      <td>nypost.com</td>\n",
       "      <td>economist.com</td>\n",
       "      <td>foxnews.com</td>\n",
       "      <td>buzzfeed.com</td>\n",
       "      <td>townhall.com</td>\n",
       "    </tr>\n",
       "  </tbody>\n",
       "</table>\n",
       "<p>39100 rows × 11 columns</p>\n",
       "</div>"
      ],
      "text/plain": [
       "              Username                 rec1                rec2  \\\n",
       "0              001Bbot             12up.com           13abc.com   \n",
       "1                0060U             12up.com           13abc.com   \n",
       "2         007AliSohrab             12up.com           13abc.com   \n",
       "3         007Dufour007        instagram.com              lnk.to   \n",
       "4            007Eureka             12up.com           13abc.com   \n",
       "...                ...                  ...                 ...   \n",
       "39095      zxq9_notits        breitbart.com  washingtonpost.com   \n",
       "39096  zygmuntmichnie1        bloomberg.com         youtube.com   \n",
       "39097          zypisfy             12up.com           13abc.com   \n",
       "39098          zyujinn            apple.com       instagram.com   \n",
       "39099     zywiecPolska  businessinsider.com             wsj.com   \n",
       "\n",
       "                  rec3           rec4           rec5         rec6  \\\n",
       "0             10tv.com  12newsnow.com    11alive.com   10news.com   \n",
       "1             10tv.com  12newsnow.com    11alive.com   10news.com   \n",
       "2             10tv.com  12newsnow.com    11alive.com   10news.com   \n",
       "3           iheart.com      bbc.co.uk    latimes.com    msnbc.com   \n",
       "4             10tv.com  12newsnow.com    11alive.com   10news.com   \n",
       "...                ...            ...            ...          ...   \n",
       "39095    wordpress.com    spotify.com      yahoo.com  nytimes.com   \n",
       "39096         cnbc.com         ft.com  wordpress.com   abc.net.au   \n",
       "39097         10tv.com  12newsnow.com    11alive.com   10news.com   \n",
       "39098     facebook.com    latimes.com         lnk.to  youtube.com   \n",
       "39099  theatlantic.com   politico.com  bloomberg.com   nypost.com   \n",
       "\n",
       "                    rec7                 rec8             rec9         rec10  \n",
       "0            1011now.com  100percentfedup.com       10best.com    12news.com  \n",
       "1            1011now.com  100percentfedup.com       10best.com    12news.com  \n",
       "2            1011now.com  100percentfedup.com       10best.com    12news.com  \n",
       "3      independent.co.uk        wordpress.com      metro.co.uk    nypost.com  \n",
       "4            1011now.com  100percentfedup.com       10best.com    12news.com  \n",
       "...                  ...                  ...              ...           ...  \n",
       "39095          apple.com        instagram.com       google.com    tumblr.com  \n",
       "39096  timesofisrael.com      dailystar.co.uk  theguardian.com    smh.com.au  \n",
       "39097        1011now.com  100percentfedup.com       10best.com    12news.com  \n",
       "39098        reuters.com          cbsnews.com         oann.com  newsweek.com  \n",
       "39099      economist.com          foxnews.com     buzzfeed.com  townhall.com  \n",
       "\n",
       "[39100 rows x 11 columns]"
      ]
     },
     "execution_count": 35,
     "metadata": {},
     "output_type": "execute_result"
    }
   ],
   "source": [
    "all_users_recommendations_df"
   ]
  },
  {
   "cell_type": "code",
   "execution_count": 36,
   "metadata": {},
   "outputs": [],
   "source": [
    "#save and load all users recommendations dataframe\n",
    "save_obj(all_users_recommendations_df,\"/research/cbuntain/projects/recsys.trajectories/datafiles/Twitter dataframes/all_users_recommendations_df\")\n"
   ]
  },
  {
   "cell_type": "markdown",
   "metadata": {},
   "source": [
    "### Generate Recommendations for new users"
   ]
  },
  {
   "cell_type": "code",
   "execution_count": 225,
   "metadata": {},
   "outputs": [],
   "source": [
    "def recalculate_user(domain_list,user_ratings,model,item_user_matrix):\n",
    "    '''adds new user and its liked items to sparse matrix and returns recalculated recommendations\n",
    "    \n",
    "    domain_list: array of domains that new user wants to rate\n",
    "    user_ratings: array to ratings to respective domains\n",
    "    model: ALS model\n",
    "    item_user_matrix: A sparse matrix of shape (number_users, number_items). \n",
    "    \n",
    "    '''\n",
    "\n",
    "    alpha = 15\n",
    "    m =item_user_matrix\n",
    "    n_users, n_movies = m.shape\n",
    "\n",
    "    ratings = [element * alpha for element in user_ratings]\n",
    "    #print(ratings)\n",
    "    \n",
    "    indx =(domain_arr[:, None] == domain_list).argmax(axis=0)\n",
    "    #print(idx)\n",
    "\n",
    "    m.data = np.hstack((m.data, ratings))\n",
    "    m.indices = np.hstack((m.indices, indx))\n",
    "    m.indptr = np.hstack((m.indptr, len(m.data)))\n",
    "    m._shape = (n_users+1, n_movies)\n",
    "\n",
    "    # recommend N items to new user\n",
    "    \n",
    "    recommended =  model.recommend(n_users, m, recalculate_user=True)\n",
    "    domains = []\n",
    "    scores = []\n",
    "    for item in recommended:\n",
    "        idx, score = item\n",
    "\n",
    "        domains.append(sdf_drop_20.columns[idx])\n",
    "        scores.append(score)\n",
    "\n",
    "    # Create a dataframe of artist names and scores\n",
    "    recommendations = pd.DataFrame({'Domain': domains, 'score': scores})\n",
    "    return recommendations"
   ]
  },
  {
   "cell_type": "code",
   "execution_count": 226,
   "metadata": {},
   "outputs": [
    {
     "data": {
      "text/html": [
       "<div>\n",
       "<style scoped>\n",
       "    .dataframe tbody tr th:only-of-type {\n",
       "        vertical-align: middle;\n",
       "    }\n",
       "\n",
       "    .dataframe tbody tr th {\n",
       "        vertical-align: top;\n",
       "    }\n",
       "\n",
       "    .dataframe thead th {\n",
       "        text-align: right;\n",
       "    }\n",
       "</style>\n",
       "<table border=\"1\" class=\"dataframe\">\n",
       "  <thead>\n",
       "    <tr style=\"text-align: right;\">\n",
       "      <th></th>\n",
       "      <th>Domain</th>\n",
       "      <th>score</th>\n",
       "    </tr>\n",
       "  </thead>\n",
       "  <tbody>\n",
       "    <tr>\n",
       "      <th>0</th>\n",
       "      <td>youtube.com</td>\n",
       "      <td>0.819453</td>\n",
       "    </tr>\n",
       "    <tr>\n",
       "      <th>1</th>\n",
       "      <td>breitbart.com</td>\n",
       "      <td>0.746757</td>\n",
       "    </tr>\n",
       "    <tr>\n",
       "      <th>2</th>\n",
       "      <td>dailymail.co.uk</td>\n",
       "      <td>0.456596</td>\n",
       "    </tr>\n",
       "    <tr>\n",
       "      <th>3</th>\n",
       "      <td>nypost.com</td>\n",
       "      <td>0.452793</td>\n",
       "    </tr>\n",
       "    <tr>\n",
       "      <th>4</th>\n",
       "      <td>nbcnews.com</td>\n",
       "      <td>0.384058</td>\n",
       "    </tr>\n",
       "    <tr>\n",
       "      <th>5</th>\n",
       "      <td>washingtontimes.com</td>\n",
       "      <td>0.359593</td>\n",
       "    </tr>\n",
       "    <tr>\n",
       "      <th>6</th>\n",
       "      <td>washingtonexaminer.com</td>\n",
       "      <td>0.309266</td>\n",
       "    </tr>\n",
       "    <tr>\n",
       "      <th>7</th>\n",
       "      <td>dailycaller.com</td>\n",
       "      <td>0.307947</td>\n",
       "    </tr>\n",
       "    <tr>\n",
       "      <th>8</th>\n",
       "      <td>usatoday.com</td>\n",
       "      <td>0.304253</td>\n",
       "    </tr>\n",
       "    <tr>\n",
       "      <th>9</th>\n",
       "      <td>townhall.com</td>\n",
       "      <td>0.286832</td>\n",
       "    </tr>\n",
       "  </tbody>\n",
       "</table>\n",
       "</div>"
      ],
      "text/plain": [
       "                   Domain     score\n",
       "0             youtube.com  0.819453\n",
       "1           breitbart.com  0.746757\n",
       "2         dailymail.co.uk  0.456596\n",
       "3              nypost.com  0.452793\n",
       "4             nbcnews.com  0.384058\n",
       "5     washingtontimes.com  0.359593\n",
       "6  washingtonexaminer.com  0.309266\n",
       "7         dailycaller.com  0.307947\n",
       "8            usatoday.com  0.304253\n",
       "9            townhall.com  0.286832"
      ]
     },
     "execution_count": 226,
     "metadata": {},
     "output_type": "execute_result"
    }
   ],
   "source": [
    "domain_list=[\"foxnews.com\",\"cnn.com\"]\n",
    "user_ratings=[20,3]\n",
    "model = model_sp20\n",
    "item_user_matrix=domain_user_data_sp20\n",
    "recalculate_user(domain_list,user_ratings,model,item_user_matrix)"
   ]
  }
 ],
 "metadata": {
  "kernelspec": {
   "display_name": "Python 3",
   "language": "python",
   "name": "python3"
  },
  "language_info": {
   "codemirror_mode": {
    "name": "ipython",
    "version": 3
   },
   "file_extension": ".py",
   "mimetype": "text/x-python",
   "name": "python",
   "nbconvert_exporter": "python",
   "pygments_lexer": "ipython3",
   "version": "3.8.1"
  }
 },
 "nbformat": 4,
 "nbformat_minor": 5
}
