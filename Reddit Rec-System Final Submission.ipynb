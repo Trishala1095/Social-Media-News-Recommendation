{
 "cells": [
  {
   "cell_type": "code",
   "execution_count": null,
   "metadata": {},
   "outputs": [],
   "source": [
    "!pip install zstandard"
   ]
  },
  {
   "cell_type": "code",
   "execution_count": 1,
   "metadata": {},
   "outputs": [],
   "source": [
    "#import files\n",
    "import json\n",
    "import zstandard as zstd\n",
    "import tldextract\n",
    "import numpy as np\n",
    "import pandas as pd\n",
    "import scipy.sparse\n",
    "import shutil\n",
    "import pickle\n",
    "import time\n",
    "from scipy.sparse import csr_matrix,coo_matrix\n",
    "from pandas.api.types import CategoricalDtype\n",
    "import random\n",
    "from scipy.sparse.linalg import spsolve\n",
    "import implicit\n",
    "from sklearn import metrics\n",
    "from sklearn.preprocessing import MinMaxScaler\n",
    "import os\n",
    "from sklearn.metrics import ndcg_score,dcg_score\n",
    "os.environ['MKL_NUM_THREADS'] = '1' #To avoid multithreading.\n",
    "os.environ['OPENBLAS_NUM_THREADS'] = '1'"
   ]
  },
  {
   "cell_type": "code",
   "execution_count": 2,
   "metadata": {},
   "outputs": [],
   "source": [
    "#function to save large files\n",
    "#change to protocol 0 for text output\n",
    "def save_obj(obj, file_path_name):\n",
    "    with open(file_path_name + '.pkl', 'wb') as f:\n",
    "        pickle.dump(obj, f, pickle.HIGHEST_PROTOCOL)\n",
    "\n",
    "def load_obj(file_path_name):\n",
    "    with open(file_path_name + '.pkl', 'rb') as f:\n",
    "        return pickle.load(f)"
   ]
  },
  {
   "cell_type": "markdown",
   "metadata": {},
   "source": [
    "## Required Domain List"
   ]
  },
  {
   "cell_type": "code",
   "execution_count": 3,
   "metadata": {},
   "outputs": [],
   "source": [
    "news_domain_df = pd.read_csv(\"/research/cbuntain/projects/recsys.trajectories/datafiles/fb_domain_ideology.csv\", sep=\",\")\n",
    "# shows top 10 rows\n",
    "#print(news_domain_df.head(5))\n",
    "news_domain_list = news_domain_df['domain'].tolist()"
   ]
  },
  {
   "cell_type": "code",
   "execution_count": null,
   "metadata": {},
   "outputs": [],
   "source": [
    "#This function decompresses reddit .zst extention file\n",
    "\n",
    "def decompress_zstandard_to_folder(input_file, output_name):\n",
    "    with open(input_file, 'rb') as compressed:\n",
    "        decomp = zstd.ZstdDecompressor()\n",
    "        with open(output_name, 'wb') as destination:\n",
    "            decomp.copy_stream(compressed, destination)"
   ]
  },
  {
   "cell_type": "code",
   "execution_count": null,
   "metadata": {},
   "outputs": [],
   "source": [
    "decompress_zstandard_to_folder(\"/research/cbuntain/datasets/reddit/RS_2020-04.zst\",\n",
    "                              \"/research/cbuntain/projects/recsys.trajectories/datafiles/Extracted_files/decompressed_reddit.txt\")"
   ]
  },
  {
   "cell_type": "code",
   "execution_count": null,
   "metadata": {},
   "outputs": [],
   "source": [
    "#For Testing\n",
    "f = open('/research/cbuntain/projects/recsys.trajectories/datafiles/Extracted_files/decompressed_reddit.txt', 'r')\n",
    "for i in range(5):\n",
    "    print(f.readline())"
   ]
  },
  {
   "cell_type": "markdown",
   "metadata": {},
   "source": [
    "## Build relations file"
   ]
  },
  {
   "cell_type": "code",
   "execution_count": null,
   "metadata": {},
   "outputs": [],
   "source": [
    " #This function build relations file for reddit decompressed data and extract required news domains using tldextract.\n",
    "\n",
    "def build_relations_file(read_file, write_file):\n",
    "    with open(write_file, 'w') as f:\n",
    "        with open(read_file, 'rb') as fh:\n",
    "            print('trying to read file')\n",
    "            #iterates each line\n",
    "            print('looping')\n",
    "            start_time = time.perf_counter()\n",
    "            num_unshortened_urls = 0\n",
    "            for line in fh:\n",
    "                try:\n",
    "                    object = json.loads(line)\n",
    "                    if not object['is_self']:\n",
    "                        current_domain = tldextract.extract(object['url']).registered_domain.lower()\n",
    "                        if current_domain in news_domain_list:\n",
    "                            num_unshortened_urls += 1\n",
    "                        f.write(current_domain + \" \" + object['subreddit'] + ' ' + object['subreddit_id'] + ' ' + object['author'] + '\\n')\n",
    "                except Exception as e:\n",
    "                    print('read/loop error: ')\n",
    "                    print(e)\n",
    "    print('complete')\n",
    "    print('time: ' , time.perf_counter()-start_time)\n",
    "    print('unshortened ', num_unshortened_urls, ' urls')"
   ]
  },
  {
   "cell_type": "code",
   "execution_count": null,
   "metadata": {},
   "outputs": [],
   "source": [
    "\n",
    "build_relations_file(\"/research/cbuntain/projects/recsys.trajectories/datafiles/Extracted_files/decompressed_reddit.txt\",\"/research/cbuntain/projects/recsys.trajectories/datafiles/Extracted_files/relations_reddit.txt\")"
   ]
  },
  {
   "cell_type": "code",
   "execution_count": 48,
   "metadata": {},
   "outputs": [
    {
     "name": "stdout",
     "output_type": "stream",
     "text": [
      "imgur.com desigentlemanboners t5_254apc shadilal_gharjode\n",
      "\n",
      "redd.it muslimculture t5_12rumi Karlukoyre\n",
      "\n",
      "redd.it Manatees t5_2stjo Bill_Hsomething\n",
      "\n",
      "redd.it BillHsomething t5_3h8mf Bill_Hsomething\n",
      "\n",
      "redd.it marshydrogrowers t5_252c8n marshydrogrow\n",
      "\n",
      "xn--constanamea-ebe.ro gatech t5_2r8t2 robertacordovan\n",
      "\n",
      "redd.it perfectlycutscreams t5_3n7fs Hikararu\n",
      "\n",
      "redd.it aww t5_2qh1o Lilibunny\n",
      "\n",
      "crunchyroll.com u_kfz716 t5_2jbk4y kfz716\n",
      "\n",
      "twitter.com SubofJericho t5_3ib9d sunshine_enema\n",
      "\n"
     ]
    }
   ],
   "source": [
    "#For testing\n",
    "f = open('/research/cbuntain/projects/recsys.trajectories/datafiles/Extracted_files/relations_reddit.txt', 'r')\n",
    "for i in range(10):\n",
    "    print(f.readline())"
   ]
  },
  {
   "cell_type": "markdown",
   "metadata": {},
   "source": [
    "## Creating User-Domain Matrix"
   ]
  },
  {
   "cell_type": "code",
   "execution_count": 4,
   "metadata": {},
   "outputs": [],
   "source": [
    "#Make reddit data dataframe from relations file\n",
    "colnames=['Domain', 'Subreddit', 'Subreddit_id', 'Username']\n",
    "reddit_df = pd.read_csv('/research/cbuntain/projects/recsys.trajectories/datafiles/Extracted_files/relations_reddit.txt', sep=\" \",names = colnames)"
   ]
  },
  {
   "cell_type": "code",
   "execution_count": 5,
   "metadata": {},
   "outputs": [
    {
     "name": "stdout",
     "output_type": "stream",
     "text": [
      "17197609\n",
      "      Domain            Subreddit Subreddit_id           Username\n",
      "0  imgur.com  desigentlemanboners    t5_254apc  shadilal_gharjode\n",
      "1    redd.it        muslimculture    t5_12rumi         Karlukoyre\n",
      "2    redd.it             Manatees     t5_2stjo    Bill_Hsomething\n",
      "3    redd.it       BillHsomething     t5_3h8mf    Bill_Hsomething\n",
      "4    redd.it     marshydrogrowers    t5_252c8n      marshydrogrow\n"
     ]
    }
   ],
   "source": [
    "print(len(reddit_df))\n",
    "print(reddit_df.head(5))"
   ]
  },
  {
   "cell_type": "markdown",
   "metadata": {},
   "source": [
    "### Some basic check on reddit dataframe"
   ]
  },
  {
   "cell_type": "code",
   "execution_count": 6,
   "metadata": {},
   "outputs": [],
   "source": [
    "#reddit_df = reddit_df.drop(columns=['Subreddit', 'Subreddit_id'])\n",
    "reddit_df[\"domain_check\"] = reddit_df['Domain'].isin(news_domain_list)"
   ]
  },
  {
   "cell_type": "code",
   "execution_count": 7,
   "metadata": {},
   "outputs": [
    {
     "data": {
      "text/html": [
       "<div>\n",
       "<style scoped>\n",
       "    .dataframe tbody tr th:only-of-type {\n",
       "        vertical-align: middle;\n",
       "    }\n",
       "\n",
       "    .dataframe tbody tr th {\n",
       "        vertical-align: top;\n",
       "    }\n",
       "\n",
       "    .dataframe thead th {\n",
       "        text-align: right;\n",
       "    }\n",
       "</style>\n",
       "<table border=\"1\" class=\"dataframe\">\n",
       "  <thead>\n",
       "    <tr style=\"text-align: right;\">\n",
       "      <th></th>\n",
       "      <th>Domain</th>\n",
       "      <th>Subreddit</th>\n",
       "      <th>Subreddit_id</th>\n",
       "      <th>Username</th>\n",
       "      <th>domain_check</th>\n",
       "    </tr>\n",
       "  </thead>\n",
       "  <tbody>\n",
       "    <tr>\n",
       "      <th>0</th>\n",
       "      <td>imgur.com</td>\n",
       "      <td>desigentlemanboners</td>\n",
       "      <td>t5_254apc</td>\n",
       "      <td>shadilal_gharjode</td>\n",
       "      <td>True</td>\n",
       "    </tr>\n",
       "    <tr>\n",
       "      <th>1</th>\n",
       "      <td>redd.it</td>\n",
       "      <td>muslimculture</td>\n",
       "      <td>t5_12rumi</td>\n",
       "      <td>Karlukoyre</td>\n",
       "      <td>True</td>\n",
       "    </tr>\n",
       "    <tr>\n",
       "      <th>2</th>\n",
       "      <td>redd.it</td>\n",
       "      <td>Manatees</td>\n",
       "      <td>t5_2stjo</td>\n",
       "      <td>Bill_Hsomething</td>\n",
       "      <td>True</td>\n",
       "    </tr>\n",
       "    <tr>\n",
       "      <th>3</th>\n",
       "      <td>redd.it</td>\n",
       "      <td>BillHsomething</td>\n",
       "      <td>t5_3h8mf</td>\n",
       "      <td>Bill_Hsomething</td>\n",
       "      <td>True</td>\n",
       "    </tr>\n",
       "    <tr>\n",
       "      <th>4</th>\n",
       "      <td>redd.it</td>\n",
       "      <td>marshydrogrowers</td>\n",
       "      <td>t5_252c8n</td>\n",
       "      <td>marshydrogrow</td>\n",
       "      <td>True</td>\n",
       "    </tr>\n",
       "  </tbody>\n",
       "</table>\n",
       "</div>"
      ],
      "text/plain": [
       "      Domain            Subreddit Subreddit_id           Username  \\\n",
       "0  imgur.com  desigentlemanboners    t5_254apc  shadilal_gharjode   \n",
       "1    redd.it        muslimculture    t5_12rumi         Karlukoyre   \n",
       "2    redd.it             Manatees     t5_2stjo    Bill_Hsomething   \n",
       "3    redd.it       BillHsomething     t5_3h8mf    Bill_Hsomething   \n",
       "4    redd.it     marshydrogrowers    t5_252c8n      marshydrogrow   \n",
       "\n",
       "   domain_check  \n",
       "0          True  \n",
       "1          True  \n",
       "2          True  \n",
       "3          True  \n",
       "4          True  "
      ]
     },
     "execution_count": 7,
     "metadata": {},
     "output_type": "execute_result"
    }
   ],
   "source": [
    "reddit_df.head(5)"
   ]
  },
  {
   "cell_type": "code",
   "execution_count": 8,
   "metadata": {},
   "outputs": [
    {
     "data": {
      "text/plain": [
       "True     14213105\n",
       "False     2984504\n",
       "Name: domain_check, dtype: int64"
      ]
     },
     "execution_count": 8,
     "metadata": {},
     "output_type": "execute_result"
    }
   ],
   "source": [
    "#This proves only required domains are used\n",
    "reddit_df.domain_check.value_counts()"
   ]
  },
  {
   "cell_type": "code",
   "execution_count": 9,
   "metadata": {},
   "outputs": [],
   "source": [
    "reddit_df = reddit_df[reddit_df['domain_check'] == True]"
   ]
  },
  {
   "cell_type": "code",
   "execution_count": 10,
   "metadata": {},
   "outputs": [
    {
     "data": {
      "text/plain": [
       "True    14213105\n",
       "Name: domain_check, dtype: int64"
      ]
     },
     "execution_count": 10,
     "metadata": {},
     "output_type": "execute_result"
    }
   ],
   "source": [
    "reddit_df.domain_check.value_counts()"
   ]
  },
  {
   "cell_type": "code",
   "execution_count": 11,
   "metadata": {},
   "outputs": [
    {
     "name": "stdout",
     "output_type": "stream",
     "text": [
      "14213105\n"
     ]
    }
   ],
   "source": [
    "print(len(reddit_df))"
   ]
  },
  {
   "cell_type": "code",
   "execution_count": 12,
   "metadata": {},
   "outputs": [
    {
     "name": "stdout",
     "output_type": "stream",
     "text": [
      "14213105\n"
     ]
    }
   ],
   "source": [
    "#reddit_df = reddit_df.drop_duplicates()\n",
    "reddit_df = reddit_df.drop(columns=['domain_check'])\n",
    "print(len(reddit_df))"
   ]
  },
  {
   "cell_type": "code",
   "execution_count": 4,
   "metadata": {},
   "outputs": [
    {
     "name": "stdout",
     "output_type": "stream",
     "text": [
      "Domain count: 1656\n",
      "Users count: 2625773\n"
     ]
    }
   ],
   "source": [
    "print('Domain count:',len(reddit_df['Domain'].unique().tolist()))\n",
    "print('Users count:',len(reddit_df['Username'].unique().tolist()))"
   ]
  },
  {
   "cell_type": "code",
   "execution_count": 49,
   "metadata": {},
   "outputs": [
    {
     "ename": "NameError",
     "evalue": "name 'reddit_df' is not defined",
     "output_type": "error",
     "traceback": [
      "\u001b[0;31m---------------------------------------------------------------------------\u001b[0m",
      "\u001b[0;31mNameError\u001b[0m                                 Traceback (most recent call last)",
      "\u001b[0;32m<ipython-input-49-f1dc77a81465>\u001b[0m in \u001b[0;36m<module>\u001b[0;34m\u001b[0m\n\u001b[0;32m----> 1\u001b[0;31m \u001b[0mreddit_df\u001b[0m\u001b[0;34m.\u001b[0m\u001b[0mhead\u001b[0m\u001b[0;34m(\u001b[0m\u001b[0;36m5\u001b[0m\u001b[0;34m)\u001b[0m\u001b[0;34m\u001b[0m\u001b[0;34m\u001b[0m\u001b[0m\n\u001b[0m",
      "\u001b[0;31mNameError\u001b[0m: name 'reddit_df' is not defined"
     ]
    }
   ],
   "source": [
    "reddit_df.head(5)"
   ]
  },
  {
   "cell_type": "code",
   "execution_count": 15,
   "metadata": {},
   "outputs": [],
   "source": [
    "#save and load reddit dataframe original\n",
    "save_obj(reddit_df,\"/research/cbuntain/projects/recsys.trajectories/datafiles/Reddit dataframes/reddit_df\")"
   ]
  },
  {
   "cell_type": "code",
   "execution_count": 50,
   "metadata": {},
   "outputs": [],
   "source": [
    "reddit_df = load_obj(\"/research/cbuntain/projects/recsys.trajectories/datafiles/Reddit dataframes/reddit_df\")\n"
   ]
  },
  {
   "cell_type": "code",
   "execution_count": 52,
   "metadata": {},
   "outputs": [],
   "source": [
    "reddit_df= reddit_df.drop(columns=['Subreddit_id','Subreddit'])"
   ]
  },
  {
   "cell_type": "code",
   "execution_count": 53,
   "metadata": {},
   "outputs": [
    {
     "data": {
      "text/html": [
       "<div>\n",
       "<style scoped>\n",
       "    .dataframe tbody tr th:only-of-type {\n",
       "        vertical-align: middle;\n",
       "    }\n",
       "\n",
       "    .dataframe tbody tr th {\n",
       "        vertical-align: top;\n",
       "    }\n",
       "\n",
       "    .dataframe thead th {\n",
       "        text-align: right;\n",
       "    }\n",
       "</style>\n",
       "<table border=\"1\" class=\"dataframe\">\n",
       "  <thead>\n",
       "    <tr style=\"text-align: right;\">\n",
       "      <th></th>\n",
       "      <th>Domain</th>\n",
       "      <th>Username</th>\n",
       "    </tr>\n",
       "  </thead>\n",
       "  <tbody>\n",
       "    <tr>\n",
       "      <th>0</th>\n",
       "      <td>imgur.com</td>\n",
       "      <td>shadilal_gharjode</td>\n",
       "    </tr>\n",
       "    <tr>\n",
       "      <th>1</th>\n",
       "      <td>redd.it</td>\n",
       "      <td>Karlukoyre</td>\n",
       "    </tr>\n",
       "    <tr>\n",
       "      <th>2</th>\n",
       "      <td>redd.it</td>\n",
       "      <td>Bill_Hsomething</td>\n",
       "    </tr>\n",
       "    <tr>\n",
       "      <th>3</th>\n",
       "      <td>redd.it</td>\n",
       "      <td>Bill_Hsomething</td>\n",
       "    </tr>\n",
       "    <tr>\n",
       "      <th>4</th>\n",
       "      <td>redd.it</td>\n",
       "      <td>marshydrogrow</td>\n",
       "    </tr>\n",
       "    <tr>\n",
       "      <th>...</th>\n",
       "      <td>...</td>\n",
       "      <td>...</td>\n",
       "    </tr>\n",
       "    <tr>\n",
       "      <th>17197603</th>\n",
       "      <td>youtube.com</td>\n",
       "      <td>michae1mlke</td>\n",
       "    </tr>\n",
       "    <tr>\n",
       "      <th>17197604</th>\n",
       "      <td>youtube.com</td>\n",
       "      <td>PeggyAnnMcKay</td>\n",
       "    </tr>\n",
       "    <tr>\n",
       "      <th>17197606</th>\n",
       "      <td>youtube.com</td>\n",
       "      <td>[deleted]</td>\n",
       "    </tr>\n",
       "    <tr>\n",
       "      <th>17197607</th>\n",
       "      <td>redd.it</td>\n",
       "      <td>Wolfbeast5672</td>\n",
       "    </tr>\n",
       "    <tr>\n",
       "      <th>17197608</th>\n",
       "      <td>gfycat.com</td>\n",
       "      <td>TrappiNet</td>\n",
       "    </tr>\n",
       "  </tbody>\n",
       "</table>\n",
       "<p>14213105 rows × 2 columns</p>\n",
       "</div>"
      ],
      "text/plain": [
       "               Domain           Username\n",
       "0           imgur.com  shadilal_gharjode\n",
       "1             redd.it         Karlukoyre\n",
       "2             redd.it    Bill_Hsomething\n",
       "3             redd.it    Bill_Hsomething\n",
       "4             redd.it      marshydrogrow\n",
       "...               ...                ...\n",
       "17197603  youtube.com        michae1mlke\n",
       "17197604  youtube.com      PeggyAnnMcKay\n",
       "17197606  youtube.com          [deleted]\n",
       "17197607      redd.it      Wolfbeast5672\n",
       "17197608   gfycat.com          TrappiNet\n",
       "\n",
       "[14213105 rows x 2 columns]"
      ]
     },
     "execution_count": 53,
     "metadata": {},
     "output_type": "execute_result"
    }
   ],
   "source": [
    "reddit_df"
   ]
  },
  {
   "cell_type": "code",
   "execution_count": 54,
   "metadata": {},
   "outputs": [
    {
     "data": {
      "text/plain": [
       "14213105"
      ]
     },
     "execution_count": 54,
     "metadata": {},
     "output_type": "execute_result"
    }
   ],
   "source": [
    "len(reddit_df)"
   ]
  },
  {
   "cell_type": "code",
   "execution_count": 15,
   "metadata": {},
   "outputs": [
    {
     "name": "stdout",
     "output_type": "stream",
     "text": [
      "                     Username        Domain  Value\n",
      "2958218           zzzzzzzztuo  facebook.com      1\n",
      "2958219           zzzzzzzztuo       redd.it      1\n",
      "2958220  zzzzzzzzzzzzccccccgg       redd.it      4\n",
      "2958221  zzzzzzzzzzzzccccccgg    reddit.com      5\n",
      "2958222  zzzzzzzzzzzzvzzzzvzz       redd.it      1\n"
     ]
    }
   ],
   "source": [
    "#counts no of domains shared by each user\n",
    "reddit_count_df = reddit_df.groupby([\"Username\", \"Domain\"]).size().reset_index(name=\"Value\")\n",
    "print(reddit_count_df.tail(5))"
   ]
  },
  {
   "cell_type": "code",
   "execution_count": 16,
   "metadata": {},
   "outputs": [
    {
     "data": {
      "text/plain": [
       "(2958223, 3)"
      ]
     },
     "execution_count": 16,
     "metadata": {},
     "output_type": "execute_result"
    }
   ],
   "source": [
    "reddit_count_df.shape"
   ]
  },
  {
   "cell_type": "code",
   "execution_count": 17,
   "metadata": {},
   "outputs": [],
   "source": [
    "#save and load reddit dataframe\n",
    "save_obj(reddit_count_df,\"/research/cbuntain/projects/recsys.trajectories/datafiles/Reddit dataframes/reddit_count_df\")"
   ]
  },
  {
   "cell_type": "code",
   "execution_count": 3,
   "metadata": {},
   "outputs": [],
   "source": [
    "reddit_count_df = load_obj(\"/research/cbuntain/projects/recsys.trajectories/datafiles/Reddit dataframes/reddit_count_df\")"
   ]
  },
  {
   "cell_type": "code",
   "execution_count": 4,
   "metadata": {},
   "outputs": [
    {
     "data": {
      "text/plain": [
       "2958223"
      ]
     },
     "execution_count": 4,
     "metadata": {},
     "output_type": "execute_result"
    }
   ],
   "source": [
    "len(reddit_count_df)"
   ]
  },
  {
   "cell_type": "code",
   "execution_count": 8,
   "metadata": {},
   "outputs": [
    {
     "name": "stdout",
     "output_type": "stream",
     "text": [
      "Domain count: 1656\n",
      "Users count: 2625773\n"
     ]
    }
   ],
   "source": [
    "print('Domain count:',len(reddit_count_df['Domain'].unique().tolist()))\n",
    "print('Users count:',len(reddit_count_df['Username'].unique().tolist()))"
   ]
  },
  {
   "cell_type": "code",
   "execution_count": null,
   "metadata": {},
   "outputs": [],
   "source": [
    "#check memory of dataframe\n",
    "\n",
    "print(reddit_count_df.memory_usage(deep=True)) \n",
    "\n",
    "BYTES_TO_MB_DIV = 0.000001\n",
    "def print_memory_usage_of_data_frame(df):\n",
    "    mem = round(df.memory_usage().sum() * BYTES_TO_MB_DIV, 3) \n",
    "    print(\"Memory usage is \" + str(mem) + \" MB\")\n",
    "    \n",
    "print_memory_usage_of_data_frame(reddit_count_df)"
   ]
  },
  {
   "cell_type": "markdown",
   "metadata": {},
   "source": [
    "## Create sparse matrix and dataframe"
   ]
  },
  {
   "cell_type": "code",
   "execution_count": 5,
   "metadata": {},
   "outputs": [],
   "source": [
    "def create_sparse_matrix_dataframe(df):\n",
    "    Username_c = CategoricalDtype(sorted(df.Username.unique()), ordered=True)\n",
    "    Domain_c = CategoricalDtype(sorted(df.Domain.unique()), ordered=True)\n",
    "    row = df.Username.astype(Username_c).cat.codes\n",
    "    col = df.Domain.astype(Domain_c).cat.codes\n",
    "    sparse_matrix = csr_matrix((df[\"Value\"], (row, col)), \\\n",
    "                           shape=(Username_c.categories.size, Domain_c.categories.size))\n",
    "    sdf = pd.DataFrame.sparse.from_spmatrix(sparse_matrix,index=Username_c.categories,\n",
    "                         columns=Domain_c.categories,)\n",
    "    return sparse_matrix, sdf"
   ]
  },
  {
   "cell_type": "code",
   "execution_count": 6,
   "metadata": {},
   "outputs": [],
   "source": [
    "#sdf-->sparse dataframe\n",
    "sparse_matrix , sdf = create_sparse_matrix_dataframe(reddit_count_df)"
   ]
  },
  {
   "cell_type": "code",
   "execution_count": 7,
   "metadata": {},
   "outputs": [
    {
     "data": {
      "text/plain": [
       "<2625773x1656 sparse matrix of type '<class 'numpy.longlong'>'\n",
       "\twith 2958223 stored elements in Compressed Sparse Row format>"
      ]
     },
     "execution_count": 7,
     "metadata": {},
     "output_type": "execute_result"
    }
   ],
   "source": [
    "sparse_matrix"
   ]
  },
  {
   "cell_type": "code",
   "execution_count": 8,
   "metadata": {},
   "outputs": [
    {
     "data": {
      "text/html": [
       "<div>\n",
       "<style scoped>\n",
       "    .dataframe tbody tr th:only-of-type {\n",
       "        vertical-align: middle;\n",
       "    }\n",
       "\n",
       "    .dataframe tbody tr th {\n",
       "        vertical-align: top;\n",
       "    }\n",
       "\n",
       "    .dataframe thead th {\n",
       "        text-align: right;\n",
       "    }\n",
       "</style>\n",
       "<table border=\"1\" class=\"dataframe\">\n",
       "  <thead>\n",
       "    <tr style=\"text-align: right;\">\n",
       "      <th></th>\n",
       "      <th>100percentfedup.com</th>\n",
       "      <th>1011now.com</th>\n",
       "      <th>10best.com</th>\n",
       "      <th>10news.com</th>\n",
       "      <th>10tv.com</th>\n",
       "      <th>11alive.com</th>\n",
       "      <th>12news.com</th>\n",
       "      <th>12newsnow.com</th>\n",
       "      <th>12up.com</th>\n",
       "      <th>13abc.com</th>\n",
       "      <th>...</th>\n",
       "      <th>yaleclimateconnections.org</th>\n",
       "      <th>yellowhammernews.com</th>\n",
       "      <th>yesmagazine.org</th>\n",
       "      <th>youngliving.com</th>\n",
       "      <th>yourcentralvalley.com</th>\n",
       "      <th>youredm.com</th>\n",
       "      <th>youtube.com</th>\n",
       "      <th>zerohedge.com</th>\n",
       "      <th>zimbio.com</th>\n",
       "      <th>zinnedproject.org</th>\n",
       "    </tr>\n",
       "  </thead>\n",
       "  <tbody>\n",
       "    <tr>\n",
       "      <th>*polhold00648</th>\n",
       "      <td>0</td>\n",
       "      <td>0</td>\n",
       "      <td>0</td>\n",
       "      <td>0</td>\n",
       "      <td>0</td>\n",
       "      <td>0</td>\n",
       "      <td>0</td>\n",
       "      <td>0</td>\n",
       "      <td>0</td>\n",
       "      <td>0</td>\n",
       "      <td>...</td>\n",
       "      <td>0</td>\n",
       "      <td>0</td>\n",
       "      <td>0</td>\n",
       "      <td>0</td>\n",
       "      <td>0</td>\n",
       "      <td>0</td>\n",
       "      <td>0</td>\n",
       "      <td>0</td>\n",
       "      <td>0</td>\n",
       "      <td>0</td>\n",
       "    </tr>\n",
       "    <tr>\n",
       "      <th>------------------GL</th>\n",
       "      <td>0</td>\n",
       "      <td>0</td>\n",
       "      <td>0</td>\n",
       "      <td>0</td>\n",
       "      <td>0</td>\n",
       "      <td>0</td>\n",
       "      <td>0</td>\n",
       "      <td>0</td>\n",
       "      <td>0</td>\n",
       "      <td>0</td>\n",
       "      <td>...</td>\n",
       "      <td>0</td>\n",
       "      <td>0</td>\n",
       "      <td>0</td>\n",
       "      <td>0</td>\n",
       "      <td>0</td>\n",
       "      <td>0</td>\n",
       "      <td>0</td>\n",
       "      <td>0</td>\n",
       "      <td>0</td>\n",
       "      <td>0</td>\n",
       "    </tr>\n",
       "    <tr>\n",
       "      <th>----------------oops</th>\n",
       "      <td>0</td>\n",
       "      <td>0</td>\n",
       "      <td>0</td>\n",
       "      <td>0</td>\n",
       "      <td>0</td>\n",
       "      <td>0</td>\n",
       "      <td>0</td>\n",
       "      <td>0</td>\n",
       "      <td>0</td>\n",
       "      <td>0</td>\n",
       "      <td>...</td>\n",
       "      <td>0</td>\n",
       "      <td>0</td>\n",
       "      <td>0</td>\n",
       "      <td>0</td>\n",
       "      <td>0</td>\n",
       "      <td>0</td>\n",
       "      <td>0</td>\n",
       "      <td>0</td>\n",
       "      <td>0</td>\n",
       "      <td>0</td>\n",
       "    </tr>\n",
       "    <tr>\n",
       "      <th>-------------EEE</th>\n",
       "      <td>0</td>\n",
       "      <td>0</td>\n",
       "      <td>0</td>\n",
       "      <td>0</td>\n",
       "      <td>0</td>\n",
       "      <td>0</td>\n",
       "      <td>0</td>\n",
       "      <td>0</td>\n",
       "      <td>0</td>\n",
       "      <td>0</td>\n",
       "      <td>...</td>\n",
       "      <td>0</td>\n",
       "      <td>0</td>\n",
       "      <td>0</td>\n",
       "      <td>0</td>\n",
       "      <td>0</td>\n",
       "      <td>0</td>\n",
       "      <td>0</td>\n",
       "      <td>0</td>\n",
       "      <td>0</td>\n",
       "      <td>0</td>\n",
       "    </tr>\n",
       "    <tr>\n",
       "      <th>-------------deleted</th>\n",
       "      <td>0</td>\n",
       "      <td>0</td>\n",
       "      <td>0</td>\n",
       "      <td>0</td>\n",
       "      <td>0</td>\n",
       "      <td>0</td>\n",
       "      <td>0</td>\n",
       "      <td>0</td>\n",
       "      <td>0</td>\n",
       "      <td>0</td>\n",
       "      <td>...</td>\n",
       "      <td>0</td>\n",
       "      <td>0</td>\n",
       "      <td>0</td>\n",
       "      <td>0</td>\n",
       "      <td>0</td>\n",
       "      <td>0</td>\n",
       "      <td>0</td>\n",
       "      <td>0</td>\n",
       "      <td>0</td>\n",
       "      <td>0</td>\n",
       "    </tr>\n",
       "    <tr>\n",
       "      <th>...</th>\n",
       "      <td>...</td>\n",
       "      <td>...</td>\n",
       "      <td>...</td>\n",
       "      <td>...</td>\n",
       "      <td>...</td>\n",
       "      <td>...</td>\n",
       "      <td>...</td>\n",
       "      <td>...</td>\n",
       "      <td>...</td>\n",
       "      <td>...</td>\n",
       "      <td>...</td>\n",
       "      <td>...</td>\n",
       "      <td>...</td>\n",
       "      <td>...</td>\n",
       "      <td>...</td>\n",
       "      <td>...</td>\n",
       "      <td>...</td>\n",
       "      <td>...</td>\n",
       "      <td>...</td>\n",
       "      <td>...</td>\n",
       "      <td>...</td>\n",
       "    </tr>\n",
       "    <tr>\n",
       "      <th>zzzzzzz21</th>\n",
       "      <td>0</td>\n",
       "      <td>0</td>\n",
       "      <td>0</td>\n",
       "      <td>0</td>\n",
       "      <td>0</td>\n",
       "      <td>0</td>\n",
       "      <td>0</td>\n",
       "      <td>0</td>\n",
       "      <td>0</td>\n",
       "      <td>0</td>\n",
       "      <td>...</td>\n",
       "      <td>0</td>\n",
       "      <td>0</td>\n",
       "      <td>0</td>\n",
       "      <td>0</td>\n",
       "      <td>0</td>\n",
       "      <td>0</td>\n",
       "      <td>0</td>\n",
       "      <td>0</td>\n",
       "      <td>0</td>\n",
       "      <td>0</td>\n",
       "    </tr>\n",
       "    <tr>\n",
       "      <th>zzzzzzzzab</th>\n",
       "      <td>0</td>\n",
       "      <td>0</td>\n",
       "      <td>0</td>\n",
       "      <td>0</td>\n",
       "      <td>0</td>\n",
       "      <td>0</td>\n",
       "      <td>0</td>\n",
       "      <td>0</td>\n",
       "      <td>0</td>\n",
       "      <td>0</td>\n",
       "      <td>...</td>\n",
       "      <td>0</td>\n",
       "      <td>0</td>\n",
       "      <td>0</td>\n",
       "      <td>0</td>\n",
       "      <td>0</td>\n",
       "      <td>0</td>\n",
       "      <td>0</td>\n",
       "      <td>0</td>\n",
       "      <td>0</td>\n",
       "      <td>0</td>\n",
       "    </tr>\n",
       "    <tr>\n",
       "      <th>zzzzzzzztuo</th>\n",
       "      <td>0</td>\n",
       "      <td>0</td>\n",
       "      <td>0</td>\n",
       "      <td>0</td>\n",
       "      <td>0</td>\n",
       "      <td>0</td>\n",
       "      <td>0</td>\n",
       "      <td>0</td>\n",
       "      <td>0</td>\n",
       "      <td>0</td>\n",
       "      <td>...</td>\n",
       "      <td>0</td>\n",
       "      <td>0</td>\n",
       "      <td>0</td>\n",
       "      <td>0</td>\n",
       "      <td>0</td>\n",
       "      <td>0</td>\n",
       "      <td>0</td>\n",
       "      <td>0</td>\n",
       "      <td>0</td>\n",
       "      <td>0</td>\n",
       "    </tr>\n",
       "    <tr>\n",
       "      <th>zzzzzzzzzzzzccccccgg</th>\n",
       "      <td>0</td>\n",
       "      <td>0</td>\n",
       "      <td>0</td>\n",
       "      <td>0</td>\n",
       "      <td>0</td>\n",
       "      <td>0</td>\n",
       "      <td>0</td>\n",
       "      <td>0</td>\n",
       "      <td>0</td>\n",
       "      <td>0</td>\n",
       "      <td>...</td>\n",
       "      <td>0</td>\n",
       "      <td>0</td>\n",
       "      <td>0</td>\n",
       "      <td>0</td>\n",
       "      <td>0</td>\n",
       "      <td>0</td>\n",
       "      <td>0</td>\n",
       "      <td>0</td>\n",
       "      <td>0</td>\n",
       "      <td>0</td>\n",
       "    </tr>\n",
       "    <tr>\n",
       "      <th>zzzzzzzzzzzzvzzzzvzz</th>\n",
       "      <td>0</td>\n",
       "      <td>0</td>\n",
       "      <td>0</td>\n",
       "      <td>0</td>\n",
       "      <td>0</td>\n",
       "      <td>0</td>\n",
       "      <td>0</td>\n",
       "      <td>0</td>\n",
       "      <td>0</td>\n",
       "      <td>0</td>\n",
       "      <td>...</td>\n",
       "      <td>0</td>\n",
       "      <td>0</td>\n",
       "      <td>0</td>\n",
       "      <td>0</td>\n",
       "      <td>0</td>\n",
       "      <td>0</td>\n",
       "      <td>0</td>\n",
       "      <td>0</td>\n",
       "      <td>0</td>\n",
       "      <td>0</td>\n",
       "    </tr>\n",
       "  </tbody>\n",
       "</table>\n",
       "<p>2625773 rows × 1656 columns</p>\n",
       "</div>"
      ],
      "text/plain": [
       "                      100percentfedup.com  1011now.com  10best.com  \\\n",
       "*polhold00648                           0            0           0   \n",
       "------------------GL                    0            0           0   \n",
       "----------------oops                    0            0           0   \n",
       "-------------EEE                        0            0           0   \n",
       "-------------deleted                    0            0           0   \n",
       "...                                   ...          ...         ...   \n",
       "zzzzzzz21                               0            0           0   \n",
       "zzzzzzzzab                              0            0           0   \n",
       "zzzzzzzztuo                             0            0           0   \n",
       "zzzzzzzzzzzzccccccgg                    0            0           0   \n",
       "zzzzzzzzzzzzvzzzzvzz                    0            0           0   \n",
       "\n",
       "                      10news.com  10tv.com  11alive.com  12news.com  \\\n",
       "*polhold00648                  0         0            0           0   \n",
       "------------------GL           0         0            0           0   \n",
       "----------------oops           0         0            0           0   \n",
       "-------------EEE               0         0            0           0   \n",
       "-------------deleted           0         0            0           0   \n",
       "...                          ...       ...          ...         ...   \n",
       "zzzzzzz21                      0         0            0           0   \n",
       "zzzzzzzzab                     0         0            0           0   \n",
       "zzzzzzzztuo                    0         0            0           0   \n",
       "zzzzzzzzzzzzccccccgg           0         0            0           0   \n",
       "zzzzzzzzzzzzvzzzzvzz           0         0            0           0   \n",
       "\n",
       "                      12newsnow.com  12up.com  13abc.com  ...  \\\n",
       "*polhold00648                     0         0          0  ...   \n",
       "------------------GL              0         0          0  ...   \n",
       "----------------oops              0         0          0  ...   \n",
       "-------------EEE                  0         0          0  ...   \n",
       "-------------deleted              0         0          0  ...   \n",
       "...                             ...       ...        ...  ...   \n",
       "zzzzzzz21                         0         0          0  ...   \n",
       "zzzzzzzzab                        0         0          0  ...   \n",
       "zzzzzzzztuo                       0         0          0  ...   \n",
       "zzzzzzzzzzzzccccccgg              0         0          0  ...   \n",
       "zzzzzzzzzzzzvzzzzvzz              0         0          0  ...   \n",
       "\n",
       "                      yaleclimateconnections.org  yellowhammernews.com  \\\n",
       "*polhold00648                                  0                     0   \n",
       "------------------GL                           0                     0   \n",
       "----------------oops                           0                     0   \n",
       "-------------EEE                               0                     0   \n",
       "-------------deleted                           0                     0   \n",
       "...                                          ...                   ...   \n",
       "zzzzzzz21                                      0                     0   \n",
       "zzzzzzzzab                                     0                     0   \n",
       "zzzzzzzztuo                                    0                     0   \n",
       "zzzzzzzzzzzzccccccgg                           0                     0   \n",
       "zzzzzzzzzzzzvzzzzvzz                           0                     0   \n",
       "\n",
       "                      yesmagazine.org  youngliving.com  yourcentralvalley.com  \\\n",
       "*polhold00648                       0                0                      0   \n",
       "------------------GL                0                0                      0   \n",
       "----------------oops                0                0                      0   \n",
       "-------------EEE                    0                0                      0   \n",
       "-------------deleted                0                0                      0   \n",
       "...                               ...              ...                    ...   \n",
       "zzzzzzz21                           0                0                      0   \n",
       "zzzzzzzzab                          0                0                      0   \n",
       "zzzzzzzztuo                         0                0                      0   \n",
       "zzzzzzzzzzzzccccccgg                0                0                      0   \n",
       "zzzzzzzzzzzzvzzzzvzz                0                0                      0   \n",
       "\n",
       "                      youredm.com  youtube.com  zerohedge.com  zimbio.com  \\\n",
       "*polhold00648                   0            0              0           0   \n",
       "------------------GL            0            0              0           0   \n",
       "----------------oops            0            0              0           0   \n",
       "-------------EEE                0            0              0           0   \n",
       "-------------deleted            0            0              0           0   \n",
       "...                           ...          ...            ...         ...   \n",
       "zzzzzzz21                       0            0              0           0   \n",
       "zzzzzzzzab                      0            0              0           0   \n",
       "zzzzzzzztuo                     0            0              0           0   \n",
       "zzzzzzzzzzzzccccccgg            0            0              0           0   \n",
       "zzzzzzzzzzzzvzzzzvzz            0            0              0           0   \n",
       "\n",
       "                      zinnedproject.org  \n",
       "*polhold00648                         0  \n",
       "------------------GL                  0  \n",
       "----------------oops                  0  \n",
       "-------------EEE                      0  \n",
       "-------------deleted                  0  \n",
       "...                                 ...  \n",
       "zzzzzzz21                             0  \n",
       "zzzzzzzzab                            0  \n",
       "zzzzzzzztuo                           0  \n",
       "zzzzzzzzzzzzccccccgg                  0  \n",
       "zzzzzzzzzzzzvzzzzvzz                  0  \n",
       "\n",
       "[2625773 rows x 1656 columns]"
      ]
     },
     "execution_count": 8,
     "metadata": {},
     "output_type": "execute_result"
    }
   ],
   "source": [
    "sdf"
   ]
  },
  {
   "cell_type": "code",
   "execution_count": 9,
   "metadata": {},
   "outputs": [],
   "source": [
    "#drop reddit columns from the data \n",
    "list_of_cols_to_drop = ['redd.it','reddit.com']\n",
    "sdf_drop = sdf.drop(list_of_cols_to_drop, axis=1)\n",
    "#sdf_drop is sparse dataframe with no reddit.com and redd.it"
   ]
  },
  {
   "cell_type": "code",
   "execution_count": 10,
   "metadata": {},
   "outputs": [
    {
     "data": {
      "text/plain": [
       "(2625773, 1654)"
      ]
     },
     "execution_count": 10,
     "metadata": {},
     "output_type": "execute_result"
    }
   ],
   "source": [
    "sdf_drop.shape"
   ]
  },
  {
   "cell_type": "code",
   "execution_count": 11,
   "metadata": {},
   "outputs": [
    {
     "name": "stdout",
     "output_type": "stream",
     "text": [
      "Sparsity of Matrix :99.93196797492038\n"
     ]
    }
   ],
   "source": [
    "#calculate sparsity function\n",
    "\n",
    "def sparcity_value(df):\n",
    "    matrix_size = df.shape[0]*df.shape[1] # Number of possible interactions in the matrix\n",
    "    num_domains = len(df.nonzero()[0]) # Number of domains interacted with\n",
    "    sparsity = 100*(1 - (num_domains/matrix_size))\n",
    "    print(\"Sparsity of Matrix :\" + str(sparsity))\n",
    "    \n",
    "sparcity_value(sparse_matrix) "
   ]
  },
  {
   "cell_type": "markdown",
   "metadata": {},
   "source": [
    "## Filtering the sparse dataframe with no of links shared by each user"
   ]
  },
  {
   "cell_type": "code",
   "execution_count": 12,
   "metadata": {},
   "outputs": [
    {
     "data": {
      "text/plain": [
       "Username\n",
       "*polhold00648           1\n",
       "------------------GL    1\n",
       "----------------oops    1\n",
       "-------------EEE        1\n",
       "-------------deleted    1\n",
       "                       ..\n",
       "zzzzzzz21               2\n",
       "zzzzzzzzab              1\n",
       "zzzzzzzztuo             2\n",
       "zzzzzzzzzzzzccccccgg    9\n",
       "zzzzzzzzzzzzvzzzzvzz    1\n",
       "Name: Value, Length: 2625773, dtype: int64"
      ]
     },
     "execution_count": 12,
     "metadata": {},
     "output_type": "execute_result"
    }
   ],
   "source": [
    "#count total link shared by each user\n",
    "shared_links_count  = reddit_count_df.groupby('Username')['Value'].agg(\"sum\")\n",
    "shared_links_count"
   ]
  },
  {
   "cell_type": "code",
   "execution_count": 15,
   "metadata": {},
   "outputs": [],
   "source": [
    "#filter the sdf(sparse dataframe) by no of links shared \n",
    "#sdf_k : k represents no of links shared more than k\n",
    "\n",
    "sdf_1 = sdf.loc[shared_links_count[shared_links_count > 1].index,:] #only to check decrease no of users\n",
    "sdf_5 = sdf.loc[shared_links_count[shared_links_count > 5].index,:]\n",
    "sdf_10 = sdf.loc[shared_links_count[shared_links_count > 10].index,:]\n",
    "sdf_15 = sdf.loc[shared_links_count[shared_links_count > 15].index,:]\n",
    "sdf_20 = sdf.loc[shared_links_count[shared_links_count > 20].index,:]\n",
    "sdf_25 = sdf.loc[shared_links_count[shared_links_count > 25].index,:]"
   ]
  },
  {
   "cell_type": "code",
   "execution_count": 13,
   "metadata": {},
   "outputs": [],
   "source": [
    "sdf_drop_1 = sdf_drop.loc[shared_links_count[shared_links_count > 1].index,:] #only to check decrease no of users\n",
    "sdf_drop_5 = sdf_drop.loc[shared_links_count[shared_links_count > 5].index,:]\n",
    "sdf_drop_10 = sdf_drop.loc[shared_links_count[shared_links_count > 10].index,:]\n",
    "sdf_drop_15 = sdf_drop.loc[shared_links_count[shared_links_count > 15].index,:]\n",
    "sdf_drop_20 = sdf_drop.loc[shared_links_count[shared_links_count > 20].index,:]\n",
    "sdf_drop_25 = sdf_drop.loc[shared_links_count[shared_links_count > 25].index,:]"
   ]
  },
  {
   "cell_type": "code",
   "execution_count": 16,
   "metadata": {},
   "outputs": [
    {
     "name": "stdout",
     "output_type": "stream",
     "text": [
      "Shape of more than 1 link shared User-Domain dataframe :  (1279215, 1656)\n",
      "Shape of more than 5 links shared User-Domain dataframe :  (329921, 1656)\n",
      "Shape of more than 10 links shared User-Domain dataframe :  (147036, 1656)\n",
      "Shape of more than 15 links shared User-Domain dataframe :  (87849, 1656)\n",
      "Shape of more than 20 links shared User-Domain dataframe :  (60171, 1656)\n",
      "Shape of more than 25 links shared User-Domain dataframe :  (44786, 1656)\n"
     ]
    }
   ],
   "source": [
    "print(\"Shape of more than 1 link shared User-Domain dataframe : \",sdf_1.shape)\n",
    "print(\"Shape of more than 5 links shared User-Domain dataframe : \",sdf_5.shape)\n",
    "print(\"Shape of more than 10 links shared User-Domain dataframe : \",sdf_10.shape)\n",
    "print(\"Shape of more than 15 links shared User-Domain dataframe : \",sdf_15.shape)\n",
    "print(\"Shape of more than 20 links shared User-Domain dataframe : \",sdf_20.shape)\n",
    "print(\"Shape of more than 25 links shared User-Domain dataframe : \",sdf_25.shape)"
   ]
  },
  {
   "cell_type": "code",
   "execution_count": 14,
   "metadata": {},
   "outputs": [
    {
     "name": "stdout",
     "output_type": "stream",
     "text": [
      "Shape of more than 1 link shared User-Domain dataframe :  (1279215, 1654)\n",
      "Shape of more than 5 links shared User-Domain dataframe :  (329921, 1654)\n",
      "Shape of more than 10 links shared User-Domain dataframe :  (147036, 1654)\n",
      "Shape of more than 15 links shared User-Domain dataframe :  (87849, 1654)\n",
      "Shape of more than 20 links shared User-Domain dataframe :  (60171, 1654)\n",
      "Shape of more than 25 links shared User-Domain dataframe :  (44786, 1654)\n"
     ]
    }
   ],
   "source": [
    "print(\"Shape of more than 1 link shared User-Domain dataframe : \",sdf_drop_1.shape)\n",
    "print(\"Shape of more than 5 links shared User-Domain dataframe : \",sdf_drop_5.shape)\n",
    "print(\"Shape of more than 10 links shared User-Domain dataframe : \",sdf_drop_10.shape)\n",
    "print(\"Shape of more than 15 links shared User-Domain dataframe : \",sdf_drop_15.shape)\n",
    "print(\"Shape of more than 20 links shared User-Domain dataframe : \",sdf_drop_20.shape)\n",
    "print(\"Shape of more than 25 links shared User-Domain dataframe : \",sdf_drop_25.shape)"
   ]
  },
  {
   "cell_type": "markdown",
   "metadata": {},
   "source": [
    "### Convert different sdf(sparse dataframes) into sparse matrices sp"
   ]
  },
  {
   "cell_type": "code",
   "execution_count": 15,
   "metadata": {},
   "outputs": [],
   "source": [
    "# Sparse matrix creation for filtered sparse dataframe\n",
    "\n",
    "sp5 = scipy.sparse.csr_matrix(sdf_drop_5.values)\n",
    "sp10 = scipy.sparse.csr_matrix(sdf_drop_10.values)\n",
    "sp15 = scipy.sparse.csr_matrix(sdf_drop_15.values)\n",
    "sp20 = scipy.sparse.csr_matrix(sdf_drop_20.values)\n",
    "sp25 = scipy.sparse.csr_matrix(sdf_drop_25.values)"
   ]
  },
  {
   "cell_type": "code",
   "execution_count": 16,
   "metadata": {},
   "outputs": [],
   "source": [
    "file= \"/research/cbuntain/projects/recsys.trajectories/datafiles/Reddit dataframes/\"\n",
    "\n",
    "#the saved sparse matrices are the ones which donot have twitter.com as a domain\n",
    "\n",
    "#save sparse matrix\n",
    "scipy.sparse.save_npz(file+\"sp5.npz\", sp5, compressed=False)\n",
    "scipy.sparse.save_npz(file+\"sp10.npz\", sp10, compressed=False)\n",
    "scipy.sparse.save_npz(file+\"sp15.npz\", sp15, compressed=False)\n",
    "scipy.sparse.save_npz(file+\"sp20.npz\", sp20, compressed=False)\n",
    "scipy.sparse.save_npz(file+\"sp25.npz\", sp25, compressed=False)"
   ]
  },
  {
   "cell_type": "code",
   "execution_count": 17,
   "metadata": {},
   "outputs": [],
   "source": [
    "#loads sparse matrix\n",
    "# sp5 = scipy.sparse.load_npz(file+\"sp5.npz\")\n",
    "# sp10 = scipy.sparse.load_npz(file+\"sp10.npz\")\n",
    "# sp15 = scipy.sparse.load_npz(file+\"sp15.npz\")\n",
    "sp20 = scipy.sparse.load_npz(file+\"sp20.npz\")\n",
    "sp25 = scipy.sparse.load_npz(file+\"sp25.npz\")"
   ]
  },
  {
   "cell_type": "code",
   "execution_count": 18,
   "metadata": {},
   "outputs": [
    {
     "name": "stdout",
     "output_type": "stream",
     "text": [
      "sparcity values\n",
      "Sparcity for sp5\n",
      "Sparsity of Matrix :99.95852566911267\n",
      "Sparcity for sp10\n",
      "Sparsity of Matrix :99.93501003447633\n",
      "Sparcity for sp15\n",
      "Sparsity of Matrix :99.91256983047599\n",
      "Sparcity for sp20\n",
      "Sparsity of Matrix :99.89099486455541\n",
      "Sparcity for sp25\n",
      "Sparsity of Matrix :99.870911032992\n"
     ]
    }
   ],
   "source": [
    "#check sparcity\n",
    "\n",
    "print(\"sparcity values\")\n",
    "\n",
    "print(\"Sparcity for sp5\")\n",
    "sparcity_value(sp5)\n",
    "print(\"Sparcity for sp10\")\n",
    "sparcity_value(sp10)\n",
    "print(\"Sparcity for sp15\")\n",
    "sparcity_value(sp15)\n",
    "print(\"Sparcity for sp20\")\n",
    "sparcity_value(sp20)\n",
    "print(\"Sparcity for sp25\")\n",
    "sparcity_value(sp25)"
   ]
  },
  {
   "cell_type": "markdown",
   "metadata": {},
   "source": [
    "## Code to implement recommendation system¶"
   ]
  },
  {
   "cell_type": "markdown",
   "metadata": {},
   "source": [
    "### Split data into train/test"
   ]
  },
  {
   "cell_type": "code",
   "execution_count": null,
   "metadata": {},
   "outputs": [],
   "source": [
    "'''\n",
    "    This function will take in the original user-item matrix and \"mask\" a percentage of the original ratings where a\n",
    "    user-item interaction has taken place for use as a test set. The test set will contain all of the original ratings, \n",
    "    while the training set replaces the specified percentage of them with a zero in the original ratings matrix. \n",
    "    \n",
    "    parameters: \n",
    "    \n",
    "    ratings - the original ratings matrix from which you want to generate a train/test set. Test is just a complete\n",
    "    copy of the original set. This is in the form of a sparse csr_matrix. \n",
    "    \n",
    "    pct_test - The percentage of user-item interactions where an interaction took place that you want to mask in the \n",
    "    training set for later comparison to the test set, which contains all of the original ratings. \n",
    "    \n",
    "    returns:\n",
    "    \n",
    "    training_set - The altered version of the original data with a certain percentage of the user-item pairs \n",
    "    that originally had interaction set back to zero.\n",
    "    \n",
    "    test_set - A copy of the original ratings matrix, unaltered, so it can be used to see how the rank order \n",
    "    compares with the actual interactions.\n",
    "    \n",
    "    user_inds - From the randomly selected user-item indices, which user rows were altered in the training data.\n",
    "    This will be necessary later when evaluating the performance via AUC.\n",
    "    '''"
   ]
  },
  {
   "cell_type": "code",
   "execution_count": 19,
   "metadata": {},
   "outputs": [],
   "source": [
    "def make_train(ratings, pct_test):\n",
    "   \n",
    "    test_set = ratings.copy() # Make a copy of the original set to be the test set. \n",
    "    test_set[test_set != 0] = 1 # Store the test set as a binary preference matrix\n",
    "    training_set = ratings.copy() # Make a copy of the original data we can alter as our training set. \n",
    "    nonzero_inds = training_set.nonzero() # Find the indices in the ratings data where an interaction exists\n",
    "    nonzero_pairs = list(zip(nonzero_inds[0], nonzero_inds[1])) # Zip these pairs together of user,item index into list\n",
    "    random.seed(0) # Set the random seed to zero for reproducibility\n",
    "    num_samples = int(np.ceil(pct_test*len(nonzero_pairs))) # Round the number of samples needed to the nearest integer\n",
    "    samples = random.sample(nonzero_pairs, num_samples) # Sample a random number of user-item pairs without replacement\n",
    "    user_inds = [index[0] for index in samples] # Get the user row indices\n",
    "    item_inds = [index[1] for index in samples] # Get the item column indices\n",
    "    training_set[user_inds, item_inds] = 0 # Assign all of the randomly chosen user-item pairs to zero\n",
    "    training_set.eliminate_zeros() # Get rid of zeros in sparse array storage after update to save space\n",
    "    return training_set, test_set, list(set(user_inds)) # Output the unique list of user ro"
   ]
  },
  {
   "cell_type": "code",
   "execution_count": 20,
   "metadata": {},
   "outputs": [],
   "source": [
    "#split train/test data for different sp sparse matrix\n",
    "#masking percentage = 20%\n",
    "\n",
    "# train_sp5, test_sp5, item_users_altered_sp5 = make_train(sp5, pct_test = 0.2)\n",
    "# train_sp10, test_sp10, item_users_altered_sp10 = make_train(sp10, pct_test = 0.2)\n",
    "# train_sp15, test_sp15, item_users_altered_sp15 = make_train(sp15, pct_test = 0.2)\n",
    "train_sp20, test_sp20, item_users_altered_sp20 = make_train(sp20, pct_test = 0.2)\n",
    "train_sp25, test_sp25, item_users_altered_sp25 = make_train(sp25, pct_test = 0.2)"
   ]
  },
  {
   "cell_type": "markdown",
   "metadata": {},
   "source": [
    "### Fit ALS model"
   ]
  },
  {
   "cell_type": "code",
   "execution_count": 21,
   "metadata": {},
   "outputs": [],
   "source": [
    "#this function runs als model \n",
    "\n",
    "def train_model(train_dataset):\n",
    "    alpha=15\n",
    "    domain_user_data = (train_dataset*alpha).astype('double')\n",
    "    model = implicit.als.AlternatingLeastSquares(factors=20, regularization = 0.1, iterations = 50)\n",
    "    model.fit(domain_user_data.T)\n",
    "    user_vecs = model.user_factors\n",
    "    item_vecs = model.item_factors\n",
    "    return domain_user_data,model,user_vecs,item_vecs"
   ]
  },
  {
   "cell_type": "code",
   "execution_count": 22,
   "metadata": {},
   "outputs": [
    {
     "data": {
      "application/vnd.jupyter.widget-view+json": {
       "model_id": "73f07b57ba524c9fb635d13c096e12a8",
       "version_major": 2,
       "version_minor": 0
      },
      "text/plain": [
       "HBox(children=(FloatProgress(value=0.0, max=50.0), HTML(value='')))"
      ]
     },
     "metadata": {},
     "output_type": "display_data"
    },
    {
     "name": "stdout",
     "output_type": "stream",
     "text": [
      "\n"
     ]
    },
    {
     "data": {
      "application/vnd.jupyter.widget-view+json": {
       "model_id": "39a48c2bc28e42dcb4b10ffbc1d59f03",
       "version_major": 2,
       "version_minor": 0
      },
      "text/plain": [
       "HBox(children=(FloatProgress(value=0.0, max=50.0), HTML(value='')))"
      ]
     },
     "metadata": {},
     "output_type": "display_data"
    },
    {
     "name": "stdout",
     "output_type": "stream",
     "text": [
      "\n"
     ]
    }
   ],
   "source": [
    "# domain_user_data_sp5, model_sp5, user_vecs_sp5, item_vecs_sp5  = train_model(train_sp5)\n",
    "# domain_user_data_sp10, model_sp10, user_vecs_sp10, item_vecs_sp10  = train_model(train_sp10)\n",
    "# domain_user_data_sp15, model_sp15, user_vecs_sp15, item_vecs_sp15  = train_model(train_sp15)\n",
    "domain_user_data_sp20, model_sp20, user_vecs_sp20, item_vecs_sp20  = train_model(train_sp20)\n",
    "domain_user_data_sp25, model_sp25, user_vecs_sp25, item_vecs_sp25  = train_model(train_sp25)"
   ]
  },
  {
   "cell_type": "markdown",
   "metadata": {},
   "source": [
    "## Evaluation Metrics"
   ]
  },
  {
   "cell_type": "code",
   "execution_count": 79,
   "metadata": {},
   "outputs": [],
   "source": [
    "def auc_score(predictions, test):\n",
    "   \n",
    "    fpr, tpr, thresholds = metrics.roc_curve(test, predictions)\n",
    "    return metrics.auc(fpr, tpr)"
   ]
  },
  {
   "cell_type": "code",
   "execution_count": 80,
   "metadata": {},
   "outputs": [],
   "source": [
    "def calc_auc_ndcg(training_set, altered_users, predictions, test_set):\n",
    "    \n",
    "    start_time = time.perf_counter()\n",
    "    \n",
    "    # create empty lists to store AUC/NDCG for each user that had an item removed from the training set and popularity auc/ndcg\n",
    "    store_auc,popularity_auc,store_ndcg1,store_ndcg2,store_ndcg3,store_ndcg5,store_ndcg10,popularity_ndcg = ([] for i in range(8))\n",
    "    \n",
    "    pop_items = np.array(test_set.sum(axis = 0)).reshape(-1) # Get sum of item iteractions to find most popular\n",
    "    item_vecs = predictions[1]\n",
    "    for user in altered_users: # Iterate through each user that had an item altered\n",
    "        training_row = training_set[user,:].toarray().reshape(-1) # Get the training set row\n",
    "        zero_inds = np.where(training_row == 0) # Find where the interaction had not yet occurred\n",
    "        \n",
    "        # Get the predicted values based on our user/item vectors\n",
    "        user_vec = predictions[0][user,:]\n",
    "        pred = user_vec.dot(item_vecs).toarray()[0,zero_inds].reshape(-1)\n",
    "        \n",
    "        # Get only the items that were originally zero\n",
    "        # Select all ratings from the MF prediction for this user that originally had no iteraction\n",
    "        actual = test_set[user,:].toarray()[0,zero_inds].reshape(-1) \n",
    "        \n",
    "        # Select the binarized yes/no interaction pairs from the original full data\n",
    "        # that align with the same pairs in training \n",
    "        pop = pop_items[zero_inds] # Get the item popularity for our chosen items\n",
    "        \n",
    "        #auc calculation\n",
    "        store_auc.append(auc_score(pred, actual)) # Calculate AUC for the given user and domain\n",
    "        popularity_auc.append(auc_score(pop, actual)) # Calculate AUC using most popular and score\n",
    "        \n",
    "        #ndcg calculation\n",
    "        store_ndcg1.append(ndcg_score([actual],[pred],k = 1)) # Calculate NDCG@1 for the given user and domain\n",
    "        store_ndcg2.append(ndcg_score([actual],[pred],k = 2)) # Calculate NDCG@2 for the given user and domain\n",
    "        store_ndcg3.append(ndcg_score([actual],[pred],k = 3)) # Calculate NDCG@3 for the given user and domain\n",
    "        store_ndcg5.append(ndcg_score([actual],[pred],k = 5)) # Calculate NDCG@4 for the given user and domain\n",
    "        store_ndcg10.append(ndcg_score([actual],[pred],k = 10)) # Calculate NDCG@10 for the given user and domain\n",
    "        popularity_ndcg.append(ndcg_score([actual],[pop],k = 10)) # Calculate NDCG@10 using most popular domains\n",
    "        \n",
    "    # End users iteration\n",
    "   \n",
    "    print('time: ' , time.perf_counter()-start_time)\n",
    "    \n",
    "    return float('%.3f'%np.mean(store_auc)),float('%.3f'%np.mean(popularity_auc)),float('%.3f'%np.mean(store_ndcg1)),float('%.3f'%np.mean(store_ndcg2)),float('%.3f'%np.mean(store_ndcg3)),float('%.3f'%np.mean(store_ndcg5)),float('%.3f'%np.mean(store_ndcg10)),float('%.3f'%np.mean(popularity_ndcg))\n",
    "   \n",
    " # Return the mean AUC/NDCG rounded to three decimal places for both test and popularity benchmark"
   ]
  },
  {
   "cell_type": "code",
   "execution_count": 81,
   "metadata": {},
   "outputs": [
    {
     "name": "stdout",
     "output_type": "stream",
     "text": [
      "AUC/NDCG for sp5 model\n",
      "time:  227.3452535495162\n",
      "(0.677, 0.974, 0.09, 0.1, 0.128, 0.137, 0.149, 0.537)\n",
      "AUC/NDCG for sp10 model\n",
      "time:  137.557955250144\n",
      "(0.579, 0.972, 0.048, 0.06, 0.067, 0.076, 0.091, 0.526)\n",
      "AUC/NDCG for sp15 model\n",
      "time:  98.41729881614447\n",
      "(0.744, 0.969, 0.194, 0.212, 0.22, 0.23, 0.247, 0.516)\n",
      "AUC/NDCG for sp20 model\n",
      "time:  77.77457190304995\n",
      "(0.756, 0.968, 0.231, 0.24, 0.249, 0.26, 0.275, 0.536)\n",
      "AUC/NDCG for sp25 model\n",
      "time:  62.897892728447914\n",
      "(0.771, 0.966, 0.254, 0.265, 0.276, 0.288, 0.305, 0.539)\n"
     ]
    }
   ],
   "source": [
    "print(\"AUC/NDCG for sp5 model\")\n",
    "scores_sp5=calc_auc_ndcg(train_sp5, \n",
    "              item_users_altered_sp5, \n",
    "              [scipy.sparse.csr_matrix(user_vecs_sp5), scipy.sparse.csr_matrix(item_vecs_sp5.T)], \n",
    "              test_sp5)\n",
    "print(scores_sp5)\n",
    "\n",
    "print(\"AUC/NDCG for sp10 model\")\n",
    "scores_sp10=calc_auc_ndcg(train_sp10, \n",
    "              item_users_altered_sp10, \n",
    "              [scipy.sparse.csr_matrix(user_vecs_sp10), scipy.sparse.csr_matrix(item_vecs_sp10.T)], \n",
    "              test_sp10)\n",
    "print(scores_sp10)\n",
    "\n",
    "print(\"AUC/NDCG for sp15 model\")\n",
    "scores_sp15=calc_auc_ndcg(train_sp15, \n",
    "              item_users_altered_sp15, \n",
    "              [scipy.sparse.csr_matrix(user_vecs_sp15), scipy.sparse.csr_matrix(item_vecs_sp15.T)], \n",
    "              test_sp15)\n",
    "print(scores_sp15)\n",
    "\n",
    "print(\"AUC/NDCG for sp20 model\")\n",
    "scores_sp20=calc_auc_ndcg(train_sp20, \n",
    "              item_users_altered_sp20, \n",
    "              [scipy.sparse.csr_matrix(user_vecs_sp20), scipy.sparse.csr_matrix(item_vecs_sp20.T)], \n",
    "              test_sp20)\n",
    "print(scores_sp20)\n",
    "\n",
    "print(\"AUC/NDCG for sp25 model\")\n",
    "scores_sp25=calc_auc_ndcg(train_sp25, \n",
    "              item_users_altered_sp25, \n",
    "              [scipy.sparse.csr_matrix(user_vecs_sp25), scipy.sparse.csr_matrix(item_vecs_sp25.T)], \n",
    "              test_sp25)\n",
    "print(scores_sp25)"
   ]
  },
  {
   "cell_type": "markdown",
   "metadata": {},
   "source": [
    "## Metrices Dataframe"
   ]
  },
  {
   "cell_type": "code",
   "execution_count": 82,
   "metadata": {},
   "outputs": [],
   "source": [
    "scores_list = [scores_sp5,\n",
    "              scores_sp10,\n",
    "              scores_sp15,\n",
    "              scores_sp20,\n",
    "              scores_sp25]\n",
    "cols = ['AUC_Prediction','AUC_Popular','NDCG@1','NDCG@2','NDCG@3','NDCG@5','NDCG@10','NDCG@10 Popular Baseline']\n",
    "metrices_df = pd.DataFrame(scores_list, columns=cols)\n",
    "metrices_df['SP Model']=['SP5','SP10','SP15','SP20','SP25']\n",
    "metrices_df['SP Shape']=[sdf_5.shape,sdf_10.shape,sdf_15.shape,sdf_20.shape,sdf_25.shape]\n"
   ]
  },
  {
   "cell_type": "code",
   "execution_count": 83,
   "metadata": {},
   "outputs": [
    {
     "data": {
      "text/html": [
       "<div>\n",
       "<style scoped>\n",
       "    .dataframe tbody tr th:only-of-type {\n",
       "        vertical-align: middle;\n",
       "    }\n",
       "\n",
       "    .dataframe tbody tr th {\n",
       "        vertical-align: top;\n",
       "    }\n",
       "\n",
       "    .dataframe thead th {\n",
       "        text-align: right;\n",
       "    }\n",
       "</style>\n",
       "<table border=\"1\" class=\"dataframe\">\n",
       "  <thead>\n",
       "    <tr style=\"text-align: right;\">\n",
       "      <th></th>\n",
       "      <th>AUC_Prediction</th>\n",
       "      <th>AUC_Popular</th>\n",
       "      <th>NDCG@1</th>\n",
       "      <th>NDCG@2</th>\n",
       "      <th>NDCG@3</th>\n",
       "      <th>NDCG@5</th>\n",
       "      <th>NDCG@10</th>\n",
       "      <th>NDCG@10 Popular Baseline</th>\n",
       "      <th>SP Model</th>\n",
       "      <th>SP Shape</th>\n",
       "    </tr>\n",
       "  </thead>\n",
       "  <tbody>\n",
       "    <tr>\n",
       "      <th>0</th>\n",
       "      <td>0.677</td>\n",
       "      <td>0.974</td>\n",
       "      <td>0.090</td>\n",
       "      <td>0.100</td>\n",
       "      <td>0.128</td>\n",
       "      <td>0.137</td>\n",
       "      <td>0.149</td>\n",
       "      <td>0.537</td>\n",
       "      <td>SP5</td>\n",
       "      <td>(329921, 1656)</td>\n",
       "    </tr>\n",
       "    <tr>\n",
       "      <th>1</th>\n",
       "      <td>0.579</td>\n",
       "      <td>0.972</td>\n",
       "      <td>0.048</td>\n",
       "      <td>0.060</td>\n",
       "      <td>0.067</td>\n",
       "      <td>0.076</td>\n",
       "      <td>0.091</td>\n",
       "      <td>0.526</td>\n",
       "      <td>SP10</td>\n",
       "      <td>(147036, 1656)</td>\n",
       "    </tr>\n",
       "    <tr>\n",
       "      <th>2</th>\n",
       "      <td>0.744</td>\n",
       "      <td>0.969</td>\n",
       "      <td>0.194</td>\n",
       "      <td>0.212</td>\n",
       "      <td>0.220</td>\n",
       "      <td>0.230</td>\n",
       "      <td>0.247</td>\n",
       "      <td>0.516</td>\n",
       "      <td>SP15</td>\n",
       "      <td>(87849, 1656)</td>\n",
       "    </tr>\n",
       "    <tr>\n",
       "      <th>3</th>\n",
       "      <td>0.756</td>\n",
       "      <td>0.968</td>\n",
       "      <td>0.231</td>\n",
       "      <td>0.240</td>\n",
       "      <td>0.249</td>\n",
       "      <td>0.260</td>\n",
       "      <td>0.275</td>\n",
       "      <td>0.536</td>\n",
       "      <td>SP20</td>\n",
       "      <td>(60171, 1656)</td>\n",
       "    </tr>\n",
       "    <tr>\n",
       "      <th>4</th>\n",
       "      <td>0.771</td>\n",
       "      <td>0.966</td>\n",
       "      <td>0.254</td>\n",
       "      <td>0.265</td>\n",
       "      <td>0.276</td>\n",
       "      <td>0.288</td>\n",
       "      <td>0.305</td>\n",
       "      <td>0.539</td>\n",
       "      <td>SP25</td>\n",
       "      <td>(44786, 1656)</td>\n",
       "    </tr>\n",
       "  </tbody>\n",
       "</table>\n",
       "</div>"
      ],
      "text/plain": [
       "   AUC_Prediction  AUC_Popular  NDCG@1  NDCG@2  NDCG@3  NDCG@5  NDCG@10  \\\n",
       "0           0.677        0.974   0.090   0.100   0.128   0.137    0.149   \n",
       "1           0.579        0.972   0.048   0.060   0.067   0.076    0.091   \n",
       "2           0.744        0.969   0.194   0.212   0.220   0.230    0.247   \n",
       "3           0.756        0.968   0.231   0.240   0.249   0.260    0.275   \n",
       "4           0.771        0.966   0.254   0.265   0.276   0.288    0.305   \n",
       "\n",
       "   NDCG@10 Popular Baseline SP Model        SP Shape  \n",
       "0                     0.537      SP5  (329921, 1656)  \n",
       "1                     0.526     SP10  (147036, 1656)  \n",
       "2                     0.516     SP15   (87849, 1656)  \n",
       "3                     0.536     SP20   (60171, 1656)  \n",
       "4                     0.539     SP25   (44786, 1656)  "
      ]
     },
     "execution_count": 83,
     "metadata": {},
     "output_type": "execute_result"
    }
   ],
   "source": [
    "metrices_df"
   ]
  },
  {
   "cell_type": "code",
   "execution_count": 28,
   "metadata": {},
   "outputs": [
    {
     "data": {
      "image/png": "[encoded data removed]",
      "text/plain": [
       "<Figure size 432x288 with 1 Axes>"
      ]
     },
     "metadata": {
      "needs_background": "light"
     },
     "output_type": "display_data"
    }
   ],
   "source": [
    "import matplotlib.pyplot as plt\n",
    "\n",
    "# gca stands for 'get current axis'\n",
    "ax = plt.gca()\n",
    "ax.set_title(\"NDCG Plot\")\n",
    "metrices_df.plot(kind='line',x='SP Model',y=['NDCG@1','NDCG@2','NDCG@3','NDCG@5','NDCG@10'],ax=ax)\n",
    "plt.show()"
   ]
  },
  {
   "cell_type": "code",
   "execution_count": 29,
   "metadata": {},
   "outputs": [
    {
     "data": {
      "image/png": "[encoded data removed]",
      "text/plain": [
       "<Figure size 432x288 with 1 Axes>"
      ]
     },
     "metadata": {
      "needs_background": "light"
     },
     "output_type": "display_data"
    }
   ],
   "source": [
    "ax = plt.gca()\n",
    "ax.set_title(\"AUC Plot\")\n",
    "metrices_df.plot(kind='line',x='SP Model',y=['AUC_Prediction'],ax=ax)\n",
    "plt.show()"
   ]
  },
  {
   "cell_type": "markdown",
   "metadata": {},
   "source": [
    "## Recommendations"
   ]
  },
  {
   "cell_type": "code",
   "execution_count": 23,
   "metadata": {},
   "outputs": [],
   "source": [
    "item_lookup = reddit_count_df[['Domain']].drop_duplicates() # Only get unique item/description pairs\n",
    "item_lookup['Domain'] = item_lookup.Domain.astype(str)"
   ]
  },
  {
   "cell_type": "code",
   "execution_count": 25,
   "metadata": {},
   "outputs": [],
   "source": [
    "#using sp model 25\n",
    "\n",
    "username_arr = np.array(list(np.sort(sdf_drop_25.index.unique())))\n",
    "domain_arr = np.array(list(np.sort(sdf_drop_25.columns.unique())))"
   ]
  },
  {
   "cell_type": "code",
   "execution_count": 26,
   "metadata": {},
   "outputs": [
    {
     "data": {
      "text/plain": [
       "array(['---DarkValkyrie---', '---HyDrA---', '---TommyBoy---', ...,\n",
       "       'zzz1237', 'zzz500', 'zzztremelo'], dtype='<U20')"
      ]
     },
     "execution_count": 26,
     "metadata": {},
     "output_type": "execute_result"
    }
   ],
   "source": [
    "username_arr"
   ]
  },
  {
   "cell_type": "code",
   "execution_count": 27,
   "metadata": {},
   "outputs": [
    {
     "data": {
      "text/plain": [
       "array(['100percentfedup.com', '1011now.com', '10best.com', ...,\n",
       "       'zerohedge.com', 'zimbio.com', 'zinnedproject.org'], dtype='<U30')"
      ]
     },
     "execution_count": 27,
     "metadata": {},
     "output_type": "execute_result"
    }
   ],
   "source": [
    "domain_arr"
   ]
  },
  {
   "cell_type": "code",
   "execution_count": 28,
   "metadata": {},
   "outputs": [],
   "source": [
    "def get_domains_viewed(customer_id, dataset,customers_list, domain_list,item_lookup):\n",
    "    \n",
    "    '''\n",
    "    dataset: either train or test dataset \n",
    "    '''\n",
    "    \n",
    "    cust_ind = np.where(customers_list == customer_id)[0][0] # Returns the index row of our customer id\n",
    "    \n",
    "    domain_ind = dataset[cust_ind,:].nonzero()[1]# Get column indices of viewed domains\n",
    "    print(domain_ind)\n",
    "    domain_codes = domain_list[domain_ind] # Get the index for viewed domains\n",
    "    return item_lookup.loc[item_lookup.Domain.isin(domain_codes)]"
   ]
  },
  {
   "cell_type": "code",
   "execution_count": 29,
   "metadata": {},
   "outputs": [
    {
     "name": "stdout",
     "output_type": "stream",
     "text": [
      "[470 888]\n"
     ]
    },
    {
     "data": {
      "text/html": [
       "<div>\n",
       "<style scoped>\n",
       "    .dataframe tbody tr th:only-of-type {\n",
       "        vertical-align: middle;\n",
       "    }\n",
       "\n",
       "    .dataframe tbody tr th {\n",
       "        vertical-align: top;\n",
       "    }\n",
       "\n",
       "    .dataframe thead th {\n",
       "        text-align: right;\n",
       "    }\n",
       "</style>\n",
       "<table border=\"1\" class=\"dataframe\">\n",
       "  <thead>\n",
       "    <tr style=\"text-align: right;\">\n",
       "      <th></th>\n",
       "      <th>Domain</th>\n",
       "    </tr>\n",
       "  </thead>\n",
       "  <tbody>\n",
       "    <tr>\n",
       "      <th>876</th>\n",
       "      <td>nationalreview.com</td>\n",
       "    </tr>\n",
       "    <tr>\n",
       "      <th>994</th>\n",
       "      <td>foxnews.com</td>\n",
       "    </tr>\n",
       "  </tbody>\n",
       "</table>\n",
       "</div>"
      ],
      "text/plain": [
       "                 Domain\n",
       "876  nationalreview.com\n",
       "994         foxnews.com"
      ]
     },
     "execution_count": 29,
     "metadata": {},
     "output_type": "execute_result"
    }
   ],
   "source": [
    "get_domains_viewed('-AintThatJustTheWay-', train_sp25, username_arr, domain_arr, item_lookup)"
   ]
  },
  {
   "cell_type": "markdown",
   "metadata": {},
   "source": [
    "### Two ways used to generate the recpmmendations"
   ]
  },
  {
   "cell_type": "markdown",
   "metadata": {},
   "source": [
    "### Method 1: Directly using the implicit library function model.recommend¶"
   ]
  },
  {
   "cell_type": "code",
   "execution_count": 31,
   "metadata": {},
   "outputs": [],
   "source": [
    "def generate_recommendations(user_id,model,domain_user_data,spd,num_items):\n",
    "    '''\n",
    "    model: ALS model\n",
    "    spd: sparse dataframe\n",
    "    \n",
    "    '''\n",
    "    \n",
    "    cust_ind = np.where((np.array(list(np.sort(spd.index.unique())))) == user_id)[0][0] # Returns the index row of our customer id\n",
    "    \n",
    "    #Recommendations\n",
    "    recommended = model.recommend(cust_ind, domain_user_data.T)\n",
    "    \n",
    "    domains = []\n",
    "    scores = []\n",
    "\n",
    "    # Get artist names from ids\n",
    "    for item in recommended:\n",
    "        idx, score = item\n",
    "\n",
    "        domains.append(spd.columns[idx])\n",
    "        scores.append(score)\n",
    "\n",
    "    # Create a dataframe of artist names and scores\n",
    "    recommendations = pd.DataFrame({'Domain': domains, 'score': scores})\n",
    "    return recommendations\n"
   ]
  },
  {
   "cell_type": "code",
   "execution_count": 33,
   "metadata": {},
   "outputs": [
    {
     "data": {
      "text/html": [
       "<div>\n",
       "<style scoped>\n",
       "    .dataframe tbody tr th:only-of-type {\n",
       "        vertical-align: middle;\n",
       "    }\n",
       "\n",
       "    .dataframe tbody tr th {\n",
       "        vertical-align: top;\n",
       "    }\n",
       "\n",
       "    .dataframe thead th {\n",
       "        text-align: right;\n",
       "    }\n",
       "</style>\n",
       "<table border=\"1\" class=\"dataframe\">\n",
       "  <thead>\n",
       "    <tr style=\"text-align: right;\">\n",
       "      <th></th>\n",
       "      <th>Domain</th>\n",
       "      <th>score</th>\n",
       "    </tr>\n",
       "  </thead>\n",
       "  <tbody>\n",
       "    <tr>\n",
       "      <th>0</th>\n",
       "      <td>foxnews.com</td>\n",
       "      <td>0.484736</td>\n",
       "    </tr>\n",
       "    <tr>\n",
       "      <th>1</th>\n",
       "      <td>wikipedia.org</td>\n",
       "      <td>0.420520</td>\n",
       "    </tr>\n",
       "    <tr>\n",
       "      <th>2</th>\n",
       "      <td>nationalreview.com</td>\n",
       "      <td>0.367121</td>\n",
       "    </tr>\n",
       "    <tr>\n",
       "      <th>3</th>\n",
       "      <td>washingtontimes.com</td>\n",
       "      <td>0.366544</td>\n",
       "    </tr>\n",
       "    <tr>\n",
       "      <th>4</th>\n",
       "      <td>washingtonexaminer.com</td>\n",
       "      <td>0.341690</td>\n",
       "    </tr>\n",
       "    <tr>\n",
       "      <th>5</th>\n",
       "      <td>nypost.com</td>\n",
       "      <td>0.304703</td>\n",
       "    </tr>\n",
       "    <tr>\n",
       "      <th>6</th>\n",
       "      <td>breitbart.com</td>\n",
       "      <td>0.299655</td>\n",
       "    </tr>\n",
       "    <tr>\n",
       "      <th>7</th>\n",
       "      <td>dailycaller.com</td>\n",
       "      <td>0.298774</td>\n",
       "    </tr>\n",
       "    <tr>\n",
       "      <th>8</th>\n",
       "      <td>zerohedge.com</td>\n",
       "      <td>0.289845</td>\n",
       "    </tr>\n",
       "    <tr>\n",
       "      <th>9</th>\n",
       "      <td>dailywire.com</td>\n",
       "      <td>0.287073</td>\n",
       "    </tr>\n",
       "  </tbody>\n",
       "</table>\n",
       "</div>"
      ],
      "text/plain": [
       "                   Domain     score\n",
       "0             foxnews.com  0.484736\n",
       "1           wikipedia.org  0.420520\n",
       "2      nationalreview.com  0.367121\n",
       "3     washingtontimes.com  0.366544\n",
       "4  washingtonexaminer.com  0.341690\n",
       "5              nypost.com  0.304703\n",
       "6           breitbart.com  0.299655\n",
       "7         dailycaller.com  0.298774\n",
       "8           zerohedge.com  0.289845\n",
       "9           dailywire.com  0.287073"
      ]
     },
     "execution_count": 33,
     "metadata": {},
     "output_type": "execute_result"
    }
   ],
   "source": [
    "generate_recommendations(\"-AintThatJustTheWay-\",model_sp25,domain_user_data_sp25,sdf_drop_25,10)\n"
   ]
  },
  {
   "cell_type": "markdown",
   "metadata": {},
   "source": [
    "### Method 2: User defined way to calculate --> To get the actual score we take the dot product between the trained user vector and the transpose of the item vectors.¶"
   ]
  },
  {
   "cell_type": "code",
   "execution_count": 34,
   "metadata": {},
   "outputs": [],
   "source": [
    "def rec_items(customer_id, mf_train, user_vecs, item_vecs, customer_list, item_list, num_items = 10):\n",
    " \n",
    "    \n",
    "    '''\n",
    "    This function will return the top recommended items to our users \n",
    "    \n",
    "    parameters:\n",
    "    \n",
    "    customer_id - Input the customer's id number that you want to get recommendations for\n",
    "    \n",
    "    mf_train - The training matrix you used for matrix factorization fitting\n",
    "    \n",
    "    user_vecs - the user vectors from your fitted matrix factorization\n",
    "    \n",
    "    item_vecs - the item vectors from your fitted matrix factorization\n",
    "    \n",
    "    customer_list - an array of the customer's ID numbers that make up the rows of your ratings matrix \n",
    "                    (in order of matrix)\n",
    "    \n",
    "    item_list - an array of the domains that make up the columns of your ratings matrix\n",
    "                    (in order of matrix)\n",
    "    \n",
    "    \n",
    "    num_items - The number of domains you want to recommend in order of best recommendations. Default is 10. \n",
    "    \n",
    "    returns:\n",
    "    \n",
    "    - The top n recommendations chosen based on the user/item vectors for items never interacted with/purchased\n",
    "    '''\n",
    "    \n",
    "    \n",
    "    \n",
    "    cust_ind = np.where(customer_list == customer_id)[0][0] # Returns the index row of our customer id\n",
    "    \n",
    "    pref_vec = mf_train[cust_ind,:].toarray() # Get the ratings from the training set ratings matrix\n",
    "    pref_vec = pref_vec.reshape(-1) + 1 # Add 1 to everything, so that domains not used yet become equal to 1\n",
    "    pref_vec[pref_vec > 1] = 0 # Make everything already used zero\n",
    "\n",
    "    \n",
    "    rec_vector = user_vecs[cust_ind,:].dot(item_vecs.T) # Get dot product of user vector and all item vectors\n",
    "    # Scale this recommendation vector between 0 and 1\n",
    "    min_max = MinMaxScaler()\n",
    "    rec_vector_scaled = min_max.fit_transform(rec_vector.reshape(-1,1))[:,0] \n",
    "    \n",
    "  \n",
    "    recommend_vector = pref_vec*rec_vector_scaled \n",
    "    \n",
    "\n",
    "    # domains already used have their recommendation multiplied by zero\n",
    "    product_idx = np.argsort(recommend_vector)[::-1][:num_items] # Sort the indices of the domains into order \n",
    "    #print(product_idx)\n",
    "    \n",
    "    # of best recommendations\n",
    "    rec_list = [] # start empty list to store items\n",
    "    similairty_scores = []\n",
    "    for index in product_idx:\n",
    "        code = item_list[index]\n",
    "        rec_list.append([code]) \n",
    "        similairty_scores.append(recommend_vector[index])\n",
    "        \n",
    "    codes = [item[0] for item in rec_list]\n",
    "    final_frame = pd.DataFrame({'Domain': codes,'Score':similairty_scores}) # Create a dataframe\n",
    "    print(\"Recommended domains for the user\")\n",
    "    return final_frame # Switch order of columns around"
   ]
  },
  {
   "cell_type": "code",
   "execution_count": 35,
   "metadata": {},
   "outputs": [
    {
     "name": "stdout",
     "output_type": "stream",
     "text": [
      "Recommended domains for the user\n"
     ]
    },
    {
     "data": {
      "text/html": [
       "<div>\n",
       "<style scoped>\n",
       "    .dataframe tbody tr th:only-of-type {\n",
       "        vertical-align: middle;\n",
       "    }\n",
       "\n",
       "    .dataframe tbody tr th {\n",
       "        vertical-align: top;\n",
       "    }\n",
       "\n",
       "    .dataframe thead th {\n",
       "        text-align: right;\n",
       "    }\n",
       "</style>\n",
       "<table border=\"1\" class=\"dataframe\">\n",
       "  <thead>\n",
       "    <tr style=\"text-align: right;\">\n",
       "      <th></th>\n",
       "      <th>Domain</th>\n",
       "      <th>Score</th>\n",
       "    </tr>\n",
       "  </thead>\n",
       "  <tbody>\n",
       "    <tr>\n",
       "      <th>0</th>\n",
       "      <td>wikipedia.org</td>\n",
       "      <td>0.923170</td>\n",
       "    </tr>\n",
       "    <tr>\n",
       "      <th>1</th>\n",
       "      <td>washingtontimes.com</td>\n",
       "      <td>0.858591</td>\n",
       "    </tr>\n",
       "    <tr>\n",
       "      <th>2</th>\n",
       "      <td>washingtonexaminer.com</td>\n",
       "      <td>0.828855</td>\n",
       "    </tr>\n",
       "    <tr>\n",
       "      <th>3</th>\n",
       "      <td>nypost.com</td>\n",
       "      <td>0.784602</td>\n",
       "    </tr>\n",
       "    <tr>\n",
       "      <th>4</th>\n",
       "      <td>breitbart.com</td>\n",
       "      <td>0.778563</td>\n",
       "    </tr>\n",
       "    <tr>\n",
       "      <th>5</th>\n",
       "      <td>dailycaller.com</td>\n",
       "      <td>0.777508</td>\n",
       "    </tr>\n",
       "    <tr>\n",
       "      <th>6</th>\n",
       "      <td>zerohedge.com</td>\n",
       "      <td>0.766825</td>\n",
       "    </tr>\n",
       "    <tr>\n",
       "      <th>7</th>\n",
       "      <td>dailywire.com</td>\n",
       "      <td>0.763509</td>\n",
       "    </tr>\n",
       "    <tr>\n",
       "      <th>8</th>\n",
       "      <td>abc.net.au</td>\n",
       "      <td>0.741134</td>\n",
       "    </tr>\n",
       "    <tr>\n",
       "      <th>9</th>\n",
       "      <td>cbsnews.com</td>\n",
       "      <td>0.729903</td>\n",
       "    </tr>\n",
       "  </tbody>\n",
       "</table>\n",
       "</div>"
      ],
      "text/plain": [
       "                   Domain     Score\n",
       "0           wikipedia.org  0.923170\n",
       "1     washingtontimes.com  0.858591\n",
       "2  washingtonexaminer.com  0.828855\n",
       "3              nypost.com  0.784602\n",
       "4           breitbart.com  0.778563\n",
       "5         dailycaller.com  0.777508\n",
       "6           zerohedge.com  0.766825\n",
       "7           dailywire.com  0.763509\n",
       "8              abc.net.au  0.741134\n",
       "9             cbsnews.com  0.729903"
      ]
     },
     "execution_count": 35,
     "metadata": {},
     "output_type": "execute_result"
    }
   ],
   "source": [
    "rec_items(\"-AintThatJustTheWay-\", test_sp25, user_vecs_sp25, item_vecs_sp25, username_arr, domain_arr,\n",
    "                       num_items = 10)"
   ]
  },
  {
   "cell_type": "markdown",
   "metadata": {},
   "source": [
    "### Trying some other implicit libarary function"
   ]
  },
  {
   "cell_type": "markdown",
   "metadata": {},
   "source": [
    "#### model.similar_items()"
   ]
  },
  {
   "cell_type": "code",
   "execution_count": 36,
   "metadata": {},
   "outputs": [
    {
     "data": {
      "text/plain": [
       "(array([470]),)"
      ]
     },
     "execution_count": 36,
     "metadata": {},
     "output_type": "execute_result"
    }
   ],
   "source": [
    "#get the index of domain\n",
    "np.where(domain_arr == \"foxnews.com\")"
   ]
  },
  {
   "cell_type": "code",
   "execution_count": 39,
   "metadata": {},
   "outputs": [
    {
     "data": {
      "text/plain": [
       "'fivethirtyeight.com'"
      ]
     },
     "execution_count": 39,
     "metadata": {},
     "output_type": "execute_result"
    }
   ],
   "source": [
    "domain_arr[415]"
   ]
  },
  {
   "cell_type": "code",
   "execution_count": 38,
   "metadata": {},
   "outputs": [
    {
     "name": "stdout",
     "output_type": "stream",
     "text": [
      "fivethirtyeight.com 1.0\n",
      "gothamist.com 0.8058401\n",
      "freep.com 0.77285\n",
      "startribune.com 0.7460014\n",
      "politifact.com 0.7417874\n",
      "factcheck.org 0.7402863\n",
      "rollcall.com 0.7368478\n",
      "mlive.com 0.7313178\n",
      "dailydot.com 0.72339636\n",
      "navytimes.com 0.69796664\n"
     ]
    }
   ],
   "source": [
    "similar = model_sp25.similar_items(415, 10)\n",
    "\n",
    "# Print the names of our most similar domains\n",
    "for item in similar:\n",
    "    idx, score = item\n",
    "    print(sdf_drop_25.columns[idx],score)"
   ]
  },
  {
   "cell_type": "markdown",
   "metadata": {},
   "source": [
    "#### model.similar_users()"
   ]
  },
  {
   "cell_type": "code",
   "execution_count": 40,
   "metadata": {},
   "outputs": [
    {
     "data": {
      "text/plain": [
       "(array([21]),)"
      ]
     },
     "execution_count": 40,
     "metadata": {},
     "output_type": "execute_result"
    }
   ],
   "source": [
    "#get the index of user\n",
    "np.where(username_arr == \"-AintThatJustTheWay-\")"
   ]
  },
  {
   "cell_type": "code",
   "execution_count": 41,
   "metadata": {},
   "outputs": [
    {
     "name": "stdout",
     "output_type": "stream",
     "text": [
      "-AintThatJustTheWay- 0.99999994\n",
      "Wifeofwes 0.9411754\n",
      "franandwood 0.9411754\n",
      "Igottagitgud 0.9411754\n",
      "kieranscoffee 0.9405008\n",
      "CapitolHillLifer 0.91042364\n",
      "ZoltanCobalt 0.89818656\n",
      "Dlace64 0.8946737\n",
      "Tarrock 0.88000435\n",
      "milkshay 0.8783422\n"
     ]
    }
   ],
   "source": [
    "similar_user = model_sp25.similar_users(21, 10)\n",
    "\n",
    "# Print the names of our most similar domains\n",
    "for item in similar_user:\n",
    "    idx, score = item\n",
    "    print(sdf_drop_25.index[idx],score)"
   ]
  },
  {
   "cell_type": "markdown",
   "metadata": {},
   "source": [
    "### model.recommend_all()"
   ]
  },
  {
   "cell_type": "code",
   "execution_count": 42,
   "metadata": {},
   "outputs": [
    {
     "data": {
      "application/vnd.jupyter.widget-view+json": {
       "model_id": "bb5f0233a4184c3881e5257a7a0eb3f0",
       "version_major": 2,
       "version_minor": 0
      },
      "text/plain": [
       "HBox(children=(FloatProgress(value=0.0, max=44786.0), HTML(value='')))"
      ]
     },
     "metadata": {},
     "output_type": "display_data"
    },
    {
     "name": "stdout",
     "output_type": "stream",
     "text": [
      "\n"
     ]
    }
   ],
   "source": [
    "#this function helps in getting top N recommendations for every user\n",
    "\n",
    "recommendations_complete = model_sp25.recommend_all(domain_user_data_sp25,10)\n",
    "    \n",
    "domains = []\n",
    "\n",
    "# Get domain names from ids\n",
    "for item in recommendations_complete:\n",
    "    idx = item\n",
    "    domains.append(sdf_drop_25.columns[idx])\n",
    "\n",
    "# Create a dataframe of domains names\n",
    "# print(pd.DataFrame({'Domain': domains}))\n",
    "all_users_recommendations_df = pd.DataFrame(sdf_drop_25.index,columns=['Username'])\n",
    "all_users_recommendations_df[['rec1', 'rec2', 'rec3', 'rec4', 'rec5', 'rec6', 'rec7', 'rec8', 'rec9', 'rec10']] = domains"
   ]
  },
  {
   "cell_type": "code",
   "execution_count": 43,
   "metadata": {},
   "outputs": [
    {
     "data": {
      "text/html": [
       "<div>\n",
       "<style scoped>\n",
       "    .dataframe tbody tr th:only-of-type {\n",
       "        vertical-align: middle;\n",
       "    }\n",
       "\n",
       "    .dataframe tbody tr th {\n",
       "        vertical-align: top;\n",
       "    }\n",
       "\n",
       "    .dataframe thead th {\n",
       "        text-align: right;\n",
       "    }\n",
       "</style>\n",
       "<table border=\"1\" class=\"dataframe\">\n",
       "  <thead>\n",
       "    <tr style=\"text-align: right;\">\n",
       "      <th></th>\n",
       "      <th>Username</th>\n",
       "      <th>rec1</th>\n",
       "      <th>rec2</th>\n",
       "      <th>rec3</th>\n",
       "      <th>rec4</th>\n",
       "      <th>rec5</th>\n",
       "      <th>rec6</th>\n",
       "      <th>rec7</th>\n",
       "      <th>rec8</th>\n",
       "      <th>rec9</th>\n",
       "      <th>rec10</th>\n",
       "    </tr>\n",
       "  </thead>\n",
       "  <tbody>\n",
       "    <tr>\n",
       "      <th>0</th>\n",
       "      <td>---DarkValkyrie---</td>\n",
       "      <td>12up.com</td>\n",
       "      <td>13abc.com</td>\n",
       "      <td>10tv.com</td>\n",
       "      <td>12newsnow.com</td>\n",
       "      <td>11alive.com</td>\n",
       "      <td>10news.com</td>\n",
       "      <td>1011now.com</td>\n",
       "      <td>100percentfedup.com</td>\n",
       "      <td>10best.com</td>\n",
       "      <td>12news.com</td>\n",
       "    </tr>\n",
       "    <tr>\n",
       "      <th>1</th>\n",
       "      <td>---HyDrA---</td>\n",
       "      <td>12up.com</td>\n",
       "      <td>13abc.com</td>\n",
       "      <td>10tv.com</td>\n",
       "      <td>12newsnow.com</td>\n",
       "      <td>11alive.com</td>\n",
       "      <td>10news.com</td>\n",
       "      <td>1011now.com</td>\n",
       "      <td>100percentfedup.com</td>\n",
       "      <td>10best.com</td>\n",
       "      <td>12news.com</td>\n",
       "    </tr>\n",
       "    <tr>\n",
       "      <th>2</th>\n",
       "      <td>---TommyBoy---</td>\n",
       "      <td>twitter.com</td>\n",
       "      <td>imgur.com</td>\n",
       "      <td>spotify.com</td>\n",
       "      <td>foxnews.com</td>\n",
       "      <td>gfycat.com</td>\n",
       "      <td>reuters.com</td>\n",
       "      <td>nytimes.com</td>\n",
       "      <td>wikipedia.org</td>\n",
       "      <td>cnn.com</td>\n",
       "      <td>independent.co.uk</td>\n",
       "    </tr>\n",
       "    <tr>\n",
       "      <th>3</th>\n",
       "      <td>--0--o-</td>\n",
       "      <td>youtube.com</td>\n",
       "      <td>twitter.com</td>\n",
       "      <td>tumblr.com</td>\n",
       "      <td>giphy.com</td>\n",
       "      <td>foxnews.com</td>\n",
       "      <td>instagram.com</td>\n",
       "      <td>cnbc.com</td>\n",
       "      <td>pinimg.com</td>\n",
       "      <td>businessinsider.com</td>\n",
       "      <td>reuters.com</td>\n",
       "    </tr>\n",
       "    <tr>\n",
       "      <th>4</th>\n",
       "      <td>--Anarchaeopteryx--</td>\n",
       "      <td>apple.com</td>\n",
       "      <td>variety.com</td>\n",
       "      <td>forbes.com</td>\n",
       "      <td>youtube.com</td>\n",
       "      <td>twitter.com</td>\n",
       "      <td>hollywoodreporter.com</td>\n",
       "      <td>arstechnica.com</td>\n",
       "      <td>theverge.com</td>\n",
       "      <td>seattletimes.com</td>\n",
       "      <td>rollingstone.com</td>\n",
       "    </tr>\n",
       "    <tr>\n",
       "      <th>...</th>\n",
       "      <td>...</td>\n",
       "      <td>...</td>\n",
       "      <td>...</td>\n",
       "      <td>...</td>\n",
       "      <td>...</td>\n",
       "      <td>...</td>\n",
       "      <td>...</td>\n",
       "      <td>...</td>\n",
       "      <td>...</td>\n",
       "      <td>...</td>\n",
       "      <td>...</td>\n",
       "    </tr>\n",
       "    <tr>\n",
       "      <th>44781</th>\n",
       "      <td>zzreact696</td>\n",
       "      <td>12up.com</td>\n",
       "      <td>13abc.com</td>\n",
       "      <td>10tv.com</td>\n",
       "      <td>12newsnow.com</td>\n",
       "      <td>11alive.com</td>\n",
       "      <td>10news.com</td>\n",
       "      <td>1011now.com</td>\n",
       "      <td>100percentfedup.com</td>\n",
       "      <td>10best.com</td>\n",
       "      <td>12news.com</td>\n",
       "    </tr>\n",
       "    <tr>\n",
       "      <th>44782</th>\n",
       "      <td>zzyzx66</td>\n",
       "      <td>twitter.com</td>\n",
       "      <td>gfycat.com</td>\n",
       "      <td>spotify.com</td>\n",
       "      <td>foxnews.com</td>\n",
       "      <td>nytimes.com</td>\n",
       "      <td>reuters.com</td>\n",
       "      <td>amazon.com</td>\n",
       "      <td>wikipedia.org</td>\n",
       "      <td>cnn.com</td>\n",
       "      <td>nbcnews.com</td>\n",
       "    </tr>\n",
       "    <tr>\n",
       "      <th>44783</th>\n",
       "      <td>zzz1237</td>\n",
       "      <td>twitter.com</td>\n",
       "      <td>imgur.com</td>\n",
       "      <td>spotify.com</td>\n",
       "      <td>foxnews.com</td>\n",
       "      <td>gfycat.com</td>\n",
       "      <td>reuters.com</td>\n",
       "      <td>nytimes.com</td>\n",
       "      <td>wikipedia.org</td>\n",
       "      <td>cnn.com</td>\n",
       "      <td>independent.co.uk</td>\n",
       "    </tr>\n",
       "    <tr>\n",
       "      <th>44784</th>\n",
       "      <td>zzz500</td>\n",
       "      <td>gfycat.com</td>\n",
       "      <td>twitter.com</td>\n",
       "      <td>youtube.com</td>\n",
       "      <td>amazon.com</td>\n",
       "      <td>tumblr.com</td>\n",
       "      <td>twimg.com</td>\n",
       "      <td>latimes.com</td>\n",
       "      <td>nytimes.com</td>\n",
       "      <td>giphy.com</td>\n",
       "      <td>cbslocal.com</td>\n",
       "    </tr>\n",
       "    <tr>\n",
       "      <th>44785</th>\n",
       "      <td>zzztremelo</td>\n",
       "      <td>imgur.com</td>\n",
       "      <td>youtube.com</td>\n",
       "      <td>giphy.com</td>\n",
       "      <td>tumblr.com</td>\n",
       "      <td>twitter.com</td>\n",
       "      <td>foxnews.com</td>\n",
       "      <td>politico.com</td>\n",
       "      <td>bbc.com</td>\n",
       "      <td>cnbc.com</td>\n",
       "      <td>vox.com</td>\n",
       "    </tr>\n",
       "  </tbody>\n",
       "</table>\n",
       "<p>44786 rows × 11 columns</p>\n",
       "</div>"
      ],
      "text/plain": [
       "                  Username         rec1         rec2         rec3  \\\n",
       "0       ---DarkValkyrie---     12up.com    13abc.com     10tv.com   \n",
       "1              ---HyDrA---     12up.com    13abc.com     10tv.com   \n",
       "2           ---TommyBoy---  twitter.com    imgur.com  spotify.com   \n",
       "3                  --0--o-  youtube.com  twitter.com   tumblr.com   \n",
       "4      --Anarchaeopteryx--    apple.com  variety.com   forbes.com   \n",
       "...                    ...          ...          ...          ...   \n",
       "44781           zzreact696     12up.com    13abc.com     10tv.com   \n",
       "44782              zzyzx66  twitter.com   gfycat.com  spotify.com   \n",
       "44783              zzz1237  twitter.com    imgur.com  spotify.com   \n",
       "44784               zzz500   gfycat.com  twitter.com  youtube.com   \n",
       "44785           zzztremelo    imgur.com  youtube.com    giphy.com   \n",
       "\n",
       "                rec4         rec5                   rec6             rec7  \\\n",
       "0      12newsnow.com  11alive.com             10news.com      1011now.com   \n",
       "1      12newsnow.com  11alive.com             10news.com      1011now.com   \n",
       "2        foxnews.com   gfycat.com            reuters.com      nytimes.com   \n",
       "3          giphy.com  foxnews.com          instagram.com         cnbc.com   \n",
       "4        youtube.com  twitter.com  hollywoodreporter.com  arstechnica.com   \n",
       "...              ...          ...                    ...              ...   \n",
       "44781  12newsnow.com  11alive.com             10news.com      1011now.com   \n",
       "44782    foxnews.com  nytimes.com            reuters.com       amazon.com   \n",
       "44783    foxnews.com   gfycat.com            reuters.com      nytimes.com   \n",
       "44784     amazon.com   tumblr.com              twimg.com      latimes.com   \n",
       "44785     tumblr.com  twitter.com            foxnews.com     politico.com   \n",
       "\n",
       "                      rec8                 rec9              rec10  \n",
       "0      100percentfedup.com           10best.com         12news.com  \n",
       "1      100percentfedup.com           10best.com         12news.com  \n",
       "2            wikipedia.org              cnn.com  independent.co.uk  \n",
       "3               pinimg.com  businessinsider.com        reuters.com  \n",
       "4             theverge.com     seattletimes.com   rollingstone.com  \n",
       "...                    ...                  ...                ...  \n",
       "44781  100percentfedup.com           10best.com         12news.com  \n",
       "44782        wikipedia.org              cnn.com        nbcnews.com  \n",
       "44783        wikipedia.org              cnn.com  independent.co.uk  \n",
       "44784          nytimes.com            giphy.com       cbslocal.com  \n",
       "44785              bbc.com             cnbc.com            vox.com  \n",
       "\n",
       "[44786 rows x 11 columns]"
      ]
     },
     "execution_count": 43,
     "metadata": {},
     "output_type": "execute_result"
    }
   ],
   "source": [
    "all_users_recommendations_df"
   ]
  },
  {
   "cell_type": "code",
   "execution_count": 44,
   "metadata": {},
   "outputs": [],
   "source": [
    "#save and load all users recommendations dataframe\n",
    "save_obj(all_users_recommendations_df,\"/research/cbuntain/projects/recsys.trajectories/datafiles/Reddit dataframes/all_users_recommendations_df\")\n"
   ]
  },
  {
   "cell_type": "markdown",
   "metadata": {},
   "source": [
    "## Generate Recommendations for new users"
   ]
  },
  {
   "cell_type": "code",
   "execution_count": 45,
   "metadata": {},
   "outputs": [],
   "source": [
    "def recalculate_user(domain_list,user_ratings,model,item_user_matrix):\n",
    "    '''adds new user and its liked items to sparse matrix and returns recalculated recommendations\n",
    "    \n",
    "    domain_list: array of domains that new user wants to rate\n",
    "    user_ratings: array to ratings to respective domains\n",
    "    model: ALS model\n",
    "    item_user_matrix: A sparse matrix of shape (number_users, number_items). \n",
    "    \n",
    "    '''\n",
    "\n",
    "    alpha = 15\n",
    "    m =item_user_matrix\n",
    "    n_users, n_movies = m.shape\n",
    "\n",
    "    ratings = [element * alpha for element in user_ratings]\n",
    "    #print(ratings)\n",
    "    \n",
    "    indx =(domain_arr[:, None] == domain_list).argmax(axis=0)\n",
    "    #print(idx)\n",
    "\n",
    "    m.data = np.hstack((m.data, ratings))\n",
    "    m.indices = np.hstack((m.indices, indx))\n",
    "    m.indptr = np.hstack((m.indptr, len(m.data)))\n",
    "    m._shape = (n_users+1, n_movies)\n",
    "\n",
    "    # recommend N items to new user\n",
    "    \n",
    "    recommended =  model.recommend(n_users, m, recalculate_user=True)\n",
    "    domains = []\n",
    "    scores = []\n",
    "    for item in recommended:\n",
    "        idx, score = item\n",
    "\n",
    "        domains.append(sdf_drop_25.columns[idx])\n",
    "        scores.append(score)\n",
    "\n",
    "    # Create a dataframe of artist names and scores\n",
    "    recommendations = pd.DataFrame({'Domain': domains, 'score': scores})\n",
    "    return recommendations"
   ]
  },
  {
   "cell_type": "code",
   "execution_count": 47,
   "metadata": {},
   "outputs": [
    {
     "data": {
      "text/html": [
       "<div>\n",
       "<style scoped>\n",
       "    .dataframe tbody tr th:only-of-type {\n",
       "        vertical-align: middle;\n",
       "    }\n",
       "\n",
       "    .dataframe tbody tr th {\n",
       "        vertical-align: top;\n",
       "    }\n",
       "\n",
       "    .dataframe thead th {\n",
       "        text-align: right;\n",
       "    }\n",
       "</style>\n",
       "<table border=\"1\" class=\"dataframe\">\n",
       "  <thead>\n",
       "    <tr style=\"text-align: right;\">\n",
       "      <th></th>\n",
       "      <th>Domain</th>\n",
       "      <th>score</th>\n",
       "    </tr>\n",
       "  </thead>\n",
       "  <tbody>\n",
       "    <tr>\n",
       "      <th>0</th>\n",
       "      <td>reuters.com</td>\n",
       "      <td>0.746269</td>\n",
       "    </tr>\n",
       "    <tr>\n",
       "      <th>1</th>\n",
       "      <td>bbc.com</td>\n",
       "      <td>0.726120</td>\n",
       "    </tr>\n",
       "    <tr>\n",
       "      <th>2</th>\n",
       "      <td>theguardian.com</td>\n",
       "      <td>0.720634</td>\n",
       "    </tr>\n",
       "    <tr>\n",
       "      <th>3</th>\n",
       "      <td>nytimes.com</td>\n",
       "      <td>0.703788</td>\n",
       "    </tr>\n",
       "    <tr>\n",
       "      <th>4</th>\n",
       "      <td>twitter.com</td>\n",
       "      <td>0.700300</td>\n",
       "    </tr>\n",
       "    <tr>\n",
       "      <th>5</th>\n",
       "      <td>independent.co.uk</td>\n",
       "      <td>0.650666</td>\n",
       "    </tr>\n",
       "    <tr>\n",
       "      <th>6</th>\n",
       "      <td>washingtonpost.com</td>\n",
       "      <td>0.585149</td>\n",
       "    </tr>\n",
       "    <tr>\n",
       "      <th>7</th>\n",
       "      <td>wikipedia.org</td>\n",
       "      <td>0.569016</td>\n",
       "    </tr>\n",
       "    <tr>\n",
       "      <th>8</th>\n",
       "      <td>thehill.com</td>\n",
       "      <td>0.556480</td>\n",
       "    </tr>\n",
       "    <tr>\n",
       "      <th>9</th>\n",
       "      <td>nbcnews.com</td>\n",
       "      <td>0.553439</td>\n",
       "    </tr>\n",
       "  </tbody>\n",
       "</table>\n",
       "</div>"
      ],
      "text/plain": [
       "               Domain     score\n",
       "0         reuters.com  0.746269\n",
       "1             bbc.com  0.726120\n",
       "2     theguardian.com  0.720634\n",
       "3         nytimes.com  0.703788\n",
       "4         twitter.com  0.700300\n",
       "5   independent.co.uk  0.650666\n",
       "6  washingtonpost.com  0.585149\n",
       "7       wikipedia.org  0.569016\n",
       "8         thehill.com  0.556480\n",
       "9         nbcnews.com  0.553439"
      ]
     },
     "execution_count": 47,
     "metadata": {},
     "output_type": "execute_result"
    }
   ],
   "source": [
    "domain_list=[\"foxnews.com\",\"cnn.com\"]\n",
    "user_ratings=[2,3]\n",
    "model = model_sp25\n",
    "item_user_matrix=domain_user_data_sp25\n",
    "recalculate_user(domain_list,user_ratings,model,item_user_matrix)"
   ]
  },
  {
   "cell_type": "code",
   "execution_count": null,
   "metadata": {},
   "outputs": [],
   "source": []
  }
 ],
 "metadata": {
  "kernelspec": {
   "display_name": "Python 3",
   "language": "python",
   "name": "python3"
  },
  "language_info": {
   "codemirror_mode": {
    "name": "ipython",
    "version": 3
   },
   "file_extension": ".py",
   "mimetype": "text/x-python",
   "name": "python",
   "nbconvert_exporter": "python",
   "pygments_lexer": "ipython3",
   "version": "3.8.1"
  }
 },
 "nbformat": 4,
 "nbformat_minor": 5
}
